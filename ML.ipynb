{
 "cells": [
  {
   "cell_type": "code",
   "execution_count": null,
   "metadata": {},
   "outputs": [],
   "source": [
    "import tensorflow as tf\n",
    "from tensorflow import keras\n",
    "import CO2_functions\n",
    "import CO2_Processing\n",
    "import pandas as pd\n",
    "from CO2_functions import *\n",
    "from CO2_Processing import *\n",
    "import matplotlib.pyplot as plt\n",
    "import pickle\n",
    "import numpy as np\n",
    "import sklearn\n",
    "from sklearn import preprocessing\n",
    "from sklearn.model_selection import GridSearchCV\n",
    "from keras.models import Sequential\n",
    "from keras.layers import Dense, LSTM, Dropout\n",
    "import os\n",
    "from keras.models import model_from_json\n",
    "import json"
   ]
  },
  {
   "cell_type": "code",
   "execution_count": null,
   "metadata": {},
   "outputs": [],
   "source": [
    "import importlib\n",
    "importlib.reload(CO2_functions)\n",
    "importlib.reload(CO2_Processing)\n",
    "\n",
    "from CO2_functions import *\n",
    "from CO2_Processing import *"
   ]
  },
  {
   "cell_type": "code",
   "execution_count": null,
   "metadata": {},
   "outputs": [],
   "source": [
    "#Get the data from CHPC\n",
    "data_orig = retrieve_data_from_folder('../CO2_Data_Final','2019-11-06','2019-11-06')"
   ]
  },
  {
   "cell_type": "code",
   "execution_count": null,
   "metadata": {},
   "outputs": [],
   "source": [
    "data = remove_spikes(pd.read_pickle('Spike_ETs.pkl'),data_orig) #remove impulses to prevent skew\n",
    "data = downsample_and_concatenate(data) #sample each instrument to its respective sampling rate such that everything is equally sampled after correcting DT\n",
    "#data = sept24_26_correction(data) #add vent vel when not monitored (instrument off)\n",
    "data = combine_vent_data(data,1) #Combine LI_Vent and Vent_Anem_Temp into a single df by sampling rate \n",
    "data['Vent_Mass'] = moving_mass_flow(data['Vent_Mass']) #Add the moving mass flow rate based on function developed. "
   ]
  },
  {
   "cell_type": "code",
   "execution_count": null,
   "metadata": {},
   "outputs": [],
   "source": [
    "#Processing for position 4\n",
    "data_orig = retrieve_data_from_folder('../CO2_Data_Final','2019-09-24','2019-10-03')\n",
    "data = remove_spikes(pd.read_pickle('Spike_ETs.pkl'),data_orig) #remove impulses to prevent skew\n",
    "data = downsample_and_concatenate(data) #sample each instrument to its respective sampling rate such that everything is equally sampled after correcting DT\n",
    "data = sept24_26_correction(data) #add vent vel when not monitored (instrument off)\n",
    "data = combine_vent_data(data,1) #Combine LI_Vent and Vent_Anem_Temp into a single df by sampling rate \n",
    "data['Vent_Mass'] = moving_mass_flow(data['Vent_Mass']) #Add the moving mass flow rate based on function developed. \n",
    "data['Vent_Mass'] = pd.concat([\\\n",
    "data['Vent_Mass'].loc[(data['Vent_Mass'].index>'2019-09-24 08:57:00')&(data['Vent_Mass'].index<'2019-09-26 08:00:00')],\\\n",
    "data['Vent_Mass'].loc[(data['Vent_Mass'].index>'2019-09-26 12:00:00')&(data['Vent_Mass'].index<'2019-10-03 13:00:00')].interpolate()])"
   ]
  },
  {
   "cell_type": "code",
   "execution_count": null,
   "metadata": {},
   "outputs": [],
   "source": [
    "#Processing for position 6\n",
    "data_orig = retrieve_data_from_folder('../CO2_Data_Final','2019-11-06','2019-11-27')\n",
    "data = remove_spikes(pd.read_pickle('Spike_ETs.pkl'),data_orig) #remove impulses to prevent skew\n",
    "data = downsample_and_concatenate(data) #sample each instrument to its respective sampling rate such that everything is equally sampled after correcting DT\n",
    "data = combine_vent_data(data,1) #Combine LI_Vent and Vent_Anem_Temp into a single df by sampling rate \n",
    "data['Vent_Mass'] = moving_mass_flow(data['Vent_Mass']) #Add the moving mass flow rate based on function developed. \n",
    "for key in data:\n",
    "    data[key] = pd.concat([\\\n",
    "                               data[key].loc[(data[key].index>'2019-11-06 00:00:00')&(data[key].index<'2019-11-25 12:00:00')],\\\n",
    "                               data[key].loc[(data[key].index>'2019-11-25 17:00:00')&(data[key].index<'2019-11-27 10:28:00')]])\n"
   ]
  },
  {
   "cell_type": "code",
   "execution_count": null,
   "metadata": {},
   "outputs": [],
   "source": [
    "#Clip the picarro and vent_mass data frames to a specific region of interest\n",
    "\n",
    "#tower_id = 'Multi'\n",
    "tower_id = 'Picarro'\n",
    "\n",
    "\n",
    "if tower_id == 'Multi':\n",
    "    tower,vent = plot_refinement_all([[data[tower_id],'Corrected_DT','CO2_3'],\\\n",
    "                                    [data['Vent_Mass'],'Corrected_DT','m_dot']],\\\n",
    "                                   'separate')\n",
    "elif tower_id == 'Picarro':\n",
    "    tower,vent = plot_refinement_all([[data[tower_id],'Corrected_DT','Pic_CO2'],\\\n",
    "                                [data['Vent_Mass'],'Corrected_DT','m_dot']],\\\n",
    "                               'separate')\n",
    "else:\n",
    "    print('pick a valid tower')"
   ]
  },
  {
   "cell_type": "code",
   "execution_count": null,
   "metadata": {},
   "outputs": [],
   "source": [
    "#Apply a moving average and downsample\n",
    "#Numbers of seconds\n",
    "tower_proc = dwn_sample(tower,100)\n",
    "vent_proc = dwn_sample(vent,100)"
   ]
  },
  {
   "cell_type": "code",
   "execution_count": null,
   "metadata": {},
   "outputs": [],
   "source": [
    "#Concatenate and add wind speed & direction\n",
    "df = pd.concat([tower_proc,vent_proc],axis=1)\n",
    "if tower_id == 'Picarro':\n",
    "    df = wind_add(df,'ANEM_X','ANEM_Y')"
   ]
  },
  {
   "cell_type": "code",
   "execution_count": null,
   "metadata": {},
   "outputs": [],
   "source": [
    "#Take only necessary columns\n",
    "if tower_id == 'Picarro':\n",
    "    cols = ['Pic_CO2', 'ANEM_Y', 'ANEM_X', 'ANEM_Z', 'm_dot', 'wd', 'ws']\n",
    "elif tower_id == 'Multi':\n",
    "    cols = ['CO2_1', 'CO2_2', 'CO2_3', 'Wind_Velocity', 'Wind_Direction', 'm_dot']\n",
    "    \n",
    "df = df[cols]\n",
    "\n",
    "#Make mass flux the last column\n",
    "loc = df.columns.get_loc('m_dot')\n",
    "cols = df.columns.tolist()\n",
    "cols = cols[0:loc]+cols[(loc+1):]+[cols[loc]]\n",
    "df = df[cols]"
   ]
  },
  {
   "cell_type": "code",
   "execution_count": null,
   "metadata": {},
   "outputs": [],
   "source": [
    "#TIME LAG\n",
    "df_to_use = df\n",
    "\n",
    "n_seconds = 3 #how many periods to lag\n",
    "n_features= len(df_to_use.columns)-1 #how many features exist in the feature matrix (number of cols - target col)\n",
    "time_lagged = series_to_supervised(df_to_use,n_in=0,n_out=n_seconds,dropnan=False) #lag function\n",
    "time_lagged_reframed = delete_unwanted_cols(time_lagged) #delete unneccesary columns\n",
    "\n",
    "\n",
    "#Make mass flux at t the last column\n",
    "loc = time_lagged_reframed.columns.get_loc('m_dot(t)')\n",
    "\n",
    "cols = time_lagged_reframed.columns.tolist()\n",
    "cols = cols[0:loc]+cols[(loc+1):]+[cols[loc]]\n",
    "time_lagged_reframed = time_lagged_reframed[cols]\n",
    "\n",
    "time_lagged_reframed"
   ]
  },
  {
   "cell_type": "code",
   "execution_count": null,
   "metadata": {},
   "outputs": [],
   "source": [
    "plot_refinement_all([[time_lagged,'Corrected_DT','Pic_CO2(t+1)'],[df,'Corrected_DT','Pic_CO2'],[time_lagged_reframed,'Corrected_DT','Pic_CO2(t+6)']],'stack')"
   ]
  },
  {
   "cell_type": "code",
   "execution_count": null,
   "metadata": {},
   "outputs": [],
   "source": [
    "plot_refinement_all([[df,'Corrected_DT','Pic_CO2'],[df,'Corrected_DT','ws'],[df,'Corrected_DT','wd'],[df,'Corrected_DT','m_dot']],'separate')"
   ]
  },
  {
   "cell_type": "code",
   "execution_count": null,
   "metadata": {},
   "outputs": [],
   "source": [
    "values = time_lagged_reframed.dropna().values #Convert to numpy for processing\n",
    "min_max_scalar = preprocessing.MinMaxScaler() #setup scaling\n",
    "values_scaled = min_max_scalar.fit_transform(values) #scale all values from 0 to 1\n",
    "\n",
    "#Set train size. Because time is a factor, we do not choose randomly, but chronologically\n",
    "percent_train = 0.6\n",
    "train_size = int(len(values)*percent_train) \n",
    "\n",
    "train = values_scaled[:train_size,:]  #Get train/test arrays\n",
    "test = values_scaled[train_size:,:]\n",
    "\n",
    "X_train,y_train = train[:,:-1], train[:,-1] #Get feature/target arrays\n",
    "X_test, y_test = test[:,:-1], test[:,-1]\n",
    "\n",
    "#Store shapes prior to 3D reshape such that they can be \"unreshaped\" and unscaled for representative fit/test plotting\n",
    "orig_X_train_shape = X_train.shape\n",
    "orig_X_test_shape = X_test.shape\n",
    "orig_y_train_shape = y_train.shape\n",
    "orig_y_test_shape = y_test.shape\n",
    "\n",
    "X_train = X_train.reshape((X_train.shape[0], n_seconds, n_features)) \n",
    "X_test = X_test.reshape((X_test.shape[0], n_seconds, n_features))\n",
    "print(X_train.shape, y_train.shape, X_test.shape, y_test.shape)"
   ]
  },
  {
   "cell_type": "code",
   "execution_count": null,
   "metadata": {},
   "outputs": [],
   "source": [
    "#Gridsearch\n",
    "\n",
    "from sklearn.model_selection import GridSearchCV\n",
    "from keras.models import Sequential\n",
    "from keras.layers import Dense, LSTM, Dropout\n",
    "\n",
    "\n",
    "from keras.wrappers.scikit_learn import KerasClassifier\n",
    "\n",
    "def create_model():\n",
    "    def rmse(y_true, y_pred):\n",
    "        from keras import backend\n",
    "        return backend.sqrt(backend.mean(backend.square(y_pred - y_true), axis=-1))\n",
    "    def r_square(y_true, y_pred):\n",
    "        from keras import backend as K\n",
    "        SS_res =  K.sum(K.square(y_true - y_pred)) \n",
    "        SS_tot = K.sum(K.square(y_true - K.mean(y_true))) \n",
    "        return (1 - SS_res/(SS_tot + K.epsilon()))\n",
    "    model = Sequential()\n",
    "    model.add(LSTM(128,activation='relu'))\n",
    "    model.add(Dropout(0.2))\n",
    "    model.add(Dense(1,activation = 'sigmoid'))\n",
    "    opt = tf.keras.optimizers.Adam(lr=1e-3,decay=1e-5)\n",
    "\n",
    "    model.compile(loss='mse',optimizer=opt,metrics=['accuracy'])\n",
    "    \n",
    "    return model\n",
    "\n",
    "model = KerasClassifier(build_fn=create_model,verbose=10)\n",
    "\n",
    "batch_size = [5,10,20,50,100]\n",
    "epochs = [1,5]\n",
    "\n",
    "param_grid = dict(batch_size=batch_size, epochs=epochs)\n",
    "grid = GridSearchCV(estimator=model, param_grid=param_grid, n_jobs=1, cv=3,verbose=10)\n",
    "grid_result = grid.fit(X_train, y_train,verbose=False)\n",
    "\n",
    "print(\"Best: %f using %s\" % (grid_result.best_score_, grid_result.best_params_))\n",
    "means = grid_result.cv_results_['mean_test_score']\n",
    "stds = grid_result.cv_results_['std_test_score']\n",
    "params = grid_result.cv_results_['params']\n",
    "for mean, stdev, param in zip(means, stds, params):\n",
    "    print(\"%f (%f) with: %r\" % (mean, stdev, param))"
   ]
  },
  {
   "cell_type": "code",
   "execution_count": null,
   "metadata": {},
   "outputs": [],
   "source": [
    "# root mean squared error (rmse) for regression\n",
    "def rmse(y_true, y_pred):\n",
    "    from keras import backend\n",
    "    return backend.sqrt(backend.mean(backend.square(y_pred - y_true), axis=-1))\n",
    "def r_square(y_true, y_pred):\n",
    "    from keras import backend as K\n",
    "    SS_res =  K.sum(K.square(y_true - y_pred)) \n",
    "    SS_tot = K.sum(K.square(y_true - K.mean(y_true))) \n",
    "    return (1 - SS_res/(SS_tot + K.epsilon()))\n",
    "\n",
    "#Train Model\n",
    "model = Sequential()\n",
    "model.add(LSTM(128,activation='relu'))\n",
    "model.add(Dropout(0.2))\n",
    "model.add(Dense(1,activation = 'sigmoid'))\n",
    "opt = tf.keras.optimizers.Adam(lr=1e-3,decay=1e-5)\n",
    "\n",
    "model.compile(loss='mse',optimizer=opt,metrics=[\"mean_squared_error\", rmse, r_square])\n",
    "history = model.fit(X_train,y_train,epochs=5,batch_size=20,validation_data=(X_test,y_test))"
   ]
  },
  {
   "cell_type": "code",
   "execution_count": null,
   "metadata": {},
   "outputs": [],
   "source": [
    "#Write out model\n",
    "name = 'test'\n",
    "\n",
    "hist_df = pd.DataFrame(history.history)\n",
    "model_json = model.to_json()\n",
    "with open(\"ML_Models/{}_model.json\".format(name), \"w\") as json_file:\n",
    "    json_file.write(model_json)\n",
    "model.save_weights(\"ML_Models/{}_model.h5\".format(name))\n",
    "with open('ML_Models/{}_hist.json'.format(name), 'w') as f:\n",
    "    hist_df.to_json(f)\n",
    "print(\"Saved model to disk\")"
   ]
  },
  {
   "cell_type": "markdown",
   "metadata": {},
   "source": [
    "# DEVELOPMENT \n",
    "________________________\n",
    "# VIEWING"
   ]
  },
  {
   "cell_type": "code",
   "execution_count": null,
   "metadata": {},
   "outputs": [],
   "source": [
    "#Read in model\n",
    "path = 'ML_Models/BS20E10'\n",
    "\n",
    "json_file = open('{}.json'.format(path), 'r')\n",
    "loaded_model_json = json_file.read()\n",
    "json_file.close()\n",
    "loaded_model = model_from_json(loaded_model_json)\n",
    "loaded_model.load_weights(\"{}.h5\".format(path))\n",
    "#history = pd.read_json(\"{}_hist.json\".format(path))\n",
    "print(\"Loaded model from disk\")"
   ]
  },
  {
   "cell_type": "code",
   "execution_count": null,
   "metadata": {},
   "outputs": [],
   "source": [
    "#Get train/test\n",
    "feature_columns = ['Pic_CO2','ANEM_X','ANEM_Y','ANEM_Z','wd','ws']\n",
    "downsample_sec = 600\n",
    "periods_to_lag = 1\n",
    "tower = 'Picarro'\n",
    "position_number = 4\n",
    "train_percent = 0.6\n",
    "\n",
    "X_train,X_test,y_train,y_test,min_max_scalar,orig_X_train_shape\\\n",
    ",orig_X_test_shape,orig_y_train_shape,orig_y_test_shape = \\\n",
    "\\\n",
    "process_for_ML_test(feature_columns,downsample_sec,periods_to_lag,tower,position_number,train_percent)"
   ]
  },
  {
   "cell_type": "code",
   "execution_count": null,
   "metadata": {},
   "outputs": [],
   "source": [
    "# root mean squared error (rmse) for regression\n",
    "def rmse(y_true, y_pred):\n",
    "    from keras import backend\n",
    "    return backend.sqrt(backend.mean(backend.square(y_pred - y_true), axis=-1))\n",
    "def r_square(y_true, y_pred):\n",
    "    from keras import backend as K\n",
    "    SS_res =  K.sum(K.square(y_true - y_pred)) \n",
    "    SS_tot = K.sum(K.square(y_true - K.mean(y_true))) \n",
    "    return (1 - SS_res/(SS_tot + K.epsilon()))\n",
    "\n",
    "#Train Model\n",
    "model = Sequential()\n",
    "model.add(LSTM(128,activation='relu'))\n",
    "model.add(Dropout(0.2))\n",
    "model.add(Dense(1,activation = 'sigmoid'))\n",
    "opt = tf.keras.optimizers.Adam(lr=1e-3,decay=1e-5)\n",
    "\n",
    "model.compile(loss='mse',optimizer=opt,metrics=[\"mean_squared_error\", rmse, r_square])\n",
    "history = model.fit(X_train,y_train,epochs=5,batch_size=20,validation_data=(X_test,y_test))"
   ]
  },
  {
   "cell_type": "code",
   "execution_count": null,
   "metadata": {},
   "outputs": [],
   "source": [
    "hist_df = pd.DataFrame(history.history)\n",
    "plt.plot(hist_df['rmse'])\n",
    "#plt.plot(history['val_accuracy'])\n",
    "#plt.plot(history['loss'])\n",
    "#plt.plot(history['val_loss'])"
   ]
  },
  {
   "cell_type": "code",
   "execution_count": null,
   "metadata": {},
   "outputs": [],
   "source": [
    "y_fit = model.predict(X_test) #fit to x_test\n",
    "\n",
    "#Return to original data shape and scale\n",
    "X_test_original_shape = X_test.reshape(orig_X_test_shape) #reshape from 3d time\n",
    "y_test_original_shape = y_test.reshape(orig_y_test_shape)#reshape from 3d time \n",
    "\n",
    "merged_tests = np.concatenate((X_test_original_shape,y_test_original_shape[:,None]),axis=1) #concat X and y\n",
    "unscaled_test = pd.DataFrame(min_max_scalar.inverse_transform(merged_tests)).iloc[:,-1] #unscale using declared scalar\n",
    "\n",
    "y_fit_original_shape = y_fit.reshape(orig_y_test_shape)\n",
    "merged_tests = np.concatenate((X_test_original_shape,y_fit_original_shape[:,None]),axis=1)\n",
    "unscaled_fit = pd.DataFrame(min_max_scalar.inverse_transform(merged_tests)).iloc[:,-1]\n",
    "\n",
    "#Put into pandas df\n",
    "comparison = pd.concat([unscaled_test,unscaled_fit],axis=1)\n",
    "comparison.columns = ['test','fit']\n",
    "\n",
    "\n",
    "#PLOT PREDICTED VS OBSERVED\n",
    "fig, ax = plt.subplots(figsize = (20,10))\n",
    "# ax.plot(y_fit,label='ML_Fit_to_Test')\n",
    "# ax.plot(y_test,label='Actual_Test_Data')\n",
    "\n",
    "roll = 1\n",
    "\n",
    "ax.plot(comparison['fit'].rolling(roll).mean(),label='ML_Predicted')\n",
    "ax.plot(comparison['test'].rolling(roll).mean(),label='Actual_Test_Data')\n",
    "\n",
    "ax.set_xlabel('Time (s)',fontsize=16)\n",
    "ax.set_ylabel('Mass Flow from Vent (g/s)',fontsize=16)\n",
    "ax.tick_params(axis='both', which='major', labelsize=16)\n",
    "\n",
    "\n",
    "ax.legend(fontsize=16)\n",
    "plt.show()"
   ]
  },
  {
   "cell_type": "code",
   "execution_count": null,
   "metadata": {},
   "outputs": [],
   "source": [
    "def create_model(learn_rate=0.01,activation='relu',dropout_rate=0.0,neurons=128):\n",
    "\n",
    "    model = Sequential()\n",
    "    model.add(LSTM(neurons,activation=activation))\n",
    "    model.add(Dropout(dropout_rate))\n",
    "    model.add(Dense(1,activation = 'sigmoid'))\n",
    "    opt = tf.keras.optimizers.Adam(lr=learn_rate,decay=1e-5)\n",
    "\n",
    "    model.compile(loss='mse',optimizer=opt,metrics=['mean_squared_error'])\n",
    "    \n",
    "    return model\n",
    "\n",
    "\n"
   ]
  },
  {
   "cell_type": "code",
   "execution_count": null,
   "metadata": {},
   "outputs": [],
   "source": [
    "model = create_model(learn_rate)\n",
    "history = model.fit(X_train,y_train,epochs=5,batch_size=20,validation_data=(X_test,y_test))"
   ]
  },
  {
   "cell_type": "code",
   "execution_count": null,
   "metadata": {},
   "outputs": [],
   "source": [
    "import keras.backend as K\n",
    "print(K.eval(opt.lr))"
   ]
  },
  {
   "cell_type": "code",
   "execution_count": null,
   "metadata": {},
   "outputs": [],
   "source": [
    "from multiprocessing import Process\n",
    "\n",
    "def fit_function(m,p1,p2):\n",
    "    print(f'fitting your model: {m}, Learning Rate: {p1}, Optimizer {p2}')\n",
    "\n",
    "p1 = Process(target=fit_function('LSTM 100 units', .1, 'ADAM'))\n",
    "p2 = Process(target=fit_function('LSTM 50 units', .5, 'SGD'))\n",
    "p1.start()\n",
    "p2.start()\n",
    "p1.join()\n",
    "p2.join()"
   ]
  },
  {
   "cell_type": "markdown",
   "metadata": {},
   "source": [
    "# CLASS BASED"
   ]
  },
  {
   "cell_type": "code",
   "execution_count": 6,
   "metadata": {},
   "outputs": [],
   "source": [
    "import CO2_functions\n",
    "import CO2_Processing\n",
    "import pandas as pd\n",
    "from CO2_functions import *\n",
    "from CO2_Processing import *\n",
    "import pickle\n",
    "import numpy as np\n",
    "from sklearn import preprocessing\n",
    "import os\n",
    "import matplotlib.pyplot as plt\n",
    "\n",
    "class Dataset:\n",
    "    def __init__(self,data_path,pn):\n",
    "        self.pn = pn\n",
    "        self.data_path = data_path\n",
    "    \n",
    "    def _get_date_range(self):\n",
    "        if self.pn == 4:\n",
    "            self.start_date = '2019-09-24'\n",
    "            self.end_date = '2019-10-03'\n",
    "        elif self.pn == 6:\n",
    "            self.start_date = '2019-11-06'\n",
    "            self.end_date = '2019-11-27'\n",
    "    \n",
    "    def _data_retrieve(self):\n",
    "        first_go = True #flag for first time through\n",
    "        self._get_date_range()\n",
    "        for single_date in daterange(self.start_date,self.end_date): #\"daterange()\" from CO2_processing\n",
    "            if os.path.exists(\"{}/{}.pickle\".format(self.data_path,single_date)):\n",
    "                print(\"Retrieving data for {}\".format(single_date))\n",
    "                if first_go: #open and create the data structure\n",
    "                    with open('{}/{}.pickle'.format(self.data_path,single_date), 'rb') as handle:\n",
    "                        data = pickle.load(handle)\n",
    "                    first_go=False\n",
    "                else: #append the next day to the dta structure\n",
    "                    with open('{}/{}.pickle'.format(self.data_path,single_date), 'rb') as handle:\n",
    "                        new_data = pickle.load(handle)\n",
    "                    for key in data:\n",
    "                        if key in new_data.keys():\n",
    "                            data[key] = pd.concat([data[key],new_data[key]])\n",
    "            else: \n",
    "                print(\"No data found for {}\".format(single_date))\n",
    "                print(os.listdir(self.data_path))\n",
    "                continue\n",
    "        return data\n",
    "        \n",
    "    def _preprocess(self):\n",
    "        print('Removing Impulses')\n",
    "        data = remove_spikes(pd.read_pickle('Spike_ETs.pkl'),self._data_retrieve()) #CO2_Processing\n",
    "        print('Downsampling and Concatenating')\n",
    "        data = downsample_and_concatenate(data) #CO2_Processing\n",
    "        \n",
    "        if self.pn == 4:\n",
    "            data = sept24_26_correction(data) #CO2_Processing\n",
    "            data = combine_vent_data(data,1) #Combine LI_Vent and Vent_Anem_Temp into a single df by sampling rate #CO2_processing\n",
    "            data['Vent_Mass'] = moving_mass_flow(data['Vent_Mass']) #Add the moving mass flow rate based on function developed.  #CO2_processing\n",
    "            data['Vent_Mass'] = pd.concat([\\\n",
    "                                   data['Vent_Mass'].loc[(data['Vent_Mass'].index>'2019-09-24 08:57:00')&\\\n",
    "                                                         (data['Vent_Mass'].index<'2019-09-26 08:00:00')],\\\n",
    "                                   data['Vent_Mass'].loc[(data['Vent_Mass'].index>'2019-09-26 12:00:00')&\\\n",
    "                                                         (data['Vent_Mass'].index<'2019-10-03 13:00:00')].interpolate()])\n",
    "        elif self.pn == 6:\n",
    "            #Processing for position 6\n",
    "            data = combine_vent_data(data,1) #Combine LI_Vent and Vent_Anem_Temp into a single df by sampling rate \n",
    "            data['Vent_Mass'] = moving_mass_flow(data['Vent_Mass']) #Add the moving mass flow rate based on function developed. \n",
    "            for key in data:\n",
    "                data[key] = pd.concat([\\\n",
    "                               data[key].loc[(data[key].index>'2019-11-06 00:00:00')&(data[key].index<'2019-11-25 12:00:00')],\\\n",
    "                               data[key].loc[(data[key].index>'2019-11-25 17:00:00')&(data[key].index<'2019-11-27 10:28:00')]])\n",
    "\n",
    "            data['Multi'] = data['Multi'].loc[data['Multi']['CO2_3']<600]\n",
    "            data['Multi'] = data['Multi'].loc[data['Multi']['Wind_Velocity']>1.0]\n",
    "\n",
    "        self.data = data\n",
    "        \n",
    "\n",
    "class ML_Data:\n",
    "    def __init__(self,feature_columns,downsample_sec,periods_to_lag,tower,train_percent):\n",
    "        self.feature_columns = feature_columns\n",
    "        self.downsample_sec = downsample_sec\n",
    "        self.periods_to_lag = periods_to_lag\n",
    "        self.tower = tower\n",
    "        self.train_percent = train_percent\n",
    "    \n",
    "    def _prepare_and_downsample(self,data):\n",
    "        #get the correct data from the tower (multi or picarro)\n",
    "        self.pn = data.pn\n",
    "        if self.tower == 'Multi':\n",
    "            tower = data.data['Multi']\n",
    "        elif self.tower == 'Picarro':\n",
    "            tower=data.data['Picarro']\n",
    "        else:\n",
    "            raise NameError('tower_id must be a valid tower, either \"Multi\" or \"Picarro\"')\n",
    "        vent=data.data['Vent_Mass']\n",
    "        tower_proc = dwn_sample(tower,self.downsample_sec) #CO2_Processing\n",
    "        vent_proc = dwn_sample(vent,self.downsample_sec) #CO2_Processing\n",
    "        df = pd.concat([tower_proc,vent_proc],axis=1)\n",
    "        #Concatenate and add wind speed & direction if picarro data\n",
    "        if self.tower == 'Picarro':\n",
    "            df = wind_add(df,'ANEM_X','ANEM_Y') #CO2_functions\n",
    "        #Drop columns\n",
    "        if 'm_dot' not in self.feature_columns:\n",
    "            self.feature_columns.append('m_dot')\n",
    "        df = df[self.feature_columns]\n",
    "\n",
    "        #Make mass flux the last column\n",
    "        loc = df.columns.get_loc('m_dot')\n",
    "        cols = df.columns.tolist()\n",
    "        cols = cols[0:loc]+cols[(loc+1):]+[cols[loc]]\n",
    "        df = df[cols]   \n",
    "        \n",
    "        self.df_preprocessed = df\n",
    "    \n",
    "    def _ML_Process(self,data):\n",
    "        if not hasattr(self,'df_preprocessed'):\n",
    "            self._prepare_and_downsample(data)\n",
    "        n_periods = self.periods_to_lag#how many periods to lag\n",
    "        n_features = len(self.df_preprocessed.columns)-1#how many features exist in the feature matrix (number of cols - target col)\n",
    "        time_lagged = series_to_supervised(self.df_preprocessed.dropna(),n_in=0,n_out=n_periods,dropnan=False) #CO2_Processing\n",
    "        time_lagged_reframed = delete_unwanted_cols(time_lagged) #delete unneccesary columns #CO2_Processing\n",
    "\n",
    "        \n",
    "        #Make mass flux at t the last column\n",
    "        loc = time_lagged_reframed.columns.get_loc('m_dot(t)')\n",
    "        cols = time_lagged_reframed.columns.tolist()\n",
    "        cols = cols[0:loc]+cols[(loc+1):]+[cols[loc]]\n",
    "        time_lagged_reframed = time_lagged_reframed[cols]\n",
    "        \n",
    "        values = time_lagged_reframed.dropna().values #Convert to numpy for processing\n",
    "        min_max_scalar = preprocessing.MinMaxScaler() #setup scaling\n",
    "        values_scaled = min_max_scalar.fit_transform(values) #scale all values from 0 to 1\n",
    "        self.min_max_scalar = min_max_scalar\n",
    "        \n",
    "        train_size = int(len(values)*self.train_percent) \n",
    "        train = values_scaled[:train_size,:]  #Get train/test arrays\n",
    "        test = values_scaled[train_size:,:]\n",
    "                \n",
    "        X_train,y_train = train[:,:-1], train[:,-1] #Get feature/target arrays\n",
    "        X_test, y_test = test[:,:-1], test[:,-1]\n",
    "        \n",
    "        plt.plot(values[:,-1])\n",
    "        plt.show()\n",
    "        \n",
    "        self.orig_X_train_shape = X_train.shape\n",
    "        self.orig_X_test_shape = X_test.shape\n",
    "        self.orig_y_train_shape = y_train.shape\n",
    "        self.orig_y_test_shape = y_test.shape\n",
    "        \n",
    "        X_train = X_train.reshape((X_train.shape[0], n_periods, n_features)) \n",
    "        X_test = X_test.reshape((X_test.shape[0], n_periods, n_features))\n",
    "        \n",
    "        self.X_train = X_train\n",
    "        self.X_test = X_test\n",
    "        self.y_train = y_train\n",
    "        self.y_test = y_test   "
   ]
  },
  {
   "cell_type": "code",
   "execution_count": 2,
   "metadata": {},
   "outputs": [
    {
     "name": "stderr",
     "output_type": "stream",
     "text": [
      "Using TensorFlow backend.\n"
     ]
    }
   ],
   "source": [
    "import tensorflow as tf\n",
    "from tensorflow import keras\n",
    "import CO2_functions\n",
    "import CO2_Processing\n",
    "import pandas as pd\n",
    "from CO2_functions import *\n",
    "from CO2_Processing import *\n",
    "import numpy as np\n",
    "import sklearn\n",
    "from sklearn import preprocessing\n",
    "from sklearn.model_selection import GridSearchCV\n",
    "from keras.models import Sequential\n",
    "from keras.layers import Dense, LSTM, Dropout\n",
    "import os\n",
    "from keras.models import model_from_json\n",
    "import json\n",
    "from keras import backend\n",
    "\n",
    "class ML_Model_Builder:\n",
    "    def __init__(self,activation,neurons,dropout_rate,learn_rate,decay,batch_size,epochs):\n",
    "        self.activation = activation\n",
    "        self.neurons = neurons\n",
    "        self.dropout_rate = dropout_rate\n",
    "        self.learn_rate = learn_rate\n",
    "        self.decay = decay\n",
    "        self.batch_size = batch_size\n",
    "        self.epochs = epochs\n",
    "\n",
    "    def _create_model(self):\n",
    "        def rmse(y_true, y_pred):\n",
    "            return backend.sqrt(backend.mean(backend.square(y_pred - y_true), axis=-1))\n",
    "        \n",
    "        model = Sequential()\n",
    "        model.add(LSTM(self.neurons,activation=self.activation))\n",
    "        model.add(Dropout(self.dropout_rate))\n",
    "        model.add(Dense(1,activation = 'sigmoid'))\n",
    "        opt = tf.keras.optimizers.Adam(lr=self.learn_rate,decay=self.decay)\n",
    "\n",
    "        model.compile(loss='mse',optimizer=opt,metrics=[rmse])\n",
    "        self.model = model\n",
    "        \n",
    "    def _train_model(self,data):\n",
    "        self.periods_to_lag = data.periods_to_lag\n",
    "        self.downsample_sec = data.downsample_sec\n",
    "        self.feature_columns = data.feature_columns\n",
    "        self.tower = data.tower\n",
    "        self.train_percent = data.train_percent\n",
    "        if not hasattr(self,'model'):\n",
    "            self._create_model()\n",
    "        \n",
    "        print(f\"Downsampling = {self.downsample_sec}\\nLag Periods = {self.periods_to_lag}\\nepochs={epochs}\\nbatch size={batch_size}\")\n",
    "        self.history = self.model.fit(data.X_train,data.y_train,epochs=self.epochs,batch_size=self.batch_size,\\\n",
    "                                      validation_data=(data.X_test,data.y_test),verbose=1)\n",
    "    \n",
    "    def _fit_data(self,data):\n",
    "        print(f\"Fitting data from X_test\")\n",
    "        data.y_fit = self.model.predict(data.X_test)"
   ]
  },
  {
   "cell_type": "code",
   "execution_count": 3,
   "metadata": {},
   "outputs": [
    {
     "name": "stdout",
     "output_type": "stream",
     "text": [
      "Removing Impulses\n",
      "Retrieving data for 2019-11-06\n",
      "Retrieving data for 2019-11-07\n",
      "Retrieving data for 2019-11-08\n",
      "Retrieving data for 2019-11-09\n",
      "Retrieving data for 2019-11-10\n",
      "Retrieving data for 2019-11-11\n",
      "Retrieving data for 2019-11-12\n",
      "Retrieving data for 2019-11-13\n",
      "Retrieving data for 2019-11-14\n",
      "Retrieving data for 2019-11-15\n",
      "Retrieving data for 2019-11-16\n",
      "Retrieving data for 2019-11-17\n",
      "Retrieving data for 2019-11-18\n",
      "Retrieving data for 2019-11-19\n",
      "Retrieving data for 2019-11-20\n",
      "Retrieving data for 2019-11-21\n",
      "Retrieving data for 2019-11-22\n",
      "Retrieving data for 2019-11-23\n",
      "Retrieving data for 2019-11-24\n",
      "Retrieving data for 2019-11-25\n",
      "Retrieving data for 2019-11-26\n",
      "Retrieving data for 2019-11-27\n",
      "Downsampling and Concatenating\n",
      "Concatenating Picarro Data\n",
      "Concatenating Multi Data\n",
      "setting night vent data to zero\n"
     ]
    }
   ],
   "source": [
    "data = Dataset('../CO2_Data_Final',6)\n",
    "data._preprocess()"
   ]
  },
  {
   "cell_type": "code",
   "execution_count": 7,
   "metadata": {},
   "outputs": [
    {
     "name": "stdout",
     "output_type": "stream",
     "text": [
      "Downsampling by mean at 10 seconds\n",
      "Downsampling by mean at 10 seconds\n"
     ]
    },
    {
     "data": {
      "image/png": "[encoded data removed]",
      "text/plain": [
       "<Figure size 432x288 with 1 Axes>"
      ]
     },
     "metadata": {
      "needs_background": "light"
     },
     "output_type": "display_data"
    },
    {
     "name": "stdout",
     "output_type": "stream",
     "text": [
      "Downsampling = 10\n",
      "Lag Periods = 5\n",
      "epochs=5\n",
      "batch size=20\n",
      "Train on 51594 samples, validate on 34397 samples\n",
      "Epoch 1/5\n",
      "51594/51594 [==============================] - 61s 1ms/step - loss: 0.0179 - rmse: 0.1049 - val_loss: 0.0301 - val_rmse: 0.1488\n",
      "Epoch 2/5\n",
      "51594/51594 [==============================] - 62s 1ms/step - loss: 0.0154 - rmse: 0.0955 - val_loss: 0.0205 - val_rmse: 0.1149\n",
      "Epoch 3/5\n",
      "51594/51594 [==============================] - 62s 1ms/step - loss: 0.0151 - rmse: 0.0937 - val_loss: 0.0222 - val_rmse: 0.1161\n",
      "Epoch 4/5\n",
      "51594/51594 [==============================] - 61s 1ms/step - loss: 0.0148 - rmse: 0.0926 - val_loss: 0.0255 - val_rmse: 0.1308\n",
      "Epoch 5/5\n",
      "51594/51594 [==============================] - 61s 1ms/step - loss: 0.0146 - rmse: 0.0919 - val_loss: 0.0243 - val_rmse: 0.1244\n"
     ]
    }
   ],
   "source": [
    "#feature_columns = ['Pic_CO2','ANEM_X','ANEM_Y','ANEM_Z','wd','ws']\n",
    "feature_columns = ['CO2_3','Wind_Velocity','Wind_Direction']\n",
    "downsample_sec = [10]#[400,600]\n",
    "periods_to_lag = [5]\n",
    "tower = 'Multi'\n",
    "position_number = 4\n",
    "train_percent = 0.6\n",
    "\n",
    "activation = 'relu'\n",
    "neurons = 128\n",
    "dropout_rate = 0.2\n",
    "learn_rate = 1e-3\n",
    "decay = 1e-5\n",
    "batch_size = 20\n",
    "epochs = 5\n",
    "\n",
    "models = []\n",
    "i = 0\n",
    "\n",
    "for lag in periods_to_lag:\n",
    "    for ds in downsample_sec:\n",
    "        i+=1\n",
    "        ml_data = ML_Data(feature_columns,ds,lag,tower,train_percent)\n",
    "        ml_data._ML_Process(data)\n",
    "        ml_model = ML_Model_Builder(activation,neurons,dropout_rate,learn_rate,decay,batch_size,epochs)\n",
    "        ml_model._train_model(ml_data)\n",
    "        models.append(ml_model)"
   ]
  },
  {
   "cell_type": "code",
   "execution_count": 8,
   "metadata": {},
   "outputs": [
    {
     "name": "stdout",
     "output_type": "stream",
     "text": [
      "Best score for 'rmse' was 0.09188474714756012 in model 0\n",
      "Downsampling Seconds: 10\n",
      "Lag Periods: 5\n",
      "Activation: relu\n",
      "Neurons: 128\n",
      "Learning Rate: 0.001\n",
      "Decay: 1e-05\n",
      "Epochs: 5\n"
     ]
    }
   ],
   "source": [
    "error_name  = 'rmse'   \n",
    "\n",
    "error_vals = []\n",
    "for m in models:\n",
    "    error_vals.append(m.history.history[error_name][-1])\n",
    "best_idx = error_vals.index(min(error_vals))\n",
    "\n",
    "print(f\"Best score for '{error_name}' was {min(error_vals)} in model {best_idx}\")\n",
    "print(f\"Downsampling Seconds: {models[best_idx].downsample_sec}\\n\\\n",
    "Lag Periods: {models[best_idx].periods_to_lag}\\n\\\n",
    "Activation: {models[best_idx].activation}\\n\\\n",
    "Neurons: {models[best_idx].neurons}\\n\\\n",
    "Learning Rate: {models[best_idx].learn_rate}\\n\\\n",
    "Decay: {models[best_idx].decay}\\n\\\n",
    "Epochs: {models[best_idx].epochs}\")"
   ]
  },
  {
   "cell_type": "code",
   "execution_count": 13,
   "metadata": {},
   "outputs": [
    {
     "name": "stdout",
     "output_type": "stream",
     "text": [
      "Downsampling by mean at 10 seconds\n",
      "Downsampling by mean at 10 seconds\n"
     ]
    },
    {
     "data": {
      "image/png": "[encoded data removed]",
      "text/plain": [
       "<Figure size 432x288 with 1 Axes>"
      ]
     },
     "metadata": {
      "needs_background": "light"
     },
     "output_type": "display_data"
    },
    {
     "name": "stdout",
     "output_type": "stream",
     "text": [
      "Fitting data from X_test\n"
     ]
    },
    {
     "data": {
      "image/png": "[encoded data removed]",
      "text/plain": [
       "<Figure size 1440x720 with 1 Axes>"
      ]
     },
     "metadata": {
      "needs_background": "light"
     },
     "output_type": "display_data"
    }
   ],
   "source": [
    "import matplotlib.pyplot as plt\n",
    "\n",
    "i=best_idx\n",
    "\n",
    "ml_data = ML_Data(models[i].feature_columns,models[i].downsample_sec,models[i].periods_to_lag,models[i].tower,models[i].train_percent)\n",
    "ml_data._ML_Process(data)\n",
    "models[i]._fit_data(ml_data)\n",
    "\n",
    "#Return to original data shape and scale\n",
    "X_test_original_shape = ml_data.X_test.reshape(ml_data.orig_X_test_shape) #reshape from 3d time\n",
    "y_test_original_shape = ml_data.y_test.reshape(ml_data.orig_y_test_shape)#reshape from 3d time \n",
    "\n",
    "merged_tests = np.concatenate((X_test_original_shape,y_test_original_shape[:,None]),axis=1) #concat X and y\n",
    "unscaled_test = pd.DataFrame(ml_data.min_max_scalar.inverse_transform(merged_tests)).iloc[:,-1] #unscale using declared scalar\n",
    "\n",
    "y_fit_original_shape = ml_data.y_fit.reshape(ml_data.orig_y_test_shape)\n",
    "merged_tests = np.concatenate((X_test_original_shape,y_fit_original_shape[:,None]),axis=1)\n",
    "unscaled_fit = pd.DataFrame(ml_data.min_max_scalar.inverse_transform(merged_tests)).iloc[:,-1]\n",
    "\n",
    "#Put into pandas df\n",
    "comparison = pd.concat([unscaled_test,unscaled_fit],axis=1)\n",
    "comparison.columns = ['test','fit']\n",
    "\n",
    "#PLOT PREDICTED VS OBSERVED\n",
    "fig, ax = plt.subplots(figsize = (20,10))\n",
    "# ax.plot(ml_data.y_fit,label='ML_Fit_to_Test')\n",
    "# ax.plot(ml_data.y_test,label='Actual_Test_Data')\n",
    "\n",
    "roll = 1000\n",
    "\n",
    "ax.plot(comparison['fit'].rolling(roll).mean(),label='ML_Predicted')\n",
    "ax.plot(comparison['test'].rolling(roll).mean(),label='Actual_Test_Data')\n",
    "\n",
    "ax.set_xlabel('Time (s)',fontsize=16)\n",
    "ax.set_ylabel('Mass Flow from Vent (g/s)',fontsize=16)\n",
    "ax.tick_params(axis='both', which='major', labelsize=16)\n",
    "\n",
    "\n",
    "ax.legend(fontsize=16)\n",
    "plt.show()"
   ]
  },
  {
   "cell_type": "code",
   "execution_count": 112,
   "metadata": {},
   "outputs": [
    {
     "name": "stdout",
     "output_type": "stream",
     "text": [
      "Downsampling by mean at 1 seconds\n",
      "Downsampling by mean at 1 seconds\n",
      "739165\n"
     ]
    }
   ],
   "source": [
    "feature_columns = ['CO2_3','Wind_Velocity','Wind_Direction']\n",
    "downsample_sec = 1\n",
    "periods_to_lag = 1\n",
    "tower = 'Multi'\n",
    "position_number = 4\n",
    "train_percent = 0.6\n",
    "\n",
    "ml_data = ML_Data(feature_columns,downsample_sec,periods_to_lag,tower,train_percent)\n",
    "ml_data._ML_Process(data)"
   ]
  },
  {
   "cell_type": "code",
   "execution_count": 65,
   "metadata": {},
   "outputs": [],
   "source": [
    "activation = 'relu'\n",
    "neurons = 128\n",
    "dropout_rate = [0.2,0.3]\n",
    "learn_rate = 1e-3\n",
    "decay = 1e-5\n",
    "batch_size = 20\n",
    "epochs = 5\n",
    "\n",
    "models_to_train = []\n",
    "for dropout_rate in dropout_rate:\n",
    "    models_to_train.append(ML_Model_Builder(activation,neurons,dropout_rate,learn_rate,decay,batch_size,epochs))\n"
   ]
  },
  {
   "cell_type": "code",
   "execution_count": 66,
   "metadata": {},
   "outputs": [
    {
     "name": "stdout",
     "output_type": "stream",
     "text": [
      "Downsampling = 600\n",
      "Lag Periods = 1\n",
      "epochs=5\n",
      "batch size=20Downsampling = 600\n",
      "Lag Periods = 1\n",
      "epochs=5\n",
      "batch size=20\n",
      "\n"
     ]
    },
    {
     "name": "stderr",
     "output_type": "stream",
     "text": [
      "Process ForkPoolWorker-140:\n",
      "Process ForkPoolWorker-141:\n",
      "Process ForkPoolWorker-139:\n"
     ]
    },
    {
     "ename": "KeyboardInterrupt",
     "evalue": "",
     "output_type": "error",
     "traceback": [
      "\u001b[0;31m---------------------------------------------------------------------------\u001b[0m",
      "\u001b[0;31mKeyboardInterrupt\u001b[0m                         Traceback (most recent call last)",
      "\u001b[0;32m<ipython-input-66-691b4311aaac>\u001b[0m in \u001b[0;36m<module>\u001b[0;34m\u001b[0m\n\u001b[1;32m     13\u001b[0m \u001b[0;32mif\u001b[0m \u001b[0m__name__\u001b[0m \u001b[0;34m==\u001b[0m \u001b[0;34m'__main__'\u001b[0m\u001b[0;34m:\u001b[0m\u001b[0;34m\u001b[0m\u001b[0;34m\u001b[0m\u001b[0m\n\u001b[1;32m     14\u001b[0m     \u001b[0mp\u001b[0m \u001b[0;34m=\u001b[0m \u001b[0mPool\u001b[0m\u001b[0;34m(\u001b[0m\u001b[0;36m5\u001b[0m\u001b[0;34m)\u001b[0m\u001b[0;34m\u001b[0m\u001b[0;34m\u001b[0m\u001b[0m\n\u001b[0;32m---> 15\u001b[0;31m     \u001b[0mresult\u001b[0m \u001b[0;34m=\u001b[0m \u001b[0mp\u001b[0m\u001b[0;34m.\u001b[0m\u001b[0mstarmap\u001b[0m\u001b[0;34m(\u001b[0m\u001b[0mfit_function\u001b[0m\u001b[0;34m,\u001b[0m \u001b[0mzip\u001b[0m\u001b[0;34m(\u001b[0m\u001b[0mmodels_to_train\u001b[0m\u001b[0;34m,\u001b[0m\u001b[0mrepeat\u001b[0m\u001b[0;34m(\u001b[0m\u001b[0mml_data\u001b[0m\u001b[0;34m)\u001b[0m\u001b[0;34m)\u001b[0m\u001b[0;34m)\u001b[0m\u001b[0;34m\u001b[0m\u001b[0;34m\u001b[0m\u001b[0m\n\u001b[0m\u001b[1;32m     16\u001b[0m \u001b[0;34m\u001b[0m\u001b[0m\n\u001b[1;32m     17\u001b[0m \u001b[0mend\u001b[0m \u001b[0;34m=\u001b[0m \u001b[0mtime\u001b[0m\u001b[0;34m(\u001b[0m\u001b[0;34m)\u001b[0m\u001b[0;34m\u001b[0m\u001b[0;34m\u001b[0m\u001b[0m\n",
      "\u001b[0;32m~/software/pkg/miniconda3/envs/CO2_Eddy/lib/python3.7/multiprocessing/pool.py\u001b[0m in \u001b[0;36mstarmap\u001b[0;34m(self, func, iterable, chunksize)\u001b[0m\n\u001b[1;32m    274\u001b[0m         \u001b[0;31m`\u001b[0m\u001b[0mfunc\u001b[0m\u001b[0;31m`\u001b[0m \u001b[0;32mand\u001b[0m \u001b[0;34m(\u001b[0m\u001b[0ma\u001b[0m\u001b[0;34m,\u001b[0m \u001b[0mb\u001b[0m\u001b[0;34m)\u001b[0m \u001b[0mbecomes\u001b[0m \u001b[0mfunc\u001b[0m\u001b[0;34m(\u001b[0m\u001b[0ma\u001b[0m\u001b[0;34m,\u001b[0m \u001b[0mb\u001b[0m\u001b[0;34m)\u001b[0m\u001b[0;34m.\u001b[0m\u001b[0;34m\u001b[0m\u001b[0;34m\u001b[0m\u001b[0m\n\u001b[1;32m    275\u001b[0m         '''\n\u001b[0;32m--> 276\u001b[0;31m         \u001b[0;32mreturn\u001b[0m \u001b[0mself\u001b[0m\u001b[0;34m.\u001b[0m\u001b[0m_map_async\u001b[0m\u001b[0;34m(\u001b[0m\u001b[0mfunc\u001b[0m\u001b[0;34m,\u001b[0m \u001b[0miterable\u001b[0m\u001b[0;34m,\u001b[0m \u001b[0mstarmapstar\u001b[0m\u001b[0;34m,\u001b[0m \u001b[0mchunksize\u001b[0m\u001b[0;34m)\u001b[0m\u001b[0;34m.\u001b[0m\u001b[0mget\u001b[0m\u001b[0;34m(\u001b[0m\u001b[0;34m)\u001b[0m\u001b[0;34m\u001b[0m\u001b[0;34m\u001b[0m\u001b[0m\n\u001b[0m\u001b[1;32m    277\u001b[0m \u001b[0;34m\u001b[0m\u001b[0m\n\u001b[1;32m    278\u001b[0m     def starmap_async(self, func, iterable, chunksize=None, callback=None,\n",
      "\u001b[0;32m~/software/pkg/miniconda3/envs/CO2_Eddy/lib/python3.7/multiprocessing/pool.py\u001b[0m in \u001b[0;36mget\u001b[0;34m(self, timeout)\u001b[0m\n\u001b[1;32m    649\u001b[0m \u001b[0;34m\u001b[0m\u001b[0m\n\u001b[1;32m    650\u001b[0m     \u001b[0;32mdef\u001b[0m \u001b[0mget\u001b[0m\u001b[0;34m(\u001b[0m\u001b[0mself\u001b[0m\u001b[0;34m,\u001b[0m \u001b[0mtimeout\u001b[0m\u001b[0;34m=\u001b[0m\u001b[0;32mNone\u001b[0m\u001b[0;34m)\u001b[0m\u001b[0;34m:\u001b[0m\u001b[0;34m\u001b[0m\u001b[0;34m\u001b[0m\u001b[0m\n\u001b[0;32m--> 651\u001b[0;31m         \u001b[0mself\u001b[0m\u001b[0;34m.\u001b[0m\u001b[0mwait\u001b[0m\u001b[0;34m(\u001b[0m\u001b[0mtimeout\u001b[0m\u001b[0;34m)\u001b[0m\u001b[0;34m\u001b[0m\u001b[0;34m\u001b[0m\u001b[0m\n\u001b[0m\u001b[1;32m    652\u001b[0m         \u001b[0;32mif\u001b[0m \u001b[0;32mnot\u001b[0m \u001b[0mself\u001b[0m\u001b[0;34m.\u001b[0m\u001b[0mready\u001b[0m\u001b[0;34m(\u001b[0m\u001b[0;34m)\u001b[0m\u001b[0;34m:\u001b[0m\u001b[0;34m\u001b[0m\u001b[0;34m\u001b[0m\u001b[0m\n\u001b[1;32m    653\u001b[0m             \u001b[0;32mraise\u001b[0m \u001b[0mTimeoutError\u001b[0m\u001b[0;34m\u001b[0m\u001b[0;34m\u001b[0m\u001b[0m\n",
      "\u001b[0;32m~/software/pkg/miniconda3/envs/CO2_Eddy/lib/python3.7/multiprocessing/pool.py\u001b[0m in \u001b[0;36mwait\u001b[0;34m(self, timeout)\u001b[0m\n\u001b[1;32m    646\u001b[0m \u001b[0;34m\u001b[0m\u001b[0m\n\u001b[1;32m    647\u001b[0m     \u001b[0;32mdef\u001b[0m \u001b[0mwait\u001b[0m\u001b[0;34m(\u001b[0m\u001b[0mself\u001b[0m\u001b[0;34m,\u001b[0m \u001b[0mtimeout\u001b[0m\u001b[0;34m=\u001b[0m\u001b[0;32mNone\u001b[0m\u001b[0;34m)\u001b[0m\u001b[0;34m:\u001b[0m\u001b[0;34m\u001b[0m\u001b[0;34m\u001b[0m\u001b[0m\n\u001b[0;32m--> 648\u001b[0;31m         \u001b[0mself\u001b[0m\u001b[0;34m.\u001b[0m\u001b[0m_event\u001b[0m\u001b[0;34m.\u001b[0m\u001b[0mwait\u001b[0m\u001b[0;34m(\u001b[0m\u001b[0mtimeout\u001b[0m\u001b[0;34m)\u001b[0m\u001b[0;34m\u001b[0m\u001b[0;34m\u001b[0m\u001b[0m\n\u001b[0m\u001b[1;32m    649\u001b[0m \u001b[0;34m\u001b[0m\u001b[0m\n\u001b[1;32m    650\u001b[0m     \u001b[0;32mdef\u001b[0m \u001b[0mget\u001b[0m\u001b[0;34m(\u001b[0m\u001b[0mself\u001b[0m\u001b[0;34m,\u001b[0m \u001b[0mtimeout\u001b[0m\u001b[0;34m=\u001b[0m\u001b[0;32mNone\u001b[0m\u001b[0;34m)\u001b[0m\u001b[0;34m:\u001b[0m\u001b[0;34m\u001b[0m\u001b[0;34m\u001b[0m\u001b[0m\n",
      "\u001b[0;32m~/software/pkg/miniconda3/envs/CO2_Eddy/lib/python3.7/threading.py\u001b[0m in \u001b[0;36mwait\u001b[0;34m(self, timeout)\u001b[0m\n\u001b[1;32m    550\u001b[0m             \u001b[0msignaled\u001b[0m \u001b[0;34m=\u001b[0m \u001b[0mself\u001b[0m\u001b[0;34m.\u001b[0m\u001b[0m_flag\u001b[0m\u001b[0;34m\u001b[0m\u001b[0;34m\u001b[0m\u001b[0m\n\u001b[1;32m    551\u001b[0m             \u001b[0;32mif\u001b[0m \u001b[0;32mnot\u001b[0m \u001b[0msignaled\u001b[0m\u001b[0;34m:\u001b[0m\u001b[0;34m\u001b[0m\u001b[0;34m\u001b[0m\u001b[0m\n\u001b[0;32m--> 552\u001b[0;31m                 \u001b[0msignaled\u001b[0m \u001b[0;34m=\u001b[0m \u001b[0mself\u001b[0m\u001b[0;34m.\u001b[0m\u001b[0m_cond\u001b[0m\u001b[0;34m.\u001b[0m\u001b[0mwait\u001b[0m\u001b[0;34m(\u001b[0m\u001b[0mtimeout\u001b[0m\u001b[0;34m)\u001b[0m\u001b[0;34m\u001b[0m\u001b[0;34m\u001b[0m\u001b[0m\n\u001b[0m\u001b[1;32m    553\u001b[0m             \u001b[0;32mreturn\u001b[0m \u001b[0msignaled\u001b[0m\u001b[0;34m\u001b[0m\u001b[0;34m\u001b[0m\u001b[0m\n\u001b[1;32m    554\u001b[0m \u001b[0;34m\u001b[0m\u001b[0m\n",
      "\u001b[0;32m~/software/pkg/miniconda3/envs/CO2_Eddy/lib/python3.7/threading.py\u001b[0m in \u001b[0;36mwait\u001b[0;34m(self, timeout)\u001b[0m\n\u001b[1;32m    294\u001b[0m         \u001b[0;32mtry\u001b[0m\u001b[0;34m:\u001b[0m    \u001b[0;31m# restore state no matter what (e.g., KeyboardInterrupt)\u001b[0m\u001b[0;34m\u001b[0m\u001b[0;34m\u001b[0m\u001b[0m\n\u001b[1;32m    295\u001b[0m             \u001b[0;32mif\u001b[0m \u001b[0mtimeout\u001b[0m \u001b[0;32mis\u001b[0m \u001b[0;32mNone\u001b[0m\u001b[0;34m:\u001b[0m\u001b[0;34m\u001b[0m\u001b[0;34m\u001b[0m\u001b[0m\n\u001b[0;32m--> 296\u001b[0;31m                 \u001b[0mwaiter\u001b[0m\u001b[0;34m.\u001b[0m\u001b[0macquire\u001b[0m\u001b[0;34m(\u001b[0m\u001b[0;34m)\u001b[0m\u001b[0;34m\u001b[0m\u001b[0;34m\u001b[0m\u001b[0m\n\u001b[0m\u001b[1;32m    297\u001b[0m                 \u001b[0mgotit\u001b[0m \u001b[0;34m=\u001b[0m \u001b[0;32mTrue\u001b[0m\u001b[0;34m\u001b[0m\u001b[0;34m\u001b[0m\u001b[0m\n\u001b[1;32m    298\u001b[0m             \u001b[0;32melse\u001b[0m\u001b[0;34m:\u001b[0m\u001b[0;34m\u001b[0m\u001b[0;34m\u001b[0m\u001b[0m\n",
      "\u001b[0;31mKeyboardInterrupt\u001b[0m: "
     ]
    },
    {
     "name": "stderr",
     "output_type": "stream",
     "text": [
      "Traceback (most recent call last):\n",
      "Traceback (most recent call last):\n",
      "Traceback (most recent call last):\n",
      "  File \"/uufs/chpc.utah.edu/common/home/u0890904/software/pkg/miniconda3/envs/CO2_Eddy/lib/python3.7/multiprocessing/process.py\", line 297, in _bootstrap\n",
      "    self.run()\n",
      "  File \"/uufs/chpc.utah.edu/common/home/u0890904/software/pkg/miniconda3/envs/CO2_Eddy/lib/python3.7/multiprocessing/process.py\", line 297, in _bootstrap\n",
      "    self.run()\n",
      "  File \"/uufs/chpc.utah.edu/common/home/u0890904/software/pkg/miniconda3/envs/CO2_Eddy/lib/python3.7/multiprocessing/process.py\", line 297, in _bootstrap\n",
      "    self.run()\n",
      "  File \"/uufs/chpc.utah.edu/common/home/u0890904/software/pkg/miniconda3/envs/CO2_Eddy/lib/python3.7/multiprocessing/process.py\", line 99, in run\n",
      "    self._target(*self._args, **self._kwargs)\n",
      "  File \"/uufs/chpc.utah.edu/common/home/u0890904/software/pkg/miniconda3/envs/CO2_Eddy/lib/python3.7/multiprocessing/process.py\", line 99, in run\n",
      "    self._target(*self._args, **self._kwargs)\n",
      "  File \"/uufs/chpc.utah.edu/common/home/u0890904/software/pkg/miniconda3/envs/CO2_Eddy/lib/python3.7/multiprocessing/process.py\", line 99, in run\n",
      "    self._target(*self._args, **self._kwargs)\n",
      "  File \"/uufs/chpc.utah.edu/common/home/u0890904/software/pkg/miniconda3/envs/CO2_Eddy/lib/python3.7/multiprocessing/pool.py\", line 110, in worker\n",
      "    task = get()\n",
      "  File \"/uufs/chpc.utah.edu/common/home/u0890904/software/pkg/miniconda3/envs/CO2_Eddy/lib/python3.7/multiprocessing/pool.py\", line 110, in worker\n",
      "    task = get()\n",
      "  File \"/uufs/chpc.utah.edu/common/home/u0890904/software/pkg/miniconda3/envs/CO2_Eddy/lib/python3.7/multiprocessing/pool.py\", line 110, in worker\n",
      "    task = get()\n",
      "  File \"/uufs/chpc.utah.edu/common/home/u0890904/software/pkg/miniconda3/envs/CO2_Eddy/lib/python3.7/multiprocessing/queues.py\", line 352, in get\n",
      "    res = self._reader.recv_bytes()\n",
      "  File \"/uufs/chpc.utah.edu/common/home/u0890904/software/pkg/miniconda3/envs/CO2_Eddy/lib/python3.7/multiprocessing/queues.py\", line 351, in get\n",
      "    with self._rlock:\n",
      "  File \"/uufs/chpc.utah.edu/common/home/u0890904/software/pkg/miniconda3/envs/CO2_Eddy/lib/python3.7/multiprocessing/queues.py\", line 351, in get\n",
      "    with self._rlock:\n",
      "  File \"/uufs/chpc.utah.edu/common/home/u0890904/software/pkg/miniconda3/envs/CO2_Eddy/lib/python3.7/multiprocessing/connection.py\", line 216, in recv_bytes\n",
      "    buf = self._recv_bytes(maxlength)\n",
      "  File \"/uufs/chpc.utah.edu/common/home/u0890904/software/pkg/miniconda3/envs/CO2_Eddy/lib/python3.7/multiprocessing/synchronize.py\", line 95, in __enter__\n",
      "    return self._semlock.__enter__()\n",
      "  File \"/uufs/chpc.utah.edu/common/home/u0890904/software/pkg/miniconda3/envs/CO2_Eddy/lib/python3.7/multiprocessing/synchronize.py\", line 95, in __enter__\n",
      "    return self._semlock.__enter__()\n",
      "  File \"/uufs/chpc.utah.edu/common/home/u0890904/software/pkg/miniconda3/envs/CO2_Eddy/lib/python3.7/multiprocessing/connection.py\", line 407, in _recv_bytes\n",
      "    buf = self._recv(4)\n",
      "KeyboardInterrupt\n",
      "  File \"/uufs/chpc.utah.edu/common/home/u0890904/software/pkg/miniconda3/envs/CO2_Eddy/lib/python3.7/multiprocessing/connection.py\", line 379, in _recv\n",
      "    chunk = read(handle, remaining)\n",
      "KeyboardInterrupt\n",
      "KeyboardInterrupt\n"
     ]
    }
   ],
   "source": [
    "from multiprocessing import Pool\n",
    "from itertools import repeat\n",
    "from time import time\n",
    "\n",
    "def fit_function(ml_model,ml_data):\n",
    "    ml_model._train_model(ml_data)\n",
    "\n",
    "\n",
    "if __name__ == '__main__':\n",
    "    p = Pool(5)\n",
    "    result = p.starmap(fit_function, zip(models_to_train,repeat(ml_data)))\n",
    "    \n",
    "end = time()\n",
    "\n",
    "print(f\"This took {end-start} seconds\")"
   ]
  }
 ],
 "metadata": {
  "kernelspec": {
   "display_name": "Python CO2_Eddy",
   "language": "python",
   "name": "co2_eddy"
  },
  "language_info": {
   "codemirror_mode": {
    "name": "ipython",
    "version": 3
   },
   "file_extension": ".py",
   "mimetype": "text/x-python",
   "name": "python",
   "nbconvert_exporter": "python",
   "pygments_lexer": "ipython3",
   "version": "3.7.6"
  }
 },
 "nbformat": 4,
 "nbformat_minor": 4
}
