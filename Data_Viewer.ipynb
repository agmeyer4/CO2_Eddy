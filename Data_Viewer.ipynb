{
 "cells": [
  {
   "cell_type": "code",
   "execution_count": 1,
   "metadata": {
    "jupyter": {
     "source_hidden": true
    }
   },
   "outputs": [],
   "source": [
    "#IMPORT NECESSARY PACKAGES\n",
    "import matplotlib.pyplot as plt\n",
    "import numpy as np\n",
    "import pandas as pd\n",
    "import os\n",
    "import pickle\n",
    "import pymysql.cursors\n",
    "import datetime\n",
    "import matplotlib.gridspec as grd\n",
    "from datetime import datetime\n",
    "from time import mktime"
   ]
  },
  {
   "cell_type": "code",
   "execution_count": 2,
   "metadata": {
    "jupyter": {
     "source_hidden": true
    }
   },
   "outputs": [],
   "source": [
    "#Ask the user for the date range between which data will be pulled from SQL\n",
    "def get_date_range():\n",
    "    date1=input(\"Enter Start Date YYYY-mm-DD: \")\n",
    "    date2=input(\"Enter End Date YYYY-mm-DD: \")\n",
    "    return date1,date2"
   ]
  },
  {
   "cell_type": "code",
   "execution_count": 3,
   "metadata": {
    "jupyter": {
     "source_hidden": true
    }
   },
   "outputs": [],
   "source": [
    "def sql_connect():\n",
    "    #Connect to SQL database with username and pw\n",
    "    mydb = pymysql.connect(\n",
    "        host='155.98.6.253',\n",
    "        user='EddyFlux',\n",
    "        passwd = 'UvTrhM_yFo71X2',\n",
    "        database = 'CO2_Eddy'\n",
    "        )\n",
    "    \n",
    "    #Set up cursor (allows navigation through SQL syntax)\n",
    "    mycursor = mydb.cursor()\n",
    "    \n",
    "    return mycursor"
   ]
  },
  {
   "cell_type": "code",
   "execution_count": 4,
   "metadata": {
    "jupyter": {
     "source_hidden": true
    }
   },
   "outputs": [],
   "source": [
    "def get_LI_data(tablename,date1,date2):\n",
    "    ######################################################################\n",
    "    # Function to get exclusively \"Spike Necessary\" LI_8100 Data         # \n",
    "    # from SQL. Input the SQL Tablename, and date range between which    #\n",
    "    # data will be fetched. For one day's worth of data, enter the same  #\n",
    "    # Date.                                                              #\n",
    "    ######################################################################\n",
    "    \n",
    "    mycursor = sql_connect()\n",
    "    mycursor.execute(\"SELECT Local_DT, EPOCH_TIME, Cdry\\\n",
    "                        FROM {}\\\n",
    "                        WHERE Local_DT >= '{} 00:00:00' AND Local_DT <= '{} 23:59:59.99'\\\n",
    "                        order by EPOCH_TIME asc;\".format(tablename,date1,date2)) #SQL statement\n",
    "    data = mycursor.fetchall() #fetch the data\n",
    "    LI_vent = pd.DataFrame(list(data)) #convert imported data to dataframe\n",
    "    LI_vent.columns = ['Local_DT','EPOCH_TIME','CO2'] #name columns\n",
    "    cols = LI_vent.columns.drop('Local_DT') #get all column names beside date column\n",
    "    LI_vent[cols]=LI_vent[cols].apply(pd.to_numeric,errors='coerce') #change all but date to floats\n",
    "    \n",
    "    return LI_vent"
   ]
  },
  {
   "cell_type": "code",
   "execution_count": 5,
   "metadata": {
    "jupyter": {
     "source_hidden": true
    }
   },
   "outputs": [],
   "source": [
    "def get_multiplexer_data(tablename,date1,date2):\n",
    "    ######################################################################\n",
    "    # Function to get exclusively \"Spike Necessary\" Multiplexer Data     # \n",
    "    # from SQL. Input the SQL Tablename, and date range between which    #\n",
    "    # data will be fetched. For one day's worth of data, enter the same  #\n",
    "    # Date.                                                              #\n",
    "    ######################################################################\n",
    "    #Connect to SQL\n",
    "    mycursor = sql_connect()   \n",
    "    mycursor.execute(\"SELECT *\\\n",
    "                    FROM {}\\\n",
    "                    WHERE Local_DT >= '{} 00:00:00' AND Local_DT <= '{} 23:59:59.99'\\\n",
    "                    order by EPOCH_TIME asc;\".format(tablename,date1,date2)) #SQL query\n",
    "    data = mycursor.fetchall() #fetch the data\n",
    "    Multiplexer = pd.DataFrame(list(data)) #convert imported data into a dataframe\n",
    "    Multiplexer.columns = ['Local_DT','EPOCH_TIME','CO2_1','CO2_2','CO2_3','Rotations','Wind_Velocity','Wind_Direction','Temp'] #name columns\n",
    "    cols = Multiplexer.columns.drop('Local_DT') #get all column names but date column\n",
    "    Multiplexer[cols]=Multiplexer[cols].apply(pd.to_numeric,errors='coerce') #change all but date to floats\n",
    "    \n",
    "    return Multiplexer"
   ]
  },
  {
   "cell_type": "code",
   "execution_count": 6,
   "metadata": {
    "jupyter": {
     "source_hidden": true
    }
   },
   "outputs": [],
   "source": [
    "def get_vent_anem_temp_data(tablename,date1,date2):\n",
    "    ######################################################################\n",
    "    # Function to get exclusively \"Spike Necessary\" Vent_Anem_Temp Data  # \n",
    "    # from SQL. Input the SQL Tablename, and date range between which    #\n",
    "    # data will be fetched. For one day's worth of data, enter the same  #\n",
    "    # Date.                                                              #\n",
    "    ######################################################################\n",
    "    \n",
    "    #Connect to SQL\n",
    "    mycursor = sql_connect()\n",
    "    mycursor.execute(\"SELECT *\\\n",
    "                    FROM {}\\\n",
    "                    WHERE Local_DT >= '{} 00:00:00' AND Local_DT <= '{} 23:59:59.99'\\\n",
    "                    order by EPOCH_TIME asc;\".format(tablename,date1,date2)) #SQL query\n",
    "    data = mycursor.fetchall() #fetch the data\n",
    "    Vent_Anem_Temp = pd.DataFrame(list(data)) #convert imported data to a dataframe\n",
    "    Vent_Anem_Temp.columns = ['Local_DT','EPOCH_TIME','Rotations','Velocity','Temp_1','Temp_2'] #name columns\n",
    "    cols = Vent_Anem_Temp.columns.drop('Local_DT') #get all column names but date\n",
    "    Vent_Anem_Temp[cols]=Vent_Anem_Temp[cols].apply(pd.to_numeric,errors='coerce') #change all but date to floats\n",
    "    \n",
    "    return Vent_Anem_Temp"
   ]
  },
  {
   "cell_type": "code",
   "execution_count": 7,
   "metadata": {
    "jupyter": {
     "source_hidden": true
    }
   },
   "outputs": [],
   "source": [
    "def get_picarro_data(tablename,date1,date2):\n",
    "    ###################################################################\n",
    "    # Function to get exclusively \"Spike Necessary\" Picarro Data from #\n",
    "    # SQL. Input the SQL Tablename, and date range between which data #\n",
    "    # will be fetched. For one day's worth of data, enter the same    #\n",
    "    # Date.                                                           #\n",
    "    ###################################################################\n",
    "    \n",
    "    #Connect to SQL\n",
    "    mycursor = sql_connect()\n",
    "    mycursor.execute(\"SELECT Local_DT, EPOCH_TIME, CO2_dry, ANEMOMETER_UY, ANEMOMETER_UX,'ANEMOMETER_UZ'\\\n",
    "                    FROM {}\\\n",
    "                    WHERE Local_DT >= '{} 00:00:00' AND Local_DT <= '{} 23:59:59.99'\\\n",
    "                    order by EPOCH_TIME asc;\".format(tablename,date1,date2)) #SQL statement\n",
    "    data = mycursor.fetchall() #fetch the data\n",
    "    Picarro = pd.DataFrame(list(data)) #convert data to a dataframe\n",
    "    Picarro.columns = ['Local_DT','EPOCH_TIME','CO2','ANEM_Y','ANEM_X','ANEM_Z'] #name columns\n",
    "    cols = Picarro.columns.drop('Local_DT') #get all column names but date\n",
    "    Picarro[cols]=Picarro[cols].apply(pd.to_numeric,errors='coerce') #change all but date to floats\n",
    "    \n",
    "    return Picarro"
   ]
  },
  {
   "cell_type": "code",
   "execution_count": 8,
   "metadata": {
    "jupyter": {
     "source_hidden": true
    }
   },
   "outputs": [],
   "source": [
    "#Script pulls in all of the necessary data in the date range input into the function\n",
    "#Inputs: The names of each SQL table\n",
    "#        date1 - start date for range of data to pull\n",
    "#        date2 - end date for range of data to pull\n",
    "def get_sql_data(LI_vent_sql_tablename,Multiplexer_sql_tablename,\\\n",
    "                 Vent_Anem_Temp_sql_tablename,Picarro_sql_tablename,date1,date2):\n",
    "    \n",
    "    ######################################################################\n",
    "    # Function to get exclusively \"Spike Necessary\" Vent_Anem_Temp Data  # \n",
    "    # from SQL. Input the SQL Tablename, and date range between which    #\n",
    "    # data will be fetched. For one day's worth of data, enter the same  #\n",
    "    # Date.                                                              #\n",
    "    ######################################################################\n",
    "\n",
    "    #Import source (LI_8100_Vent) data\n",
    "    #If there is a value error (no data in table for date range), set up an empty dataframe and pass the error\n",
    "    try:\n",
    "        LI_vent = get_LI_data(LI_vent_sql_tablename,date1,date2)\n",
    "    except ValueError:\n",
    "        LI_vent = pd.DataFrame() #set empty dataframe\n",
    "        pass\n",
    "    \n",
    "    \n",
    "    #Import Multiplexer data\n",
    "    #If there is a value error (no data in table for date range), set up an empty dataframe and pass the error\n",
    "    try:\n",
    "        Multiplexer = get_multiplexer_data(Multiplexer_sql_tablename,date1,date2)\n",
    "    except ValueError:\n",
    "        Multiplexer = pd.DataFrame() #make empty dataframe\n",
    "        pass\n",
    "    \n",
    "    #Import Vent_Anem_Temp data\n",
    "    #If there is a value error (no data in table for date range), set up an empty dataframe and pass the error\n",
    "    try:\n",
    "        Vent_Anem_Temp = get_vent_anem_temp_data(Vent_Anem_Temp_sql_tablename,date1,date2)\n",
    "    except ValueError:\n",
    "        Vent_Anem_Temp = pd.DataFrame() #make empty dataframe\n",
    "        pass\n",
    "\n",
    "    \n",
    "    #Import Picarro data\n",
    "    #If there is a value error (no data in table for date range), set up an empty dataframe and pass the error\n",
    "    try:\n",
    "        Picarro = get_picarro_data(Picarro_sql_tablename,date1,date2)\n",
    "    except ValueError:\n",
    "        Picarro = pd.DataFrame() #make empty dataframe\n",
    "        pass\n",
    "    \n",
    "    return LI_vent, Multiplexer, Vent_Anem_Temp, Picarro #return all of the fetched dataframes"
   ]
  },
  {
   "cell_type": "code",
   "execution_count": 11,
   "metadata": {
    "jupyter": {
     "source_hidden": true
    }
   },
   "outputs": [],
   "source": [
    "def wind_add(df):\n",
    "    df['wd'] = np.arctan2(df['ANEM_Y'],df['ANEM_X'])/np.pi*180\n",
    "    df['ws'] = df['ANEM_Y']\n",
    "    return df\n",
    "\n"
   ]
  },
  {
   "cell_type": "code",
   "execution_count": 12,
   "metadata": {
    "jupyter": {
     "source_hidden": true
    }
   },
   "outputs": [],
   "source": [
    "#Plot a simple graph with local_dt on the x axis, and an input (y_ax) on the y axis\n",
    "def simple_plot(df,y_ax):\n",
    "    fig,ax = plt.subplots() #make the fig,ax\n",
    "    ax.yaxis.grid(which=\"major\") #plot horizontal gridlines\n",
    "    ax.plot(df['Local_DT'],df[y_ax]) #plot\n",
    "    plt.gcf().autofmt_xdate() #get a nice date format for the x axis\n",
    "    fig.tight_layout()\n",
    "    plt.show()"
   ]
  },
  {
   "cell_type": "code",
   "execution_count": 13,
   "metadata": {
    "jupyter": {
     "source_hidden": true
    }
   },
   "outputs": [],
   "source": [
    "#Make a figure of multiple plots plotted above one another. X axes have the same values\n",
    "def plot_vertical_stack(df):\n",
    "    if 'CO2_1' in df: #if there is CO2_1, we are in multiplexer data, and want three plots, one for each CO2 value of muliplexer\n",
    "        fig = plt.figure(figsize=(15,5)) #set fig, ax with a figsize\n",
    "        gs = grd.GridSpec(3,1) # three plots\n",
    "        ax = fig.add_subplot(gs[0]) # add first subplot\n",
    "        ax.plot(df['Local_DT'],df['CO2_1'],color='blue') #plot first subplot\n",
    "        ax = fig.add_subplot(gs[1],sharex=ax) #make second subplot with same xaxis as first\n",
    "        ax.plot(df['Local_DT'],df['CO2_2'],color='red')\n",
    "        ax = fig.add_subplot(gs[2],sharex=ax)\n",
    "        ax.plot(df['Local_DT'],df['CO2_3'],color='black')\n",
    "        plt.gcf().autofmt_xdate() #format the date\n",
    "        fig.tight_layout()\n",
    "        plt.show()\n",
    "    else :\n",
    "        fig = plt.figure(figsize=(10,5))\n",
    "        gs = grd.GridSpec(2,1)\n",
    "        ax = fig.add_subplot(gs[0])\n",
    "        ax.plot(df['Local_DT'],df['CO2'],color='blue')\n",
    "        ax = fig.add_subplot(gs[1],sharex=ax)\n",
    "        ax.plot(df['Local_DT'],df['wd'],color='red')\n",
    "        plt.gcf().autofmt_xdate()\n",
    "        fig.tight_layout()\n",
    "        plt.show()"
   ]
  },
  {
   "cell_type": "code",
   "execution_count": 14,
   "metadata": {
    "jupyter": {
     "source_hidden": true
    }
   },
   "outputs": [],
   "source": [
    "#This function allows the user to specify the range over which to plot picarro data\n",
    "def plot_refinement_picarro(df):\n",
    "    #plot_vertical_stack(df) #plot the data\n",
    "    cont_ref = True #set \"Continue refining\" to true, wont be changed until user says so\n",
    "    ask = input(\"Is this an acceptable range? \") #ask the user if this is a good range, or if they want to continue refining\n",
    "    if ask == 'y':\n",
    "        cont_ref = False    \n",
    "        df1=df\n",
    "    while cont_ref: #continue asking user to refine until command is given\n",
    "        DT1 = input(\"Input Start DateTime as YYYY-mm-DD HH:MM:SS - \") #get start of range\n",
    "        DT2 = input(\"Input End DateTime as YYYY-mm-DD HH:MM:SS - \") #get end of range\n",
    "\n",
    "        df1 = df.loc[(df['Local_DT']>=DT1)&(df['Local_DT']<=DT2)] #clip the data to the range given\n",
    "\n",
    "        plot_vertical_stack(df1) #plot over that range\n",
    "        \n",
    "        ask = input(\"Is this an acceptable range? \") #ask the user if this is a good range, or if they want to continue refining\n",
    "        if ask == 'y':\n",
    "            cont_ref = False\n",
    "    \n",
    "    return df1 #return the df with the user chosen range"
   ]
  },
  {
   "cell_type": "code",
   "execution_count": 20,
   "metadata": {
    "jupyter": {
     "source_hidden": true
    }
   },
   "outputs": [],
   "source": [
    "#This function allows the user to specify the range over which to plot LI data\n",
    "def plot_refinement_LI(df):\n",
    "    fig = plt.figure()\n",
    "    plt.plot(df['Local_DT'],df['CO2'])  #plot the data\n",
    "    plt.gcf().autofmt_xdate()\n",
    "    fig.tight_layout()\n",
    "    plt.show()\n",
    "    cont_ref = True #set \"Continue refining\" to true, wont be changed until user says so\n",
    "    ask = input(\"Is this an acceptable range? \") #ask the user if this is a good range, or if they want to continue refining\n",
    "    if ask == 'y':\n",
    "        cont_ref = False    \n",
    "        df1=df\n",
    "    while cont_ref:       #continue asking user to refine until command is given \n",
    "        DT1 = input(\"Input Start DateTime as YYYY-mm-DD HH:MM:SS - \")  #get start of range\n",
    "        DT2 = input(\"Input End DateTime as YYYY-mm-DD HH:MM:SS - \")   #get end of range\n",
    "\n",
    "        df1 = df.loc[(df['Local_DT']>=DT1)&(df['Local_DT']<=DT2)] #clip the data to the range given\n",
    "\n",
    "        plt.plot(df1['Local_DT'],df1['CO2']) #plot over that range\n",
    "        plt.gcf().autofmt_xdate()\n",
    "        fig.tight_layout()\n",
    "        plt.show()\n",
    "        \n",
    "        ask = input(\"Is this an acceptable range? \") #ask the user if this is a good range, or if they want to continue refining\n",
    "        if ask == 'y':\n",
    "            cont_ref = False\n",
    "            \n",
    "    return df1 #return the df with the user chosen range"
   ]
  },
  {
   "cell_type": "code",
   "execution_count": 19,
   "metadata": {
    "jupyter": {
     "source_hidden": true
    }
   },
   "outputs": [],
   "source": [
    "#This function allows the user to specify the range over which to plot Multiplexer data\n",
    "def plot_refinement_multiplexer(df):\n",
    "    plot_vertical_stack(df) #plot the data\n",
    "    cont_ref = True #set \"Continue refining\" to true, wont be changed until user says so\n",
    "    ask = input(\"Is this an acceptable range? \") #ask the user if this is a good range, or if they want to continue refining\n",
    "    if ask == 'y':\n",
    "        cont_ref = False\n",
    "        df1=df\n",
    "        \n",
    "    while cont_ref:          #continue asking user to refine until command is given \n",
    "        DT1 = input(\"Input Start DateTime as YYYY-mm-DD HH:MM:SS - \") #get start of range\n",
    "        DT2 = input(\"Input End DateTime as YYYY-mm-DD HH:MM:SS - \") #get end of range\n",
    "\n",
    "        df1 = df.loc[(df['Local_DT']>=DT1)&(df['Local_DT']<=DT2)] #clip the data to the range given\n",
    "\n",
    "        plot_vertical_stack(df1) #plot over that range\n",
    "        \n",
    "        ask = input(\"Is this an acceptable range? \") #ask the user if this is a good range, or if they want to continue refining\n",
    "        if ask == 'y':\n",
    "            cont_ref = False\n",
    "            \n",
    "    return df1 #return the df with the user chosen range"
   ]
  },
  {
   "cell_type": "code",
   "execution_count": 21,
   "metadata": {
    "jupyter": {
     "source_hidden": true
    }
   },
   "outputs": [],
   "source": [
    "#This function allows the user to specify the range over which to plot Multiplexer data\n",
    "def plot_refinement_vent_anem_temp(df):\n",
    "    simple_plot(df,'Velocity') #plot the data\n",
    "    cont_ref = True #set \"Continue refining\" to true, wont be changed until user says so\n",
    "    ask = input(\"Is this an acceptable range? \") #ask the user if this is a good range, or if they want to continue refining\n",
    "    if ask == 'y':\n",
    "        cont_ref = False\n",
    "        df1=df\n",
    "        \n",
    "    while cont_ref:          #continue asking user to refine until command is given \n",
    "        DT1 = input(\"Input Start DateTime as YYYY-mm-DD HH:MM:SS - \") #get start of range\n",
    "        DT2 = input(\"Input End DateTime as YYYY-mm-DD HH:MM:SS - \") #get end of range\n",
    "\n",
    "        df1 = df.loc[(df['Local_DT']>=DT1)&(df['Local_DT']<=DT2)] #clip the data to the range given\n",
    "\n",
    "        simple_plot(df1,'Velocity') #plot over that range\n",
    "        \n",
    "        ask = input(\"Is this an acceptable range? \") #ask the user if this is a good range, or if they want to continue refining\n",
    "        if ask == 'y':\n",
    "            cont_ref = False\n",
    "            \n",
    "    return df1 #return the df with the user chosen range"
   ]
  },
  {
   "cell_type": "code",
   "execution_count": 22,
   "metadata": {
    "jupyter": {
     "source_hidden": true
    }
   },
   "outputs": [],
   "source": [
    "def fill_multiplexer_gaps(df):\n",
    "    st = df['EPOCH_TIME'].min()\n",
    "    end =  df['EPOCH_TIME'].max()\n",
    "\n",
    "    x = df.set_index('EPOCH_TIME').reindex(range(st,end,1)).interpolate().rename_axis('EPOCH_TIME').reset_index()\n",
    "\n",
    "    x['Local_DT'] = pd.to_datetime(x['EPOCH_TIME'],unit='s') - pd.Timedelta('06:00:00')\n",
    "\n",
    "    return x"
   ]
  },
  {
   "cell_type": "code",
   "execution_count": 23,
   "metadata": {},
   "outputs": [
    {
     "name": "stdin",
     "output_type": "stream",
     "text": [
      "Enter Start Date YYYY-mm-DD:  2019-09-20\n",
      "Enter End Date YYYY-mm-DD:  2019-09-20\n"
     ]
    }
   ],
   "source": [
    "date1,date2 = get_date_range()\n",
    "LI_vent, Multiplexer, Vent_Anem_Temp, Picarro, \\\n",
    "= get_sql_data(\"Aug2019_LI_8100_Vent\",\\\n",
    "               \"Aug2019_Multiplexer\",\"Aug2019_Vent_Anem_Temp\",\\\n",
    "               \"Aug2019_Picarro\",date1,date2)\n",
    "\n"
   ]
  },
  {
   "cell_type": "code",
   "execution_count": 25,
   "metadata": {},
   "outputs": [
    {
     "name": "stdin",
     "output_type": "stream",
     "text": [
      "Is this an acceptable range?  n\n",
      "Input Start DateTime as YYYY-mm-DD HH:MM:SS -  2019-09-20 08:00:00\n",
      "Input End DateTime as YYYY-mm-DD HH:MM:SS -  2019-09-20 20:00:00\n"
     ]
    },
    {
     "data": {
      "image/png": "[encoded data removed]",
      "text/plain": [
       "<Figure size 720x360 with 2 Axes>"
      ]
     },
     "metadata": {
      "needs_background": "light"
     },
     "output_type": "display_data"
    },
    {
     "name": "stdin",
     "output_type": "stream",
     "text": [
      "Is this an acceptable range?  2019-09-20 10:30:00\n",
      "Input Start DateTime as YYYY-mm-DD HH:MM:SS -  2019-09-20 12:00:00\n",
      "Input End DateTime as YYYY-mm-DD HH:MM:SS -  2019-09-20 08:00:00\n"
     ]
    },
    {
     "data": {
      "image/png": "[encoded data removed]",
      "text/plain": [
       "<Figure size 720x360 with 2 Axes>"
      ]
     },
     "metadata": {
      "needs_background": "light"
     },
     "output_type": "display_data"
    },
    {
     "name": "stdin",
     "output_type": "stream",
     "text": [
      "Is this an acceptable range?  b\n",
      "Input Start DateTime as YYYY-mm-DD HH:MM:SS -  2019-09-20 10:30:00\n",
      "Input End DateTime as YYYY-mm-DD HH:MM:SS -  2019-09-20 12:00:00\n"
     ]
    },
    {
     "data": {
      "image/png": "[encoded data removed]",
      "text/plain": [
       "<Figure size 720x360 with 2 Axes>"
      ]
     },
     "metadata": {
      "needs_background": "light"
     },
     "output_type": "display_data"
    },
    {
     "name": "stdin",
     "output_type": "stream",
     "text": [
      "Is this an acceptable range?  2019-09-20 11:20:00\n",
      "Input Start DateTime as YYYY-mm-DD HH:MM:SS -  2019-09-20 11:20:00\n",
      "Input End DateTime as YYYY-mm-DD HH:MM:SS -  2019-09-20 11:30:00\n"
     ]
    },
    {
     "data": {
      "image/png": "[encoded data removed]",
      "text/plain": [
       "<Figure size 720x360 with 2 Axes>"
      ]
     },
     "metadata": {
      "needs_background": "light"
     },
     "output_type": "display_data"
    },
    {
     "name": "stdin",
     "output_type": "stream",
     "text": [
      "Is this an acceptable range?  y\n"
     ]
    }
   ],
   "source": [
    "Picarro = wind_add(Picarro)\n",
    "pd.to_pickle(plot_refinement_picarro(Picarro),\"Test.pkl\")"
   ]
  },
  {
   "cell_type": "code",
   "execution_count": 56,
   "metadata": {},
   "outputs": [
    {
     "data": {
      "text/html": [
       "<div>\n",
       "<style scoped>\n",
       "    .dataframe tbody tr th:only-of-type {\n",
       "        vertical-align: middle;\n",
       "    }\n",
       "\n",
       "    .dataframe tbody tr th {\n",
       "        vertical-align: top;\n",
       "    }\n",
       "\n",
       "    .dataframe thead th {\n",
       "        text-align: right;\n",
       "    }\n",
       "</style>\n",
       "<table border=\"1\" class=\"dataframe\">\n",
       "  <thead>\n",
       "    <tr style=\"text-align: right;\">\n",
       "      <th></th>\n",
       "      <th>Local_DT</th>\n",
       "      <th>EPOCH_TIME</th>\n",
       "      <th>CO2</th>\n",
       "      <th>ANEM_Y</th>\n",
       "    </tr>\n",
       "  </thead>\n",
       "  <tbody>\n",
       "    <tr>\n",
       "      <th>0</th>\n",
       "      <td>2019-09-20</td>\n",
       "      <td>1.568959e+09</td>\n",
       "      <td>410.351675</td>\n",
       "      <td>-0.333568</td>\n",
       "    </tr>\n",
       "    <tr>\n",
       "      <th>1</th>\n",
       "      <td>2019-09-20</td>\n",
       "      <td>1.568959e+09</td>\n",
       "      <td>410.275616</td>\n",
       "      <td>-0.275411</td>\n",
       "    </tr>\n",
       "    <tr>\n",
       "      <th>2</th>\n",
       "      <td>2019-09-20</td>\n",
       "      <td>1.568959e+09</td>\n",
       "      <td>410.358252</td>\n",
       "      <td>-0.166492</td>\n",
       "    </tr>\n",
       "    <tr>\n",
       "      <th>3</th>\n",
       "      <td>2019-09-20</td>\n",
       "      <td>1.568959e+09</td>\n",
       "      <td>410.049681</td>\n",
       "      <td>-0.280944</td>\n",
       "    </tr>\n",
       "    <tr>\n",
       "      <th>4</th>\n",
       "      <td>2019-09-20</td>\n",
       "      <td>1.568959e+09</td>\n",
       "      <td>410.399144</td>\n",
       "      <td>-0.081170</td>\n",
       "    </tr>\n",
       "  </tbody>\n",
       "</table>\n",
       "</div>"
      ],
      "text/plain": [
       "    Local_DT    EPOCH_TIME         CO2    ANEM_Y\n",
       "0 2019-09-20  1.568959e+09  410.351675 -0.333568\n",
       "1 2019-09-20  1.568959e+09  410.275616 -0.275411\n",
       "2 2019-09-20  1.568959e+09  410.358252 -0.166492\n",
       "3 2019-09-20  1.568959e+09  410.049681 -0.280944\n",
       "4 2019-09-20  1.568959e+09  410.399144 -0.081170"
      ]
     },
     "execution_count": 56,
     "metadata": {},
     "output_type": "execute_result"
    }
   ],
   "source": [
    "Picarro.head()"
   ]
  },
  {
   "cell_type": "code",
   "execution_count": 29,
   "metadata": {
    "scrolled": true
   },
   "outputs": [
    {
     "data": {
      "text/html": [
       "<div>\n",
       "<style scoped>\n",
       "    .dataframe tbody tr th:only-of-type {\n",
       "        vertical-align: middle;\n",
       "    }\n",
       "\n",
       "    .dataframe tbody tr th {\n",
       "        vertical-align: top;\n",
       "    }\n",
       "\n",
       "    .dataframe thead th {\n",
       "        text-align: right;\n",
       "    }\n",
       "</style>\n",
       "<table border=\"1\" class=\"dataframe\">\n",
       "  <thead>\n",
       "    <tr style=\"text-align: right;\">\n",
       "      <th></th>\n",
       "      <th>Actual_DT</th>\n",
       "      <th>Actual_ET</th>\n",
       "      <th>Picarro_ANEM</th>\n",
       "      <th>Picarro_CO2</th>\n",
       "      <th>LI_8100_Vent</th>\n",
       "      <th>Multiplexer_CO2_1</th>\n",
       "      <th>Multiplexer_CO2_2</th>\n",
       "      <th>Multiplexer_CO2_3</th>\n",
       "    </tr>\n",
       "  </thead>\n",
       "  <tbody>\n",
       "  </tbody>\n",
       "</table>\n",
       "</div>"
      ],
      "text/plain": [
       "Empty DataFrame\n",
       "Columns: [Actual_DT, Actual_ET, Picarro_ANEM, Picarro_CO2, LI_8100_Vent, Multiplexer_CO2_1, Multiplexer_CO2_2, Multiplexer_CO2_3]\n",
       "Index: []"
      ]
     },
     "execution_count": 29,
     "metadata": {},
     "output_type": "execute_result"
    }
   ],
   "source": [
    "actual_spike_df = pd.DataFrame(columns=['Actual_DT','Actual_ET','Picarro_ANEM','Picarro_CO2','LI_8100_Vent','Multiplexer_CO2_1','Multiplexer_CO2_2','Multiplexer_CO2_3'])\n",
    "#actual_spike_df = pd.read_pickle('All_actualET.pkl')\n",
    "actual_spike_df"
   ]
  },
  {
   "cell_type": "code",
   "execution_count": 43,
   "metadata": {},
   "outputs": [
    {
     "data": {
      "image/png": "[encoded data removed]",
      "text/plain": [
       "<Figure size 1080x360 with 3 Axes>"
      ]
     },
     "metadata": {
      "needs_background": "light"
     },
     "output_type": "display_data"
    },
    {
     "name": "stdin",
     "output_type": "stream",
     "text": [
      "Is this an acceptable range?  dd\n",
      "Input Start DateTime as YYYY-mm-DD HH:MM:SS -  d\n",
      "Input End DateTime as YYYY-mm-DD HH:MM:SS -  d\n"
     ]
    },
    {
     "ename": "TypeError",
     "evalue": "Invalid comparison between dtype=datetime64[ns] and str",
     "output_type": "error",
     "traceback": [
      "\u001b[1;31m---------------------------------------------------------------------------\u001b[0m",
      "\u001b[1;31mValueError\u001b[0m                                Traceback (most recent call last)",
      "\u001b[1;32mpandas\\_libs\\tslibs\\conversion.pyx\u001b[0m in \u001b[0;36mpandas._libs.tslibs.conversion.convert_str_to_tsobject\u001b[1;34m()\u001b[0m\n",
      "\u001b[1;32mpandas\\_libs\\tslibs\\parsing.pyx\u001b[0m in \u001b[0;36mpandas._libs.tslibs.parsing.parse_datetime_string\u001b[1;34m()\u001b[0m\n",
      "\u001b[1;32m~\\Anaconda3\\envs\\CO2_Eddy\\lib\\site-packages\\dateutil\\parser\\_parser.py\u001b[0m in \u001b[0;36mparse\u001b[1;34m(timestr, parserinfo, **kwargs)\u001b[0m\n\u001b[0;32m   1357\u001b[0m     \u001b[1;32melse\u001b[0m\u001b[1;33m:\u001b[0m\u001b[1;33m\u001b[0m\u001b[1;33m\u001b[0m\u001b[0m\n\u001b[1;32m-> 1358\u001b[1;33m         \u001b[1;32mreturn\u001b[0m \u001b[0mDEFAULTPARSER\u001b[0m\u001b[1;33m.\u001b[0m\u001b[0mparse\u001b[0m\u001b[1;33m(\u001b[0m\u001b[0mtimestr\u001b[0m\u001b[1;33m,\u001b[0m \u001b[1;33m**\u001b[0m\u001b[0mkwargs\u001b[0m\u001b[1;33m)\u001b[0m\u001b[1;33m\u001b[0m\u001b[1;33m\u001b[0m\u001b[0m\n\u001b[0m\u001b[0;32m   1359\u001b[0m \u001b[1;33m\u001b[0m\u001b[0m\n",
      "\u001b[1;32m~\\Anaconda3\\envs\\CO2_Eddy\\lib\\site-packages\\dateutil\\parser\\_parser.py\u001b[0m in \u001b[0;36mparse\u001b[1;34m(self, timestr, default, ignoretz, tzinfos, **kwargs)\u001b[0m\n\u001b[0;32m    648\u001b[0m         \u001b[1;32mif\u001b[0m \u001b[0mres\u001b[0m \u001b[1;32mis\u001b[0m \u001b[1;32mNone\u001b[0m\u001b[1;33m:\u001b[0m\u001b[1;33m\u001b[0m\u001b[1;33m\u001b[0m\u001b[0m\n\u001b[1;32m--> 649\u001b[1;33m             \u001b[1;32mraise\u001b[0m \u001b[0mValueError\u001b[0m\u001b[1;33m(\u001b[0m\u001b[1;34m\"Unknown string format:\"\u001b[0m\u001b[1;33m,\u001b[0m \u001b[0mtimestr\u001b[0m\u001b[1;33m)\u001b[0m\u001b[1;33m\u001b[0m\u001b[1;33m\u001b[0m\u001b[0m\n\u001b[0m\u001b[0;32m    650\u001b[0m \u001b[1;33m\u001b[0m\u001b[0m\n",
      "\u001b[1;31mValueError\u001b[0m: ('Unknown string format:', 'd')",
      "\nDuring handling of the above exception, another exception occurred:\n",
      "\u001b[1;31mValueError\u001b[0m                                Traceback (most recent call last)",
      "\u001b[1;32m~\\Anaconda3\\envs\\CO2_Eddy\\lib\\site-packages\\pandas\\core\\arrays\\datetimes.py\u001b[0m in \u001b[0;36mwrapper\u001b[1;34m(self, other)\u001b[0m\n\u001b[0;32m    170\u001b[0m             \u001b[1;32mtry\u001b[0m\u001b[1;33m:\u001b[0m\u001b[1;33m\u001b[0m\u001b[1;33m\u001b[0m\u001b[0m\n\u001b[1;32m--> 171\u001b[1;33m                 \u001b[0mother\u001b[0m \u001b[1;33m=\u001b[0m \u001b[0m_to_M8\u001b[0m\u001b[1;33m(\u001b[0m\u001b[0mother\u001b[0m\u001b[1;33m,\u001b[0m \u001b[0mtz\u001b[0m\u001b[1;33m=\u001b[0m\u001b[0mself\u001b[0m\u001b[1;33m.\u001b[0m\u001b[0mtz\u001b[0m\u001b[1;33m)\u001b[0m\u001b[1;33m\u001b[0m\u001b[1;33m\u001b[0m\u001b[0m\n\u001b[0m\u001b[0;32m    172\u001b[0m             \u001b[1;32mexcept\u001b[0m \u001b[0mValueError\u001b[0m\u001b[1;33m:\u001b[0m\u001b[1;33m\u001b[0m\u001b[1;33m\u001b[0m\u001b[0m\n",
      "\u001b[1;32m~\\Anaconda3\\envs\\CO2_Eddy\\lib\\site-packages\\pandas\\core\\arrays\\datetimes.py\u001b[0m in \u001b[0;36m_to_M8\u001b[1;34m(key, tz)\u001b[0m\n\u001b[0;32m    101\u001b[0m         \u001b[1;31m# this also converts strings\u001b[0m\u001b[1;33m\u001b[0m\u001b[1;33m\u001b[0m\u001b[1;33m\u001b[0m\u001b[0m\n\u001b[1;32m--> 102\u001b[1;33m         \u001b[0mkey\u001b[0m \u001b[1;33m=\u001b[0m \u001b[0mTimestamp\u001b[0m\u001b[1;33m(\u001b[0m\u001b[0mkey\u001b[0m\u001b[1;33m)\u001b[0m\u001b[1;33m\u001b[0m\u001b[1;33m\u001b[0m\u001b[0m\n\u001b[0m\u001b[0;32m    103\u001b[0m         \u001b[1;32mif\u001b[0m \u001b[0mkey\u001b[0m\u001b[1;33m.\u001b[0m\u001b[0mtzinfo\u001b[0m \u001b[1;32mis\u001b[0m \u001b[1;32mnot\u001b[0m \u001b[1;32mNone\u001b[0m \u001b[1;32mand\u001b[0m \u001b[0mtz\u001b[0m \u001b[1;32mis\u001b[0m \u001b[1;32mnot\u001b[0m \u001b[1;32mNone\u001b[0m\u001b[1;33m:\u001b[0m\u001b[1;33m\u001b[0m\u001b[1;33m\u001b[0m\u001b[0m\n",
      "\u001b[1;32mpandas\\_libs\\tslibs\\timestamps.pyx\u001b[0m in \u001b[0;36mpandas._libs.tslibs.timestamps.Timestamp.__new__\u001b[1;34m()\u001b[0m\n",
      "\u001b[1;32mpandas\\_libs\\tslibs\\conversion.pyx\u001b[0m in \u001b[0;36mpandas._libs.tslibs.conversion.convert_to_tsobject\u001b[1;34m()\u001b[0m\n",
      "\u001b[1;32mpandas\\_libs\\tslibs\\conversion.pyx\u001b[0m in \u001b[0;36mpandas._libs.tslibs.conversion.convert_str_to_tsobject\u001b[1;34m()\u001b[0m\n",
      "\u001b[1;31mValueError\u001b[0m: could not convert string to Timestamp",
      "\nDuring handling of the above exception, another exception occurred:\n",
      "\u001b[1;31mTypeError\u001b[0m                                 Traceback (most recent call last)",
      "\u001b[1;32m<ipython-input-43-360f8f96b087>\u001b[0m in \u001b[0;36m<module>\u001b[1;34m\u001b[0m\n\u001b[0;32m     17\u001b[0m \u001b[1;31m#     more_spikes = input(\"More Picarro spikes? \")\u001b[0m\u001b[1;33m\u001b[0m\u001b[1;33m\u001b[0m\u001b[1;33m\u001b[0m\u001b[0m\n\u001b[0;32m     18\u001b[0m \u001b[1;33m\u001b[0m\u001b[0m\n\u001b[1;32m---> 19\u001b[1;33m \u001b[0mactual_spike_df\u001b[0m \u001b[1;33m=\u001b[0m \u001b[0mcreate_actual_spike\u001b[0m\u001b[1;33m(\u001b[0m\u001b[0mactual_spike_df\u001b[0m\u001b[1;33m,\u001b[0m\u001b[0mMultiplexer_df\u001b[0m \u001b[1;33m=\u001b[0m \u001b[0mMultiplexer\u001b[0m\u001b[1;33m)\u001b[0m\u001b[1;33m\u001b[0m\u001b[1;33m\u001b[0m\u001b[0m\n\u001b[0m\u001b[0;32m     20\u001b[0m \u001b[0mmore_spikes\u001b[0m \u001b[1;33m=\u001b[0m \u001b[0minput\u001b[0m\u001b[1;33m(\u001b[0m\u001b[1;34m\"More Multiplexer spikes? \"\u001b[0m\u001b[1;33m)\u001b[0m\u001b[1;33m\u001b[0m\u001b[1;33m\u001b[0m\u001b[0m\n\u001b[0;32m     21\u001b[0m \u001b[1;32mwhile\u001b[0m \u001b[0mmore_spikes\u001b[0m \u001b[1;33m==\u001b[0m \u001b[1;34m'y'\u001b[0m\u001b[1;33m:\u001b[0m\u001b[1;33m\u001b[0m\u001b[1;33m\u001b[0m\u001b[0m\n",
      "\u001b[1;32m<ipython-input-27-1e1fa99b1bf3>\u001b[0m in \u001b[0;36mcreate_actual_spike\u001b[1;34m(arg1, **kwargs)\u001b[0m\n\u001b[0;32m     15\u001b[0m             \u001b[0mspike_ET_df\u001b[0m \u001b[1;33m=\u001b[0m \u001b[0mspike_ET_df_creation\u001b[0m\u001b[1;33m(\u001b[0m\u001b[0mLI_remote_df\u001b[0m \u001b[1;33m=\u001b[0m \u001b[0mLI_remote_clip\u001b[0m\u001b[1;33m)\u001b[0m\u001b[1;33m\u001b[0m\u001b[1;33m\u001b[0m\u001b[0m\n\u001b[0;32m     16\u001b[0m         \u001b[1;32melif\u001b[0m \u001b[1;34m'Multiplexer'\u001b[0m \u001b[1;32min\u001b[0m \u001b[0mkey\u001b[0m\u001b[1;33m:\u001b[0m\u001b[1;33m\u001b[0m\u001b[1;33m\u001b[0m\u001b[0m\n\u001b[1;32m---> 17\u001b[1;33m             \u001b[0mMultiplexer_clip\u001b[0m \u001b[1;33m=\u001b[0m \u001b[0mplot_refinement_multiplexer\u001b[0m\u001b[1;33m(\u001b[0m\u001b[0mvalue\u001b[0m\u001b[1;33m)\u001b[0m\u001b[1;33m\u001b[0m\u001b[1;33m\u001b[0m\u001b[0m\n\u001b[0m\u001b[0;32m     18\u001b[0m             \u001b[0mMultiplexer_clip\u001b[0m \u001b[1;33m=\u001b[0m \u001b[0mfill_multiplexer_gaps\u001b[0m\u001b[1;33m(\u001b[0m\u001b[0mMultiplexer_clip\u001b[0m\u001b[1;33m)\u001b[0m\u001b[1;33m\u001b[0m\u001b[1;33m\u001b[0m\u001b[0m\n\u001b[0;32m     19\u001b[0m             \u001b[0mspike_ET_df\u001b[0m \u001b[1;33m=\u001b[0m \u001b[0mspike_ET_df_creation\u001b[0m\u001b[1;33m(\u001b[0m\u001b[0mMultiplexer_df\u001b[0m \u001b[1;33m=\u001b[0m \u001b[0mMultiplexer_clip\u001b[0m\u001b[1;33m)\u001b[0m\u001b[1;33m\u001b[0m\u001b[1;33m\u001b[0m\u001b[0m\n",
      "\u001b[1;32m<ipython-input-13-a2a0f11a2979>\u001b[0m in \u001b[0;36mplot_refinement_multiplexer\u001b[1;34m(df)\u001b[0m\n\u001b[0;32m     12\u001b[0m         \u001b[0mDT2\u001b[0m \u001b[1;33m=\u001b[0m \u001b[0minput\u001b[0m\u001b[1;33m(\u001b[0m\u001b[1;34m\"Input End DateTime as YYYY-mm-DD HH:MM:SS - \"\u001b[0m\u001b[1;33m)\u001b[0m \u001b[1;31m#get end of range\u001b[0m\u001b[1;33m\u001b[0m\u001b[1;33m\u001b[0m\u001b[0m\n\u001b[0;32m     13\u001b[0m \u001b[1;33m\u001b[0m\u001b[0m\n\u001b[1;32m---> 14\u001b[1;33m         \u001b[0mdf1\u001b[0m \u001b[1;33m=\u001b[0m \u001b[0mdf\u001b[0m\u001b[1;33m.\u001b[0m\u001b[0mloc\u001b[0m\u001b[1;33m[\u001b[0m\u001b[1;33m(\u001b[0m\u001b[0mdf\u001b[0m\u001b[1;33m[\u001b[0m\u001b[1;34m'Local_DT'\u001b[0m\u001b[1;33m]\u001b[0m\u001b[1;33m>=\u001b[0m\u001b[0mDT1\u001b[0m\u001b[1;33m)\u001b[0m\u001b[1;33m&\u001b[0m\u001b[1;33m(\u001b[0m\u001b[0mdf\u001b[0m\u001b[1;33m[\u001b[0m\u001b[1;34m'Local_DT'\u001b[0m\u001b[1;33m]\u001b[0m\u001b[1;33m<=\u001b[0m\u001b[0mDT2\u001b[0m\u001b[1;33m)\u001b[0m\u001b[1;33m]\u001b[0m \u001b[1;31m#clip the data to the range given\u001b[0m\u001b[1;33m\u001b[0m\u001b[1;33m\u001b[0m\u001b[0m\n\u001b[0m\u001b[0;32m     15\u001b[0m \u001b[1;33m\u001b[0m\u001b[0m\n\u001b[0;32m     16\u001b[0m         \u001b[0mplot_vertical_stack\u001b[0m\u001b[1;33m(\u001b[0m\u001b[0mdf1\u001b[0m\u001b[1;33m)\u001b[0m \u001b[1;31m#plot over that range\u001b[0m\u001b[1;33m\u001b[0m\u001b[1;33m\u001b[0m\u001b[0m\n",
      "\u001b[1;32m~\\Anaconda3\\envs\\CO2_Eddy\\lib\\site-packages\\pandas\\core\\ops\\__init__.py\u001b[0m in \u001b[0;36mwrapper\u001b[1;34m(self, other, axis)\u001b[0m\n\u001b[0;32m   1177\u001b[0m                 \u001b[0mother\u001b[0m \u001b[1;33m=\u001b[0m \u001b[0mTimestamp\u001b[0m\u001b[1;33m(\u001b[0m\u001b[0mother\u001b[0m\u001b[1;33m)\u001b[0m\u001b[1;33m\u001b[0m\u001b[1;33m\u001b[0m\u001b[0m\n\u001b[0;32m   1178\u001b[0m \u001b[1;33m\u001b[0m\u001b[0m\n\u001b[1;32m-> 1179\u001b[1;33m             \u001b[0mres_values\u001b[0m \u001b[1;33m=\u001b[0m \u001b[0mdispatch_to_index_op\u001b[0m\u001b[1;33m(\u001b[0m\u001b[0mop\u001b[0m\u001b[1;33m,\u001b[0m \u001b[0mself\u001b[0m\u001b[1;33m,\u001b[0m \u001b[0mother\u001b[0m\u001b[1;33m,\u001b[0m \u001b[0mpd\u001b[0m\u001b[1;33m.\u001b[0m\u001b[0mDatetimeIndex\u001b[0m\u001b[1;33m)\u001b[0m\u001b[1;33m\u001b[0m\u001b[1;33m\u001b[0m\u001b[0m\n\u001b[0m\u001b[0;32m   1180\u001b[0m \u001b[1;33m\u001b[0m\u001b[0m\n\u001b[0;32m   1181\u001b[0m             \u001b[1;32mreturn\u001b[0m \u001b[0mself\u001b[0m\u001b[1;33m.\u001b[0m\u001b[0m_constructor\u001b[0m\u001b[1;33m(\u001b[0m\u001b[0mres_values\u001b[0m\u001b[1;33m,\u001b[0m \u001b[0mindex\u001b[0m\u001b[1;33m=\u001b[0m\u001b[0mself\u001b[0m\u001b[1;33m.\u001b[0m\u001b[0mindex\u001b[0m\u001b[1;33m,\u001b[0m \u001b[0mname\u001b[0m\u001b[1;33m=\u001b[0m\u001b[0mres_name\u001b[0m\u001b[1;33m)\u001b[0m\u001b[1;33m\u001b[0m\u001b[1;33m\u001b[0m\u001b[0m\n",
      "\u001b[1;32m~\\Anaconda3\\envs\\CO2_Eddy\\lib\\site-packages\\pandas\\core\\ops\\__init__.py\u001b[0m in \u001b[0;36mdispatch_to_index_op\u001b[1;34m(op, left, right, index_class)\u001b[0m\n\u001b[0;32m    628\u001b[0m         \u001b[0mleft_idx\u001b[0m \u001b[1;33m=\u001b[0m \u001b[0mleft_idx\u001b[0m\u001b[1;33m.\u001b[0m\u001b[0m_shallow_copy\u001b[0m\u001b[1;33m(\u001b[0m\u001b[0mfreq\u001b[0m\u001b[1;33m=\u001b[0m\u001b[1;32mNone\u001b[0m\u001b[1;33m)\u001b[0m\u001b[1;33m\u001b[0m\u001b[1;33m\u001b[0m\u001b[0m\n\u001b[0;32m    629\u001b[0m     \u001b[1;32mtry\u001b[0m\u001b[1;33m:\u001b[0m\u001b[1;33m\u001b[0m\u001b[1;33m\u001b[0m\u001b[0m\n\u001b[1;32m--> 630\u001b[1;33m         \u001b[0mresult\u001b[0m \u001b[1;33m=\u001b[0m \u001b[0mop\u001b[0m\u001b[1;33m(\u001b[0m\u001b[0mleft_idx\u001b[0m\u001b[1;33m,\u001b[0m \u001b[0mright\u001b[0m\u001b[1;33m)\u001b[0m\u001b[1;33m\u001b[0m\u001b[1;33m\u001b[0m\u001b[0m\n\u001b[0m\u001b[0;32m    631\u001b[0m     \u001b[1;32mexcept\u001b[0m \u001b[0mNullFrequencyError\u001b[0m\u001b[1;33m:\u001b[0m\u001b[1;33m\u001b[0m\u001b[1;33m\u001b[0m\u001b[0m\n\u001b[0;32m    632\u001b[0m         \u001b[1;31m# DatetimeIndex and TimedeltaIndex with freq == None raise ValueError\u001b[0m\u001b[1;33m\u001b[0m\u001b[1;33m\u001b[0m\u001b[1;33m\u001b[0m\u001b[0m\n",
      "\u001b[1;32m~\\Anaconda3\\envs\\CO2_Eddy\\lib\\site-packages\\pandas\\core\\indexes\\datetimelike.py\u001b[0m in \u001b[0;36mwrapper\u001b[1;34m(self, other)\u001b[0m\n\u001b[0;32m    130\u001b[0m                 \u001b[0mother\u001b[0m \u001b[1;33m=\u001b[0m \u001b[0mother\u001b[0m\u001b[1;33m.\u001b[0m\u001b[0m_values\u001b[0m\u001b[1;33m\u001b[0m\u001b[1;33m\u001b[0m\u001b[0m\n\u001b[0;32m    131\u001b[0m \u001b[1;33m\u001b[0m\u001b[0m\n\u001b[1;32m--> 132\u001b[1;33m             \u001b[0mresult\u001b[0m \u001b[1;33m=\u001b[0m \u001b[0mop\u001b[0m\u001b[1;33m(\u001b[0m\u001b[0mself\u001b[0m\u001b[1;33m.\u001b[0m\u001b[0m_data\u001b[0m\u001b[1;33m,\u001b[0m \u001b[0mmaybe_unwrap_index\u001b[0m\u001b[1;33m(\u001b[0m\u001b[0mother\u001b[0m\u001b[1;33m)\u001b[0m\u001b[1;33m)\u001b[0m\u001b[1;33m\u001b[0m\u001b[1;33m\u001b[0m\u001b[0m\n\u001b[0m\u001b[0;32m    133\u001b[0m             \u001b[1;32mreturn\u001b[0m \u001b[0mresult\u001b[0m\u001b[1;33m\u001b[0m\u001b[1;33m\u001b[0m\u001b[0m\n\u001b[0;32m    134\u001b[0m \u001b[1;33m\u001b[0m\u001b[0m\n",
      "\u001b[1;32m~\\Anaconda3\\envs\\CO2_Eddy\\lib\\site-packages\\pandas\\core\\arrays\\datetimes.py\u001b[0m in \u001b[0;36mwrapper\u001b[1;34m(self, other)\u001b[0m\n\u001b[0;32m    172\u001b[0m             \u001b[1;32mexcept\u001b[0m \u001b[0mValueError\u001b[0m\u001b[1;33m:\u001b[0m\u001b[1;33m\u001b[0m\u001b[1;33m\u001b[0m\u001b[0m\n\u001b[0;32m    173\u001b[0m                 \u001b[1;31m# string that cannot be parsed to Timestamp\u001b[0m\u001b[1;33m\u001b[0m\u001b[1;33m\u001b[0m\u001b[1;33m\u001b[0m\u001b[0m\n\u001b[1;32m--> 174\u001b[1;33m                 \u001b[1;32mreturn\u001b[0m \u001b[0mops\u001b[0m\u001b[1;33m.\u001b[0m\u001b[0minvalid_comparison\u001b[0m\u001b[1;33m(\u001b[0m\u001b[0mself\u001b[0m\u001b[1;33m,\u001b[0m \u001b[0mother\u001b[0m\u001b[1;33m,\u001b[0m \u001b[0mop\u001b[0m\u001b[1;33m)\u001b[0m\u001b[1;33m\u001b[0m\u001b[1;33m\u001b[0m\u001b[0m\n\u001b[0m\u001b[0;32m    175\u001b[0m \u001b[1;33m\u001b[0m\u001b[0m\n\u001b[0;32m    176\u001b[0m             \u001b[0mresult\u001b[0m \u001b[1;33m=\u001b[0m \u001b[0mop\u001b[0m\u001b[1;33m(\u001b[0m\u001b[0mself\u001b[0m\u001b[1;33m.\u001b[0m\u001b[0masi8\u001b[0m\u001b[1;33m,\u001b[0m \u001b[0mother\u001b[0m\u001b[1;33m.\u001b[0m\u001b[0mview\u001b[0m\u001b[1;33m(\u001b[0m\u001b[1;34m\"i8\"\u001b[0m\u001b[1;33m)\u001b[0m\u001b[1;33m)\u001b[0m\u001b[1;33m\u001b[0m\u001b[1;33m\u001b[0m\u001b[0m\n",
      "\u001b[1;32m~\\Anaconda3\\envs\\CO2_Eddy\\lib\\site-packages\\pandas\\core\\ops\\__init__.py\u001b[0m in \u001b[0;36minvalid_comparison\u001b[1;34m(left, right, op)\u001b[0m\n\u001b[0;32m    495\u001b[0m         raise TypeError(\n\u001b[0;32m    496\u001b[0m             \"Invalid comparison between dtype={dtype} and {typ}\".format(\n\u001b[1;32m--> 497\u001b[1;33m                 \u001b[0mdtype\u001b[0m\u001b[1;33m=\u001b[0m\u001b[0mleft\u001b[0m\u001b[1;33m.\u001b[0m\u001b[0mdtype\u001b[0m\u001b[1;33m,\u001b[0m \u001b[0mtyp\u001b[0m\u001b[1;33m=\u001b[0m\u001b[0mtype\u001b[0m\u001b[1;33m(\u001b[0m\u001b[0mright\u001b[0m\u001b[1;33m)\u001b[0m\u001b[1;33m.\u001b[0m\u001b[0m__name__\u001b[0m\u001b[1;33m\u001b[0m\u001b[1;33m\u001b[0m\u001b[0m\n\u001b[0m\u001b[0;32m    498\u001b[0m             )\n\u001b[0;32m    499\u001b[0m         )\n",
      "\u001b[1;31mTypeError\u001b[0m: Invalid comparison between dtype=datetime64[ns] and str"
     ]
    }
   ],
   "source": [
    "# actual_spike_df = create_actual_spike(actual_spike_df,Vent_Anem_Temp_df=Vent_Anem_Temp)\n",
    "# more_spikes = input(\"More Vent_Anem_Temp spikes? \")\n",
    "# while more_spikes == 'y':\n",
    "#     actual_spike_df = create_actual_spike(actual_spike_df,Vent_Anem_Temp_df=Vent_Anem_Temp)\n",
    "#     more_spikes = input(\"More Vent_Anem_Temp spikes? \")\n",
    "    \n",
    "# actual_spike_df = create_actual_spike(actual_spike_df,Picarro_CO2_df = Picarro)\n",
    "# more_spikes = input(\"More Picarro spikes? \")\n",
    "# while more_spikes == 'y':\n",
    "#     actual_spike_df = create_actual_spike(actual_spike_df,Picarro_CO2_df = Picarro)\n",
    "#     more_spikes = input(\"More Picarro spikes? \")\n",
    "    \n",
    "# actual_spike_df = create_actual_spike(actual_spike_df,Picarro_ANEM_df = Picarro)\n",
    "# more_spikes = input(\"More Picarro spikes? \")\n",
    "# while more_spikes == 'y':\n",
    "#     actual_spike_df = create_actual_spike(actual_spike_df,Picarro_ANEM_df = Picarro)\n",
    "#     more_spikes = input(\"More Picarro spikes? \")\n",
    "    \n",
    "# actual_spike_df = create_actual_spike(actual_spike_df,Multiplexer_df = Multiplexer)\n",
    "# more_spikes = input(\"More Multiplexer spikes? \")\n",
    "# while more_spikes == 'y':\n",
    "#     actual_spike_df = create_actual_spike(actual_spike_df,Multiplexer_df = Multiplexer)\n",
    "#     more_spikes = input(\"More Multiplexer spikes? \")\n",
    "\n",
    "# actual_spike_df = create_actual_spike(actual_spike_df,LI_vent_df = LI_vent)\n",
    "# more_spikes = input(\"More LI_vent spikes? \")\n",
    "# while more_spikes == 'y':\n",
    "#     actual_spike_df = create_actual_spike(actual_spike_df,LI_vent_df = LI_vent)\n",
    "#     more_spikes = input(\"More LI_vent spikes? \")\n"
   ]
  },
  {
   "cell_type": "code",
   "execution_count": 41,
   "metadata": {
    "scrolled": true
   },
   "outputs": [
    {
     "data": {
      "text/html": [
       "<div>\n",
       "<style scoped>\n",
       "    .dataframe tbody tr th:only-of-type {\n",
       "        vertical-align: middle;\n",
       "    }\n",
       "\n",
       "    .dataframe tbody tr th {\n",
       "        vertical-align: top;\n",
       "    }\n",
       "\n",
       "    .dataframe thead th {\n",
       "        text-align: right;\n",
       "    }\n",
       "</style>\n",
       "<table border=\"1\" class=\"dataframe\">\n",
       "  <thead>\n",
       "    <tr style=\"text-align: right;\">\n",
       "      <th></th>\n",
       "      <th>Actual_DT</th>\n",
       "      <th>Actual_ET</th>\n",
       "      <th>LI_8100_Vent</th>\n",
       "      <th>Multiplexer_CO2_1</th>\n",
       "      <th>Multiplexer_CO2_2</th>\n",
       "      <th>Multiplexer_CO2_3</th>\n",
       "      <th>Picarro_ANEM</th>\n",
       "      <th>Picarro_CO2</th>\n",
       "      <th>Vent_Anem_Temp</th>\n",
       "    </tr>\n",
       "  </thead>\n",
       "  <tbody>\n",
       "    <tr>\n",
       "      <th>0</th>\n",
       "      <td>2019-09-30 08:55:00</td>\n",
       "      <td>1569855300</td>\n",
       "      <td>NaN</td>\n",
       "      <td>NaN</td>\n",
       "      <td>NaN</td>\n",
       "      <td>NaN</td>\n",
       "      <td>NaN</td>\n",
       "      <td>NaN</td>\n",
       "      <td>1.569856e+09</td>\n",
       "    </tr>\n",
       "    <tr>\n",
       "      <th>1</th>\n",
       "      <td>2019-09-30 19:46:00</td>\n",
       "      <td>1569894360</td>\n",
       "      <td>NaN</td>\n",
       "      <td>NaN</td>\n",
       "      <td>NaN</td>\n",
       "      <td>NaN</td>\n",
       "      <td>NaN</td>\n",
       "      <td>NaN</td>\n",
       "      <td>1.569895e+09</td>\n",
       "    </tr>\n",
       "    <tr>\n",
       "      <th>2</th>\n",
       "      <td>2019-10-01 08:50:00</td>\n",
       "      <td>1569941400</td>\n",
       "      <td>NaN</td>\n",
       "      <td>NaN</td>\n",
       "      <td>NaN</td>\n",
       "      <td>NaN</td>\n",
       "      <td>NaN</td>\n",
       "      <td>NaN</td>\n",
       "      <td>1.569942e+09</td>\n",
       "    </tr>\n",
       "    <tr>\n",
       "      <th>3</th>\n",
       "      <td>2019-10-01 19:46:00</td>\n",
       "      <td>1569980760</td>\n",
       "      <td>NaN</td>\n",
       "      <td>NaN</td>\n",
       "      <td>NaN</td>\n",
       "      <td>NaN</td>\n",
       "      <td>NaN</td>\n",
       "      <td>NaN</td>\n",
       "      <td>1.569980e+09</td>\n",
       "    </tr>\n",
       "    <tr>\n",
       "      <th>4</th>\n",
       "      <td>2019-10-01 19:25:00</td>\n",
       "      <td>1569979500</td>\n",
       "      <td>NaN</td>\n",
       "      <td>NaN</td>\n",
       "      <td>NaN</td>\n",
       "      <td>NaN</td>\n",
       "      <td>NaN</td>\n",
       "      <td>NaN</td>\n",
       "      <td>1.569980e+09</td>\n",
       "    </tr>\n",
       "    <tr>\n",
       "      <th>5</th>\n",
       "      <td>2019-09-30 11:46:00</td>\n",
       "      <td>1569865560</td>\n",
       "      <td>NaN</td>\n",
       "      <td>1569866069</td>\n",
       "      <td>1569866070</td>\n",
       "      <td>1569866069</td>\n",
       "      <td>NaN</td>\n",
       "      <td>NaN</td>\n",
       "      <td>NaN</td>\n",
       "    </tr>\n",
       "    <tr>\n",
       "      <th>6</th>\n",
       "      <td>2019-09-30 19:52:00</td>\n",
       "      <td>1569894720</td>\n",
       "      <td>NaN</td>\n",
       "      <td>1569895233</td>\n",
       "      <td>1569895233</td>\n",
       "      <td>1569895233</td>\n",
       "      <td>NaN</td>\n",
       "      <td>NaN</td>\n",
       "      <td>NaN</td>\n",
       "    </tr>\n",
       "    <tr>\n",
       "      <th>7</th>\n",
       "      <td>2019-10-01 08:42:00</td>\n",
       "      <td>1569940920</td>\n",
       "      <td>NaN</td>\n",
       "      <td>1569941439</td>\n",
       "      <td>1569941439</td>\n",
       "      <td>1569941439</td>\n",
       "      <td>NaN</td>\n",
       "      <td>NaN</td>\n",
       "      <td>NaN</td>\n",
       "    </tr>\n",
       "    <tr>\n",
       "      <th>8</th>\n",
       "      <td>2019-10-01 19:31:00</td>\n",
       "      <td>1569979860</td>\n",
       "      <td>NaN</td>\n",
       "      <td>1569980383</td>\n",
       "      <td>1569980383</td>\n",
       "      <td>1569980384</td>\n",
       "      <td>NaN</td>\n",
       "      <td>NaN</td>\n",
       "      <td>NaN</td>\n",
       "    </tr>\n",
       "  </tbody>\n",
       "</table>\n",
       "</div>"
      ],
      "text/plain": [
       "             Actual_DT   Actual_ET LI_8100_Vent Multiplexer_CO2_1  \\\n",
       "0  2019-09-30 08:55:00  1569855300          NaN               NaN   \n",
       "1  2019-09-30 19:46:00  1569894360          NaN               NaN   \n",
       "2  2019-10-01 08:50:00  1569941400          NaN               NaN   \n",
       "3  2019-10-01 19:46:00  1569980760          NaN               NaN   \n",
       "4  2019-10-01 19:25:00  1569979500          NaN               NaN   \n",
       "5  2019-09-30 11:46:00  1569865560          NaN        1569866069   \n",
       "6  2019-09-30 19:52:00  1569894720          NaN        1569895233   \n",
       "7  2019-10-01 08:42:00  1569940920          NaN        1569941439   \n",
       "8  2019-10-01 19:31:00  1569979860          NaN        1569980383   \n",
       "\n",
       "  Multiplexer_CO2_2 Multiplexer_CO2_3 Picarro_ANEM Picarro_CO2  Vent_Anem_Temp  \n",
       "0               NaN               NaN          NaN         NaN    1.569856e+09  \n",
       "1               NaN               NaN          NaN         NaN    1.569895e+09  \n",
       "2               NaN               NaN          NaN         NaN    1.569942e+09  \n",
       "3               NaN               NaN          NaN         NaN    1.569980e+09  \n",
       "4               NaN               NaN          NaN         NaN    1.569980e+09  \n",
       "5        1569866070        1569866069          NaN         NaN             NaN  \n",
       "6        1569895233        1569895233          NaN         NaN             NaN  \n",
       "7        1569941439        1569941439          NaN         NaN             NaN  \n",
       "8        1569980383        1569980384          NaN         NaN             NaN  "
      ]
     },
     "execution_count": 41,
     "metadata": {},
     "output_type": "execute_result"
    }
   ],
   "source": [
    "actual_spike_df"
   ]
  },
  {
   "cell_type": "code",
   "execution_count": 42,
   "metadata": {
    "scrolled": true
   },
   "outputs": [
    {
     "data": {
      "text/html": [
       "<div>\n",
       "<style scoped>\n",
       "    .dataframe tbody tr th:only-of-type {\n",
       "        vertical-align: middle;\n",
       "    }\n",
       "\n",
       "    .dataframe tbody tr th {\n",
       "        vertical-align: top;\n",
       "    }\n",
       "\n",
       "    .dataframe thead th {\n",
       "        text-align: right;\n",
       "    }\n",
       "</style>\n",
       "<table border=\"1\" class=\"dataframe\">\n",
       "  <thead>\n",
       "    <tr style=\"text-align: right;\">\n",
       "      <th></th>\n",
       "      <th>Actual_DT</th>\n",
       "      <th>Actual_ET</th>\n",
       "      <th>LI_8100_Vent</th>\n",
       "      <th>Multiplexer_CO2_1</th>\n",
       "      <th>Multiplexer_CO2_2</th>\n",
       "      <th>Multiplexer_CO2_3</th>\n",
       "      <th>Picarro_ANEM</th>\n",
       "      <th>Picarro_CO2</th>\n",
       "      <th>Vent_Anem_Temp</th>\n",
       "    </tr>\n",
       "  </thead>\n",
       "  <tbody>\n",
       "    <tr>\n",
       "      <th>0</th>\n",
       "      <td>2019-09-30 08:55:00</td>\n",
       "      <td>1569855300</td>\n",
       "      <td>NaN</td>\n",
       "      <td>NaN</td>\n",
       "      <td>NaN</td>\n",
       "      <td>NaN</td>\n",
       "      <td>NaN</td>\n",
       "      <td>NaN</td>\n",
       "      <td>-512.0</td>\n",
       "    </tr>\n",
       "    <tr>\n",
       "      <th>1</th>\n",
       "      <td>2019-09-30 19:46:00</td>\n",
       "      <td>1569894360</td>\n",
       "      <td>NaN</td>\n",
       "      <td>NaN</td>\n",
       "      <td>NaN</td>\n",
       "      <td>NaN</td>\n",
       "      <td>NaN</td>\n",
       "      <td>NaN</td>\n",
       "      <td>-520.0</td>\n",
       "    </tr>\n",
       "    <tr>\n",
       "      <th>2</th>\n",
       "      <td>2019-10-01 08:50:00</td>\n",
       "      <td>1569941400</td>\n",
       "      <td>NaN</td>\n",
       "      <td>NaN</td>\n",
       "      <td>NaN</td>\n",
       "      <td>NaN</td>\n",
       "      <td>NaN</td>\n",
       "      <td>NaN</td>\n",
       "      <td>-524.0</td>\n",
       "    </tr>\n",
       "    <tr>\n",
       "      <th>3</th>\n",
       "      <td>2019-10-01 19:46:00</td>\n",
       "      <td>1569980760</td>\n",
       "      <td>NaN</td>\n",
       "      <td>NaN</td>\n",
       "      <td>NaN</td>\n",
       "      <td>NaN</td>\n",
       "      <td>NaN</td>\n",
       "      <td>NaN</td>\n",
       "      <td>735.0</td>\n",
       "    </tr>\n",
       "    <tr>\n",
       "      <th>4</th>\n",
       "      <td>2019-10-01 19:25:00</td>\n",
       "      <td>1569979500</td>\n",
       "      <td>NaN</td>\n",
       "      <td>NaN</td>\n",
       "      <td>NaN</td>\n",
       "      <td>NaN</td>\n",
       "      <td>NaN</td>\n",
       "      <td>NaN</td>\n",
       "      <td>-525.0</td>\n",
       "    </tr>\n",
       "    <tr>\n",
       "      <th>5</th>\n",
       "      <td>2019-09-30 11:46:00</td>\n",
       "      <td>1569865560</td>\n",
       "      <td>NaN</td>\n",
       "      <td>-509</td>\n",
       "      <td>-510</td>\n",
       "      <td>-509</td>\n",
       "      <td>NaN</td>\n",
       "      <td>NaN</td>\n",
       "      <td>NaN</td>\n",
       "    </tr>\n",
       "    <tr>\n",
       "      <th>6</th>\n",
       "      <td>2019-09-30 19:52:00</td>\n",
       "      <td>1569894720</td>\n",
       "      <td>NaN</td>\n",
       "      <td>-513</td>\n",
       "      <td>-513</td>\n",
       "      <td>-513</td>\n",
       "      <td>NaN</td>\n",
       "      <td>NaN</td>\n",
       "      <td>NaN</td>\n",
       "    </tr>\n",
       "    <tr>\n",
       "      <th>7</th>\n",
       "      <td>2019-10-01 08:42:00</td>\n",
       "      <td>1569940920</td>\n",
       "      <td>NaN</td>\n",
       "      <td>-519</td>\n",
       "      <td>-519</td>\n",
       "      <td>-519</td>\n",
       "      <td>NaN</td>\n",
       "      <td>NaN</td>\n",
       "      <td>NaN</td>\n",
       "    </tr>\n",
       "    <tr>\n",
       "      <th>8</th>\n",
       "      <td>2019-10-01 19:31:00</td>\n",
       "      <td>1569979860</td>\n",
       "      <td>NaN</td>\n",
       "      <td>-523</td>\n",
       "      <td>-523</td>\n",
       "      <td>-524</td>\n",
       "      <td>NaN</td>\n",
       "      <td>NaN</td>\n",
       "      <td>NaN</td>\n",
       "    </tr>\n",
       "  </tbody>\n",
       "</table>\n",
       "</div>"
      ],
      "text/plain": [
       "             Actual_DT   Actual_ET LI_8100_Vent Multiplexer_CO2_1  \\\n",
       "0  2019-09-30 08:55:00  1569855300          NaN               NaN   \n",
       "1  2019-09-30 19:46:00  1569894360          NaN               NaN   \n",
       "2  2019-10-01 08:50:00  1569941400          NaN               NaN   \n",
       "3  2019-10-01 19:46:00  1569980760          NaN               NaN   \n",
       "4  2019-10-01 19:25:00  1569979500          NaN               NaN   \n",
       "5  2019-09-30 11:46:00  1569865560          NaN              -509   \n",
       "6  2019-09-30 19:52:00  1569894720          NaN              -513   \n",
       "7  2019-10-01 08:42:00  1569940920          NaN              -519   \n",
       "8  2019-10-01 19:31:00  1569979860          NaN              -523   \n",
       "\n",
       "  Multiplexer_CO2_2 Multiplexer_CO2_3 Picarro_ANEM Picarro_CO2  Vent_Anem_Temp  \n",
       "0               NaN               NaN          NaN         NaN          -512.0  \n",
       "1               NaN               NaN          NaN         NaN          -520.0  \n",
       "2               NaN               NaN          NaN         NaN          -524.0  \n",
       "3               NaN               NaN          NaN         NaN           735.0  \n",
       "4               NaN               NaN          NaN         NaN          -525.0  \n",
       "5              -510              -509          NaN         NaN             NaN  \n",
       "6              -513              -513          NaN         NaN             NaN  \n",
       "7              -519              -519          NaN         NaN             NaN  \n",
       "8              -523              -524          NaN         NaN             NaN  "
      ]
     },
     "execution_count": 42,
     "metadata": {},
     "output_type": "execute_result"
    }
   ],
   "source": [
    "lags = create_lag_df(actual_spike_df)\n",
    "lags.head(12)"
   ]
  },
  {
   "cell_type": "code",
   "execution_count": null,
   "metadata": {},
   "outputs": [],
   "source": [
    "fig,ax=plt.subplots(figsize=[15,7.5])\n",
    "ax.scatter(lags['Actual_ET'],lags['LI_8100_Vent'])\n",
    "ax.set_ylabel('Lag Time (s)',size=20)\n",
    "ax.set_xlabel('Time (s)',size=20)\n",
    "ax.set_title('Lag Time Drift in LiCOR',size=30)\n",
    "plt.show()"
   ]
  },
  {
   "cell_type": "code",
   "execution_count": null,
   "metadata": {},
   "outputs": [],
   "source": [
    "pd.to_pickle(actual_spike_df,'All_actualET.pkl')\n"
   ]
  }
 ],
 "metadata": {
  "kernelspec": {
   "display_name": "Python 3",
   "language": "python",
   "name": "python3"
  },
  "language_info": {
   "codemirror_mode": {
    "name": "ipython",
    "version": 3
   },
   "file_extension": ".py",
   "mimetype": "text/x-python",
   "name": "python",
   "nbconvert_exporter": "python",
   "pygments_lexer": "ipython3",
   "version": "3.7.4"
  }
 },
 "nbformat": 4,
 "nbformat_minor": 4
}
