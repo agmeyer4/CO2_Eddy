{
 "cells": [
  {
   "cell_type": "code",
   "execution_count": 1,
   "metadata": {},
   "outputs": [
    {
     "name": "stderr",
     "output_type": "stream",
     "text": [
      "C:\\Users\\agmey\\Anaconda3\\envs\\CO2_Eddy\\lib\\site-packages\\rpy2\\robjects\\packages.py:347: UserWarning: The symbol 'quartz' is not in this R namespace/package.\n",
      "  warnings.warn(\"The symbol '%s' is not in this R namespace/package.\" % name)\n"
     ]
    },
    {
     "data": {
      "text/html": [
       "\n",
       "    <span>StrVector with 9 elements.</span>\n",
       "    <table>\n",
       "      <tbody>\n",
       "      <tr>\n",
       "      \n",
       "      <td>\n",
       "        'openair'\n",
       "      </td>\n",
       "      \n",
       "      <td>\n",
       "        'tools'\n",
       "      </td>\n",
       "      \n",
       "      <td>\n",
       "        'stats'\n",
       "      </td>\n",
       "      \n",
       "      <td>\n",
       "        'graphics'\n",
       "      </td>\n",
       "      \n",
       "      <td>\n",
       "        ...\n",
       "      </td>\n",
       "      \n",
       "      <td>\n",
       "        'utils'\n",
       "      </td>\n",
       "      \n",
       "      <td>\n",
       "        'datasets'\n",
       "      </td>\n",
       "      \n",
       "      <td>\n",
       "        'methods'\n",
       "      </td>\n",
       "      \n",
       "      <td>\n",
       "        'base'\n",
       "      </td>\n",
       "      \n",
       "      </tr>\n",
       "      </tbody>\n",
       "    </table>\n",
       "    "
      ],
      "text/plain": [
       "R object with classes: ('character',) mapped to:\n",
       "<StrVector - Python:0x000002435F998E08 / R:0x0000024364944D00>\n",
       "['openair', 'tools', 'stats', 'graphics', ..., 'utils', 'datasets', 'methods', 'base']"
      ]
     },
     "execution_count": 1,
     "metadata": {},
     "output_type": "execute_result"
    }
   ],
   "source": [
    "#IMPORT NECESSARY PACKAGES\n",
    "import rpy2\n",
    "import rpy2.robjects as ro\n",
    "from rpy2.robjects.packages import importr\n",
    "from rpy2.robjects import r, pandas2ri\n",
    "from rpy2.robjects.lib import grdevices\n",
    "base = importr('base')\n",
    "utils = importr('utils')\n",
    "import os\n",
    "import pickle\n",
    "import numpy as np\n",
    "import pandas as pd\n",
    "import IPython\n",
    "from IPython.display import Image, display\n",
    "graphics = importr('graphics')\n",
    "utils.chooseCRANmirror(ind=1) # select the first mirror in the list\n",
    "import matplotlib.pyplot as plt\n",
    "import pymysql.cursors\n",
    "import datetime\n",
    "import matplotlib.gridspec as grd\n",
    "from pandas.plotting import register_matplotlib_converters\n",
    "register_matplotlib_converters()\n",
    "from datetime import datetime\n",
    "from time import mktime\n",
    "if not ro.packages.isinstalled('openair'):\n",
    "    utils.install_packages('openair')\n",
    "r=ro.r\n",
    "r.library('openair')"
   ]
  },
  {
   "cell_type": "code",
   "execution_count": 16,
   "metadata": {},
   "outputs": [],
   "source": [
    "def wind_dir(x,y,pos):\n",
    "    def add_360(angle):\n",
    "        if angle < 0:\n",
    "            result = angle+360\n",
    "        else:\n",
    "            result = angle\n",
    "        return result\n",
    "    if pos == 1:\n",
    "        result = add_360(-90 - (np.arctan2(y,x)/np.pi*180))\n",
    "    elif pos == 2:\n",
    "        result = add_360(90 - (np.arctan2(y,x)/np.pi*180))\n",
    "    return result"
   ]
  },
  {
   "cell_type": "code",
   "execution_count": 17,
   "metadata": {},
   "outputs": [],
   "source": [
    "def wind_add(df,pos):\n",
    "    df['wd'] = df.apply(lambda row: wind_dir(row['ANEM_X'],row['ANEM_Y'],pos),axis=1)\n",
    "    df['ws'] = df.apply(lambda row : np.sqrt(row['ANEM_X']**2+row['ANEM_Y']**2),axis=1)\n",
    "    return df"
   ]
  },
  {
   "cell_type": "code",
   "execution_count": 43,
   "metadata": {},
   "outputs": [
    {
     "data": {
      "text/html": [
       "<div>\n",
       "<style scoped>\n",
       "    .dataframe tbody tr th:only-of-type {\n",
       "        vertical-align: middle;\n",
       "    }\n",
       "\n",
       "    .dataframe tbody tr th {\n",
       "        vertical-align: top;\n",
       "    }\n",
       "\n",
       "    .dataframe thead th {\n",
       "        text-align: right;\n",
       "    }\n",
       "</style>\n",
       "<table border=\"1\" class=\"dataframe\">\n",
       "  <thead>\n",
       "    <tr style=\"text-align: right;\">\n",
       "      <th></th>\n",
       "      <th>ANEM_X</th>\n",
       "      <th>ANEM_Y</th>\n",
       "      <th>wd</th>\n",
       "      <th>ws</th>\n",
       "    </tr>\n",
       "  </thead>\n",
       "  <tbody>\n",
       "    <tr>\n",
       "      <td>0</td>\n",
       "      <td>1</td>\n",
       "      <td>0</td>\n",
       "      <td>90.0</td>\n",
       "      <td>1.0</td>\n",
       "    </tr>\n",
       "  </tbody>\n",
       "</table>\n",
       "</div>"
      ],
      "text/plain": [
       "   ANEM_X  ANEM_Y    wd   ws\n",
       "0       1       0  90.0  1.0"
      ]
     },
     "execution_count": 43,
     "metadata": {},
     "output_type": "execute_result"
    }
   ],
   "source": [
    "x = [.866,.707,.5,0,-.5,-.707,-.866,-1,-.866,-.707,-.5,0,.5,.707,.866,1]\n",
    "y = [.5,.707,.866,1,.866,.707,.5,0,-.5,-.707,-.866,-1,-.866,-.707,-.5,0]\n",
    "df_all = pd.DataFrame({'ANEM_X':x,'ANEM_Y':y})\n",
    "df_all = wind_add(df_all,1)\n",
    "\n",
    "df_single = pd.DataFrame({'ANEM_X':[1],'ANEM_Y':[0]})\n",
    "df_single = wind_add(df_single,2)\n",
    "df_single"
   ]
  },
  {
   "cell_type": "code",
   "execution_count": 42,
   "metadata": {},
   "outputs": [
    {
     "data": {
      "image/png": "[encoded data removed]",
      "text/plain": [
       "<IPython.core.display.Image object>"
      ]
     },
     "metadata": {},
     "output_type": "display_data"
    }
   ],
   "source": [
    "pandas2ri.activate()\n",
    "r_dataframe = pandas2ri.py2ri(df_single)\n",
    "\n",
    "with rpy2.robjects.lib.grdevices.render_to_bytesio(grdevices.png, width=900, height=700, res=150) as img:\n",
    "    r.windRose(r_dataframe,angle=10)\n",
    "\n",
    "IPython.display.display(IPython.display.Image(data=img.getvalue(), format='png', embed=True))\n"
   ]
  }
 ],
 "metadata": {
  "kernelspec": {
   "display_name": "Python 3",
   "language": "python",
   "name": "python3"
  },
  "language_info": {
   "codemirror_mode": {
    "name": "ipython",
    "version": 3
   },
   "file_extension": ".py",
   "mimetype": "text/x-python",
   "name": "python",
   "nbconvert_exporter": "python",
   "pygments_lexer": "ipython3",
   "version": "3.7.3"
  }
 },
 "nbformat": 4,
 "nbformat_minor": 4
}
