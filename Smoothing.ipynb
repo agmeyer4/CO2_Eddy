{
 "cells": [
  {
   "cell_type": "code",
   "execution_count": 1,
   "metadata": {},
   "outputs": [],
   "source": [
    "import pandas as pd\n",
    "import matplotlib.pyplot as plt\n",
    "from statistics import mode \n",
    "\n",
    "data = pd.read_csv(r'../karthik.csv')"
   ]
  },
  {
   "cell_type": "code",
   "execution_count": 3,
   "metadata": {},
   "outputs": [
    {
     "data": {
      "text/plain": [
       "[<matplotlib.lines.Line2D at 0x27a31e65240>]"
      ]
     },
     "execution_count": 3,
     "metadata": {},
     "output_type": "execute_result"
    },
    {
     "data": {
      "image/png": "[encoded data removed]",
      "text/plain": [
       "<Figure size 432x288 with 1 Axes>"
      ]
     },
     "metadata": {
      "needs_background": "light"
     },
     "output_type": "display_data"
    }
   ],
   "source": [
    "data['ave'] = data['CO2'].rolling(10000).mean()\n",
    "plt.plot(data['EPOCH_TIME'],data['ANEM_Y'])"
   ]
  },
  {
   "cell_type": "code",
   "execution_count": 4,
   "metadata": {},
   "outputs": [],
   "source": [
    "def create_lag_df(actual_spike_df):\n",
    "    cols = actual_spike_df.columns.drop(['Actual_DT','Actual_ET'])\n",
    "    lags = pd.DataFrame()\n",
    "    lags['Actual_DT'] = actual_spike_df['Actual_DT']\n",
    "    lags['Actual_ET'] = actual_spike_df['Actual_ET']\n",
    "    for col in cols:\n",
    "        lags[col] = actual_spike_df['Actual_ET'] - actual_spike_df[col]\n",
    "\n",
    "\n",
    "    return lags"
   ]
  },
  {
   "cell_type": "code",
   "execution_count": 6,
   "metadata": {},
   "outputs": [
    {
     "data": {
      "text/html": [
       "<div>\n",
       "<style scoped>\n",
       "    .dataframe tbody tr th:only-of-type {\n",
       "        vertical-align: middle;\n",
       "    }\n",
       "\n",
       "    .dataframe tbody tr th {\n",
       "        vertical-align: top;\n",
       "    }\n",
       "\n",
       "    .dataframe thead th {\n",
       "        text-align: right;\n",
       "    }\n",
       "</style>\n",
       "<table border=\"1\" class=\"dataframe\">\n",
       "  <thead>\n",
       "    <tr style=\"text-align: right;\">\n",
       "      <th></th>\n",
       "      <th>Actual_DT</th>\n",
       "      <th>LI_8100_Vent</th>\n",
       "    </tr>\n",
       "  </thead>\n",
       "  <tbody>\n",
       "    <tr>\n",
       "      <td>516</td>\n",
       "      <td>2019-10-03 08:45:00</td>\n",
       "      <td>-666</td>\n",
       "    </tr>\n",
       "    <tr>\n",
       "      <td>517</td>\n",
       "      <td>2019-10-03 08:46:00</td>\n",
       "      <td>-666</td>\n",
       "    </tr>\n",
       "    <tr>\n",
       "      <td>518</td>\n",
       "      <td>2019-10-03 13:09:00</td>\n",
       "      <td>-665</td>\n",
       "    </tr>\n",
       "    <tr>\n",
       "      <td>519</td>\n",
       "      <td>2019-10-03 13:10:00</td>\n",
       "      <td>-665</td>\n",
       "    </tr>\n",
       "    <tr>\n",
       "      <td>520</td>\n",
       "      <td>2019-10-03 13:11:00</td>\n",
       "      <td>-665</td>\n",
       "    </tr>\n",
       "  </tbody>\n",
       "</table>\n",
       "</div>"
      ],
      "text/plain": [
       "               Actual_DT LI_8100_Vent\n",
       "516  2019-10-03 08:45:00         -666\n",
       "517  2019-10-03 08:46:00         -666\n",
       "518  2019-10-03 13:09:00         -665\n",
       "519  2019-10-03 13:10:00         -665\n",
       "520  2019-10-03 13:11:00         -665"
      ]
     },
     "execution_count": 6,
     "metadata": {},
     "output_type": "execute_result"
    }
   ],
   "source": [
    "actual_spike_df = pd.read_pickle('All_actualET_spikes.pkl')\n",
    "lags = create_lag_df(actual_spike_df)\n",
    "pd.set_option('display.max_rows', 1000)\n",
    "lags[['Actual_DT','LI_8100_Vent']].dropna().tail()"
   ]
  },
  {
   "cell_type": "code",
   "execution_count": 2,
   "metadata": {},
   "outputs": [
    {
     "data": {
      "text/html": [
       "<div>\n",
       "<style scoped>\n",
       "    .dataframe tbody tr th:only-of-type {\n",
       "        vertical-align: middle;\n",
       "    }\n",
       "\n",
       "    .dataframe tbody tr th {\n",
       "        vertical-align: top;\n",
       "    }\n",
       "\n",
       "    .dataframe thead th {\n",
       "        text-align: right;\n",
       "    }\n",
       "</style>\n",
       "<table border=\"1\" class=\"dataframe\">\n",
       "  <thead>\n",
       "    <tr style=\"text-align: right;\">\n",
       "      <th></th>\n",
       "      <th>Local_DT</th>\n",
       "      <th>EPOCH_TIME</th>\n",
       "      <th>CO2</th>\n",
       "      <th>ANEM_Y</th>\n",
       "    </tr>\n",
       "  </thead>\n",
       "  <tbody>\n",
       "    <tr>\n",
       "      <td>0</td>\n",
       "      <td>2019-09-11 10:00:00</td>\n",
       "      <td>1.568218e+09</td>\n",
       "      <td>420.572850</td>\n",
       "      <td>-0.170213</td>\n",
       "    </tr>\n",
       "    <tr>\n",
       "      <td>1</td>\n",
       "      <td>2019-09-11 10:00:00</td>\n",
       "      <td>1.568218e+09</td>\n",
       "      <td>420.445631</td>\n",
       "      <td>-0.198085</td>\n",
       "    </tr>\n",
       "    <tr>\n",
       "      <td>2</td>\n",
       "      <td>2019-09-11 10:00:00</td>\n",
       "      <td>1.568218e+09</td>\n",
       "      <td>420.775486</td>\n",
       "      <td>-0.214037</td>\n",
       "    </tr>\n",
       "    <tr>\n",
       "      <td>3</td>\n",
       "      <td>2019-09-11 10:00:00</td>\n",
       "      <td>1.568218e+09</td>\n",
       "      <td>420.832644</td>\n",
       "      <td>-0.223723</td>\n",
       "    </tr>\n",
       "    <tr>\n",
       "      <td>4</td>\n",
       "      <td>2019-09-11 10:00:00</td>\n",
       "      <td>1.568218e+09</td>\n",
       "      <td>421.292617</td>\n",
       "      <td>-0.225638</td>\n",
       "    </tr>\n",
       "    <tr>\n",
       "      <td>...</td>\n",
       "      <td>...</td>\n",
       "      <td>...</td>\n",
       "      <td>...</td>\n",
       "      <td>...</td>\n",
       "    </tr>\n",
       "    <tr>\n",
       "      <td>144005</td>\n",
       "      <td>2019-09-11 14:00:00</td>\n",
       "      <td>1.568232e+09</td>\n",
       "      <td>396.206119</td>\n",
       "      <td>0.473945</td>\n",
       "    </tr>\n",
       "    <tr>\n",
       "      <td>144006</td>\n",
       "      <td>2019-09-11 14:00:00</td>\n",
       "      <td>1.568232e+09</td>\n",
       "      <td>395.752206</td>\n",
       "      <td>0.193404</td>\n",
       "    </tr>\n",
       "    <tr>\n",
       "      <td>144007</td>\n",
       "      <td>2019-09-11 14:00:00</td>\n",
       "      <td>1.568232e+09</td>\n",
       "      <td>395.861161</td>\n",
       "      <td>-0.000213</td>\n",
       "    </tr>\n",
       "    <tr>\n",
       "      <td>144008</td>\n",
       "      <td>2019-09-11 14:00:00</td>\n",
       "      <td>1.568232e+09</td>\n",
       "      <td>396.035959</td>\n",
       "      <td>-0.173211</td>\n",
       "    </tr>\n",
       "    <tr>\n",
       "      <td>144009</td>\n",
       "      <td>2019-09-11 14:00:00</td>\n",
       "      <td>1.568232e+09</td>\n",
       "      <td>396.857226</td>\n",
       "      <td>-0.175106</td>\n",
       "    </tr>\n",
       "  </tbody>\n",
       "</table>\n",
       "<p>144010 rows × 4 columns</p>\n",
       "</div>"
      ],
      "text/plain": [
       "                   Local_DT    EPOCH_TIME         CO2    ANEM_Y\n",
       "0       2019-09-11 10:00:00  1.568218e+09  420.572850 -0.170213\n",
       "1       2019-09-11 10:00:00  1.568218e+09  420.445631 -0.198085\n",
       "2       2019-09-11 10:00:00  1.568218e+09  420.775486 -0.214037\n",
       "3       2019-09-11 10:00:00  1.568218e+09  420.832644 -0.223723\n",
       "4       2019-09-11 10:00:00  1.568218e+09  421.292617 -0.225638\n",
       "...                     ...           ...         ...       ...\n",
       "144005  2019-09-11 14:00:00  1.568232e+09  396.206119  0.473945\n",
       "144006  2019-09-11 14:00:00  1.568232e+09  395.752206  0.193404\n",
       "144007  2019-09-11 14:00:00  1.568232e+09  395.861161 -0.000213\n",
       "144008  2019-09-11 14:00:00  1.568232e+09  396.035959 -0.173211\n",
       "144009  2019-09-11 14:00:00  1.568232e+09  396.857226 -0.175106\n",
       "\n",
       "[144010 rows x 4 columns]"
      ]
     },
     "execution_count": 2,
     "metadata": {},
     "output_type": "execute_result"
    }
   ],
   "source": [
    "plt.plot(data"
   ]
  },
  {
   "cell_type": "code",
   "execution_count": 2,
   "metadata": {},
   "outputs": [
    {
     "data": {
      "image/png": "[encoded data removed]",
      "text/plain": [
       "<Figure size 432x288 with 1 Axes>"
      ]
     },
     "metadata": {
      "needs_background": "light"
     },
     "output_type": "display_data"
    },
    {
     "name": "stdout",
     "output_type": "stream",
     "text": [
      "0                NaN\n",
      "1                NaN\n",
      "2         420.597989\n",
      "3         420.684587\n",
      "4         420.966916\n",
      "             ...    \n",
      "144005    396.605201\n",
      "144006    396.176012\n",
      "144007    395.939829\n",
      "144008    395.883109\n",
      "144009    396.251449\n",
      "Name: CO2, Length: 144010, dtype: float64\n",
      "394.00342069\n",
      "494.62412466\n",
      "398.1000898925\n",
      "422.50412710049994\n",
      "144010\n",
      "True\n",
      "True\n",
      "True\n"
     ]
    },
    {
     "name": "stderr",
     "output_type": "stream",
     "text": [
      "C:\\Users\\agmey\\Anaconda3\\envs\\CO2_Eddy\\lib\\site-packages\\ipykernel_launcher.py:68: SettingWithCopyWarning: \n",
      "A value is trying to be set on a copy of a slice from a DataFrame\n",
      "\n",
      "See the caveats in the documentation: http://pandas.pydata.org/pandas-docs/stable/user_guide/indexing.html#returning-a-view-versus-a-copy\n",
      "C:\\Users\\agmey\\Anaconda3\\envs\\CO2_Eddy\\lib\\site-packages\\ipykernel_launcher.py:70: SettingWithCopyWarning: \n",
      "A value is trying to be set on a copy of a slice from a DataFrame\n",
      "\n",
      "See the caveats in the documentation: http://pandas.pydata.org/pandas-docs/stable/user_guide/indexing.html#returning-a-view-versus-a-copy\n",
      "C:\\Users\\agmey\\Anaconda3\\envs\\CO2_Eddy\\lib\\site-packages\\ipykernel_launcher.py:74: SettingWithCopyWarning: \n",
      "A value is trying to be set on a copy of a slice from a DataFrame\n",
      "\n",
      "See the caveats in the documentation: http://pandas.pydata.org/pandas-docs/stable/user_guide/indexing.html#returning-a-view-versus-a-copy\n"
     ]
    },
    {
     "name": "stdout",
     "output_type": "stream",
     "text": [
      "7201\n",
      "7201\n"
     ]
    },
    {
     "data": {
      "image/png": "[encoded data removed]",
      "text/plain": [
       "<Figure size 432x288 with 1 Axes>"
      ]
     },
     "metadata": {
      "needs_background": "light"
     },
     "output_type": "display_data"
    }
   ],
   "source": [
    "# -*- coding: utf-8 -*-\n",
    "\"\"\"\n",
    "Created on Thu Oct 17 11:41:13 2019\n",
    "\n",
    "@author: Karthik\n",
    "\n",
    "Topic: centered moving average & spike elimination\n",
    "\"\"\"\n",
    "\n",
    "#import pandas as pd\n",
    "#import matplotlib.pyplot as plt\n",
    "#from statistics import mode \n",
    "#import quickspikes as qs\n",
    "\n",
    "\n",
    "#data = pd.read_csv(r'C:\\Users\\Karthik\\Desktop\\VGRA\\DR_BJ_PROJECT\\MACHINE_LEARNING_APPLICATION\\PYTHON_CODES\\AARON_DATA\\karthik_oct16_1weekchallenge.csv')\n",
    "data_array = data.values\n",
    "\n",
    "#visualize the data\n",
    "#Suggestion: Don't have separate names for each variable. You already have a dataframe which is well organized.\n",
    "anem_y = data['ANEM_Y']\n",
    "epoch_time = data['EPOCH_TIME']\n",
    "\n",
    "#I want it to be CO2 Vs Epoch Time.\n",
    "plt.plot(data['EPOCH_TIME'][0:len(data)], data['CO2'][0:len(data)])       # Mistake - Don't put them in brackets\n",
    "plt.show()\n",
    "\n",
    "# Below is the centered moving average. The number in the brackets represent the number\n",
    "# of values taken to average. Here, we take the average of 3 values.\n",
    "data['ave'] = data['CO2'].rolling(10).mean()\n",
    "\n",
    "# Now for the trailing moving average[DO THIS LATER].\n",
    "\n",
    "'''\n",
    "# Perform Spike Elimination using library.\n",
    "det = qs.detector(1000, 30)\n",
    "times = det.send(data[0:1000])\n",
    "\n",
    "f_times = qs.filter_times(times, 30, data.size - 270)\n",
    "spikes = qs.peaks(data, f_times, 30, 270)\n",
    "times, aligned = qs.realign_spikes(f_times, spikes, upsample=3, jitter=4)\n",
    "'''\n",
    "# Perform Spike Elimination using for loop.\n",
    "\n",
    "print(data['CO2'][0:len(data)].min())\n",
    "print(data['CO2'][0:len(data)].max())\n",
    "\n",
    "# Use Gaussian strategy where you take all values that belong to the range \n",
    "q1_CO2 = data['CO2'].quantile(0.05)\n",
    "print(q1_CO2)   #422.5\n",
    "\n",
    "q3_CO2 = data['CO2'].quantile(0.95)\n",
    "print(q3_CO2)   #398.1\n",
    "\n",
    "# Find location of points greater than q3 value and replace all those values with q3 value.\n",
    "print(len(data['CO2']))\n",
    "\n",
    "for i in range(0, 3):\n",
    "    if(10 > 8):\n",
    "        print(\"True\")\n",
    "    elif(10 < 8):\n",
    "        print(\"True\")\n",
    "\n",
    "count_q1 = 0\n",
    "count_q3 = 0\n",
    "for i in range(0, len(data['CO2'])):\n",
    "    if(data['CO2'][i] > q3_CO2):\n",
    "        data['CO2'][i] = q3_CO2\n",
    "        count_q3 += 1\n",
    "        data['CO2'][i] = q3_CO2\n",
    "    \n",
    "    elif(data['CO2'][i] < q1_CO2):\n",
    "        count_q1 += 1\n",
    "        data['CO2'][i] = q1_CO2\n",
    "\n",
    "print(count_q3)\n",
    "print(count_q1)\n",
    "\n",
    "# Plot new graph:\n",
    "plt.plot(data['EPOCH_TIME'][0:len(data)], data['CO2'][0:len(data)])       # Mistake - Don't put them in brackets\n",
    "plt.show()"
   ]
  }
 ],
 "metadata": {
  "kernelspec": {
   "display_name": "Python 3",
   "language": "python",
   "name": "python3"
  },
  "language_info": {
   "codemirror_mode": {
    "name": "ipython",
    "version": 3
   },
   "file_extension": ".py",
   "mimetype": "text/x-python",
   "name": "python",
   "nbconvert_exporter": "python",
   "pygments_lexer": "ipython3",
   "version": "3.7.4"
  }
 },
 "nbformat": 4,
 "nbformat_minor": 4
}
