{
 "cells": [
  {
   "cell_type": "code",
   "execution_count": 1,
   "metadata": {},
   "outputs": [],
   "source": [
    "#IMPORT NECESSARY PACKAGES\n",
    "import matplotlib.pyplot as plt\n",
    "import numpy as np\n",
    "import pandas as pd\n",
    "import os\n",
    "import pickle\n",
    "import pymysql.cursors\n",
    "import datetime\n",
    "import matplotlib.gridspec as grd\n",
    "from pandas.plotting import register_matplotlib_converters\n",
    "register_matplotlib_converters()\n",
    "from datetime import datetime\n",
    "from time import mktime\n",
    "\n",
    "#IMPORT NECESSARY PACKAGES\n",
    "import CO2_functions\n",
    "from CO2_functions import *"
   ]
  },
  {
   "cell_type": "code",
   "execution_count": 129,
   "metadata": {},
   "outputs": [],
   "source": [
    "import importlib\n",
    "importlib.reload(CO2_functions)\n",
    "from CO2_functions import *"
   ]
  },
  {
   "cell_type": "code",
   "execution_count": 66,
   "metadata": {},
   "outputs": [
    {
     "name": "stdin",
     "output_type": "stream",
     "text": [
      "Enter Start Date YYYY-mm-DD:  2019-10-01\n",
      "Enter End Date YYYY-mm-DD:  2019-10-01\n"
     ]
    }
   ],
   "source": [
    "date1,date2 = get_date_range()\n",
    "data = get_sql_data(\"Aug2019_LI_8100_Vent\",\\\n",
    "              \"Aug2019_Multiplexer\",\"Aug2019_Vent_Anem_Temp\",\\\n",
    "              \"Aug2019_Picarro\",date1,date2,'all','split')\n",
    "data = drift_correct(data)"
   ]
  }
 ],
 "metadata": {
  "kernelspec": {
   "display_name": "Python 3",
   "language": "python",
   "name": "python3"
  },
  "language_info": {
   "codemirror_mode": {
    "name": "ipython",
    "version": 3
   },
   "file_extension": ".py",
   "mimetype": "text/x-python",
   "name": "python",
   "nbconvert_exporter": "python",
   "pygments_lexer": "ipython3",
   "version": "3.7.1"
  }
 },
 "nbformat": 4,
 "nbformat_minor": 4
}
