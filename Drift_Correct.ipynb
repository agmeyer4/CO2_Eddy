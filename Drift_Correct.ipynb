{
 "cells": [
  {
   "cell_type": "code",
   "execution_count": 1,
   "metadata": {},
   "outputs": [],
   "source": [
    "#IMPORT NECESSARY PACKAGES\n",
    "import pandas as pd\n",
    "from datetime import datetime\n",
    "import CO2_functions\n",
    "from CO2_functions import *"
   ]
  },
  {
   "cell_type": "code",
   "execution_count": 116,
   "metadata": {},
   "outputs": [],
   "source": [
    "import importlib\n",
    "importlib.reload(CO2_functions)\n",
    "from CO2_functions import *"
   ]
  },
  {
   "cell_type": "code",
   "execution_count": 3,
   "metadata": {
    "collapsed": true,
    "jupyter": {
     "outputs_hidden": true
    }
   },
   "outputs": [
    {
     "name": "stdin",
     "output_type": "stream",
     "text": [
      "Enter Start Date YYYY-mm-DD:  2019-11-18\n",
      "Enter End Date YYYY-mm-DD:  2019-11-22\n"
     ]
    },
    {
     "name": "stdout",
     "output_type": "stream",
     "text": [
      "Retrieving LI_vent data\n",
      "Retrieving Multiplexer data\n",
      "Retrieving Vent_Anem_Temp data\n",
      "Retrieving Picarro data\n",
      "Initializing Drift Correct\n",
      "Correcting data for LI_Vent\n",
      "Correcting data for Multiplexer_CO2_1\n",
      "Correcting data for Multiplexer_CO2_2\n",
      "Correcting data for Multiplexer_CO2_3\n",
      "Correcting data for Multiplexer_Weather\n",
      "Correcting data for Vent_Anem_Temp\n",
      "Correcting data for Picarro_CO2\n",
      "Correcting data for Picarro_ANEM\n"
     ]
    }
   ],
   "source": [
    "date1,date2 = get_date_range()\n",
    "data = get_sql_data(\"Aug2019_LI_8100_Vent\",\\\n",
    "              \"Aug2019_Multiplexer\",\"Aug2019_Vent_Anem_Temp\",\\\n",
    "              \"Aug2019_Picarro\",date1,date2,'all','split')\n",
    "data = drift_correct(data)\n",
    "for key in data:\n",
    "    data[key].reset_index(drop=True,inplace=True)"
   ]
  },
  {
   "cell_type": "code",
   "execution_count": 123,
   "metadata": {},
   "outputs": [
    {
     "data": {
      "text/html": [
       "<div>\n",
       "<style scoped>\n",
       "    .dataframe tbody tr th:only-of-type {\n",
       "        vertical-align: middle;\n",
       "    }\n",
       "\n",
       "    .dataframe tbody tr th {\n",
       "        vertical-align: top;\n",
       "    }\n",
       "\n",
       "    .dataframe thead th {\n",
       "        text-align: right;\n",
       "    }\n",
       "</style>\n",
       "<table border=\"1\" class=\"dataframe\">\n",
       "  <thead>\n",
       "    <tr style=\"text-align: right;\">\n",
       "      <th></th>\n",
       "      <th>Local_DT</th>\n",
       "      <th>EPOCH_TIME</th>\n",
       "      <th>ANEM_Y</th>\n",
       "      <th>ANEM_X</th>\n",
       "      <th>ANEM_Z</th>\n",
       "      <th>Loc</th>\n",
       "      <th>Corrected_ET</th>\n",
       "      <th>Corrected_DT</th>\n",
       "    </tr>\n",
       "  </thead>\n",
       "  <tbody>\n",
       "    <tr>\n",
       "      <td>0</td>\n",
       "      <td>2019-11-18 00:00:00</td>\n",
       "      <td>1.574060e+09</td>\n",
       "      <td>-0.469836</td>\n",
       "      <td>-0.739894</td>\n",
       "      <td>0.193611</td>\n",
       "      <td>NaN</td>\n",
       "      <td>1.574060e+09</td>\n",
       "      <td>2019-11-17 23:57:20.547577</td>\n",
       "    </tr>\n",
       "    <tr>\n",
       "      <td>1</td>\n",
       "      <td>2019-11-18 00:00:00</td>\n",
       "      <td>1.574060e+09</td>\n",
       "      <td>-0.520106</td>\n",
       "      <td>-0.707979</td>\n",
       "      <td>0.298085</td>\n",
       "      <td>NaN</td>\n",
       "      <td>1.574060e+09</td>\n",
       "      <td>2019-11-17 23:57:20.647576</td>\n",
       "    </tr>\n",
       "    <tr>\n",
       "      <td>2</td>\n",
       "      <td>2019-11-18 00:00:00</td>\n",
       "      <td>1.574060e+09</td>\n",
       "      <td>-0.621927</td>\n",
       "      <td>-0.706881</td>\n",
       "      <td>0.302477</td>\n",
       "      <td>NaN</td>\n",
       "      <td>1.574060e+09</td>\n",
       "      <td>2019-11-17 23:57:20.747575</td>\n",
       "    </tr>\n",
       "    <tr>\n",
       "      <td>3</td>\n",
       "      <td>2019-11-18 00:00:00</td>\n",
       "      <td>1.574060e+09</td>\n",
       "      <td>-0.685106</td>\n",
       "      <td>-0.646809</td>\n",
       "      <td>0.282979</td>\n",
       "      <td>NaN</td>\n",
       "      <td>1.574060e+09</td>\n",
       "      <td>2019-11-17 23:57:20.847574</td>\n",
       "    </tr>\n",
       "    <tr>\n",
       "      <td>4</td>\n",
       "      <td>2019-11-18 00:00:00</td>\n",
       "      <td>1.574060e+09</td>\n",
       "      <td>-0.693394</td>\n",
       "      <td>-0.679450</td>\n",
       "      <td>0.339450</td>\n",
       "      <td>NaN</td>\n",
       "      <td>1.574060e+09</td>\n",
       "      <td>2019-11-17 23:57:20.947573</td>\n",
       "    </tr>\n",
       "    <tr>\n",
       "      <td>...</td>\n",
       "      <td>...</td>\n",
       "      <td>...</td>\n",
       "      <td>...</td>\n",
       "      <td>...</td>\n",
       "      <td>...</td>\n",
       "      <td>...</td>\n",
       "      <td>...</td>\n",
       "      <td>...</td>\n",
       "    </tr>\n",
       "    <tr>\n",
       "      <td>4295320</td>\n",
       "      <td>2019-11-22 23:59:59</td>\n",
       "      <td>1.574492e+09</td>\n",
       "      <td>-0.364096</td>\n",
       "      <td>-0.882157</td>\n",
       "      <td>-0.108562</td>\n",
       "      <td>NaN</td>\n",
       "      <td>1.574492e+09</td>\n",
       "      <td>2019-11-22 23:57:15.415788</td>\n",
       "    </tr>\n",
       "    <tr>\n",
       "      <td>4295321</td>\n",
       "      <td>2019-11-22 23:59:59</td>\n",
       "      <td>1.574492e+09</td>\n",
       "      <td>-0.275277</td>\n",
       "      <td>-0.840672</td>\n",
       "      <td>-0.116355</td>\n",
       "      <td>NaN</td>\n",
       "      <td>1.574492e+09</td>\n",
       "      <td>2019-11-22 23:57:15.515787</td>\n",
       "    </tr>\n",
       "    <tr>\n",
       "      <td>4295322</td>\n",
       "      <td>2019-11-22 23:59:59</td>\n",
       "      <td>1.574492e+09</td>\n",
       "      <td>-0.102728</td>\n",
       "      <td>-0.838730</td>\n",
       "      <td>-0.076549</td>\n",
       "      <td>NaN</td>\n",
       "      <td>1.574492e+09</td>\n",
       "      <td>2019-11-22 23:57:15.615786</td>\n",
       "    </tr>\n",
       "    <tr>\n",
       "      <td>4295323</td>\n",
       "      <td>2019-11-22 23:59:59</td>\n",
       "      <td>1.574492e+09</td>\n",
       "      <td>-0.042871</td>\n",
       "      <td>-0.836185</td>\n",
       "      <td>-0.044300</td>\n",
       "      <td>NaN</td>\n",
       "      <td>1.574492e+09</td>\n",
       "      <td>2019-11-22 23:57:15.715785</td>\n",
       "    </tr>\n",
       "    <tr>\n",
       "      <td>4295324</td>\n",
       "      <td>2019-11-22 23:59:59</td>\n",
       "      <td>1.574492e+09</td>\n",
       "      <td>-0.020000</td>\n",
       "      <td>-0.869091</td>\n",
       "      <td>0.010909</td>\n",
       "      <td>NaN</td>\n",
       "      <td>1.574492e+09</td>\n",
       "      <td>2019-11-22 23:57:15.815784</td>\n",
       "    </tr>\n",
       "  </tbody>\n",
       "</table>\n",
       "<p>4288123 rows × 8 columns</p>\n",
       "</div>"
      ],
      "text/plain": [
       "                   Local_DT    EPOCH_TIME    ANEM_Y    ANEM_X    ANEM_Z  Loc  \\\n",
       "0       2019-11-18 00:00:00  1.574060e+09 -0.469836 -0.739894  0.193611  NaN   \n",
       "1       2019-11-18 00:00:00  1.574060e+09 -0.520106 -0.707979  0.298085  NaN   \n",
       "2       2019-11-18 00:00:00  1.574060e+09 -0.621927 -0.706881  0.302477  NaN   \n",
       "3       2019-11-18 00:00:00  1.574060e+09 -0.685106 -0.646809  0.282979  NaN   \n",
       "4       2019-11-18 00:00:00  1.574060e+09 -0.693394 -0.679450  0.339450  NaN   \n",
       "...                     ...           ...       ...       ...       ...  ...   \n",
       "4295320 2019-11-22 23:59:59  1.574492e+09 -0.364096 -0.882157 -0.108562  NaN   \n",
       "4295321 2019-11-22 23:59:59  1.574492e+09 -0.275277 -0.840672 -0.116355  NaN   \n",
       "4295322 2019-11-22 23:59:59  1.574492e+09 -0.102728 -0.838730 -0.076549  NaN   \n",
       "4295323 2019-11-22 23:59:59  1.574492e+09 -0.042871 -0.836185 -0.044300  NaN   \n",
       "4295324 2019-11-22 23:59:59  1.574492e+09 -0.020000 -0.869091  0.010909  NaN   \n",
       "\n",
       "         Corrected_ET               Corrected_DT  \n",
       "0        1.574060e+09 2019-11-17 23:57:20.547577  \n",
       "1        1.574060e+09 2019-11-17 23:57:20.647576  \n",
       "2        1.574060e+09 2019-11-17 23:57:20.747575  \n",
       "3        1.574060e+09 2019-11-17 23:57:20.847574  \n",
       "4        1.574060e+09 2019-11-17 23:57:20.947573  \n",
       "...               ...                        ...  \n",
       "4295320  1.574492e+09 2019-11-22 23:57:15.415788  \n",
       "4295321  1.574492e+09 2019-11-22 23:57:15.515787  \n",
       "4295322  1.574492e+09 2019-11-22 23:57:15.615786  \n",
       "4295323  1.574492e+09 2019-11-22 23:57:15.715785  \n",
       "4295324  1.574492e+09 2019-11-22 23:57:15.815784  \n",
       "\n",
       "[4288123 rows x 8 columns]"
      ]
     },
     "execution_count": 123,
     "metadata": {},
     "output_type": "execute_result"
    }
   ],
   "source": [
    "d['Picarro_ANEM']"
   ]
  },
  {
   "cell_type": "code",
   "execution_count": null,
   "metadata": {},
   "outputs": [],
   "source": [
    "plot_refinement_all([[d['Vent_Anem_Temp'],'Corrected_DT','Velocity']])"
   ]
  },
  {
   "cell_type": "code",
   "execution_count": null,
   "metadata": {},
   "outputs": [],
   "source": [
    "df1=df\n",
    "df1['Velocity'] = df.apply(lambda row: 0 if (row['Velocity'] < 8) & ((row['Corrected_DT'].hour <= 8)|(row['Corrected_DT'].hour >= 19)) else row['Velocity'],axis=1)"
   ]
  },
  {
   "cell_type": "code",
   "execution_count": 138,
   "metadata": {},
   "outputs": [
    {
     "data": {
      "text/plain": [
       "10"
      ]
     },
     "execution_count": 138,
     "metadata": {},
     "output_type": "execute_result"
    }
   ],
   "source": [
    "df['Corrected_DT'].iloc[0].hour"
   ]
  }
 ],
 "metadata": {
  "kernelspec": {
   "display_name": "Python 3",
   "language": "python",
   "name": "python3"
  },
  "language_info": {
   "codemirror_mode": {
    "name": "ipython",
    "version": 3
   },
   "file_extension": ".py",
   "mimetype": "text/x-python",
   "name": "python",
   "nbconvert_exporter": "python",
   "pygments_lexer": "ipython3",
   "version": "3.7.3"
  }
 },
 "nbformat": 4,
 "nbformat_minor": 4
}
