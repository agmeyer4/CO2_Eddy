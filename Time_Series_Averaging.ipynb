{
 "cells": [
  {
   "cell_type": "code",
   "execution_count": 1,
   "metadata": {
    "jupyter": {
     "source_hidden": true
    }
   },
   "outputs": [],
   "source": [
    "#IMPORT NECESSARY PACKAGES\n",
    "import os\n",
    "import pickle\n",
    "import numpy as np\n",
    "import pandas as pd\n",
    "import matplotlib.pyplot as plt\n",
    "import pymysql.cursors\n",
    "import datetime\n",
    "import matplotlib.gridspec as grd\n",
    "from pandas.plotting import register_matplotlib_converters\n",
    "register_matplotlib_converters()\n",
    "from datetime import datetime\n",
    "from time import mktime"
   ]
  },
  {
   "cell_type": "code",
   "execution_count": 2,
   "metadata": {
    "jupyter": {
     "source_hidden": true
    }
   },
   "outputs": [],
   "source": [
    "#Ask the user for the date range between which data will be pulled from SQL\n",
    "def get_date_range():\n",
    "    date1=input(\"Enter Start Date YYYY-mm-DD: \")\n",
    "    date2=input(\"Enter End Date YYYY-mm-DD: \")\n",
    "    return date1,date2"
   ]
  },
  {
   "cell_type": "code",
   "execution_count": 3,
   "metadata": {
    "jupyter": {
     "source_hidden": true
    }
   },
   "outputs": [],
   "source": [
    "def sql_connect():\n",
    "    #Connect to SQL database with username and pw\n",
    "    mydb = pymysql.connect(\n",
    "        host='155.98.6.253',\n",
    "        user='EddyFlux',\n",
    "        passwd = 'UvTrhM_yFo71X2',\n",
    "        database = 'CO2_Eddy'\n",
    "        )\n",
    "    \n",
    "    #Set up cursor (allows navigation through SQL syntax)\n",
    "    mycursor = mydb.cursor()\n",
    "    \n",
    "    return mycursor"
   ]
  },
  {
   "cell_type": "code",
   "execution_count": 4,
   "metadata": {
    "jupyter": {
     "source_hidden": true
    }
   },
   "outputs": [],
   "source": [
    "def get_LI_data(tablename,date1,date2):\n",
    "    ######################################################################\n",
    "    # Function to get exclusively \"Spike Necessary\" LI_8100 Data         # \n",
    "    # from SQL. Input the SQL Tablename, and date range between which    #\n",
    "    # data will be fetched. For one day's worth of data, enter the same  #\n",
    "    # Date.                                                              #\n",
    "    ######################################################################\n",
    "    \n",
    "    mycursor = sql_connect()\n",
    "    mycursor.execute(\"SELECT Local_DT, EPOCH_TIME, Cdry\\\n",
    "                        FROM {}\\\n",
    "                        WHERE Local_DT >= '{} 00:00:00' AND Local_DT <= '{} 23:59:59.99'\\\n",
    "                        order by EPOCH_TIME asc;\".format(tablename,date1,date2)) #SQL statement\n",
    "    data = mycursor.fetchall() #fetch the data\n",
    "    LI_vent = pd.DataFrame(list(data)) #convert imported data to dataframe\n",
    "    LI_vent.columns = ['Local_DT','EPOCH_TIME','CO2'] #name columns\n",
    "    cols = LI_vent.columns.drop('Local_DT') #get all column names beside date column\n",
    "    LI_vent[cols]=LI_vent[cols].apply(pd.to_numeric,errors='coerce') #change all but date to floats\n",
    "    \n",
    "    return LI_vent"
   ]
  },
  {
   "cell_type": "code",
   "execution_count": 5,
   "metadata": {
    "jupyter": {
     "source_hidden": true
    }
   },
   "outputs": [],
   "source": [
    "def get_vent_anem_temp_data(tablename,date1,date2):\n",
    "    ######################################################################\n",
    "    # Function to get exclusively \"Spike Necessary\" Vent_Anem_Temp Data  # \n",
    "    # from SQL. Input the SQL Tablename, and date range between which    #\n",
    "    # data will be fetched. For one day's worth of data, enter the same  #\n",
    "    # Date.                                                              #\n",
    "    ######################################################################\n",
    "    \n",
    "    #Connect to SQL\n",
    "    mycursor = sql_connect()\n",
    "    mycursor.execute(\"SELECT *\\\n",
    "                    FROM {}\\\n",
    "                    WHERE Local_DT >= '{} 00:00:00' AND Local_DT <= '{} 23:59:59.99'\\\n",
    "                    order by EPOCH_TIME asc;\".format(tablename,date1,date2)) #SQL query\n",
    "    data = mycursor.fetchall() #fetch the data\n",
    "    Vent_Anem_Temp = pd.DataFrame(list(data)) #convert imported data to a dataframe\n",
    "    Vent_Anem_Temp.columns = ['Local_DT','EPOCH_TIME','Rotations','Velocity','Temp_1','Temp_2'] #name columns\n",
    "    cols = Vent_Anem_Temp.columns.drop('Local_DT') #get all column names but date\n",
    "    Vent_Anem_Temp[cols]=Vent_Anem_Temp[cols].apply(pd.to_numeric,errors='coerce') #change all but date to floats\n",
    "    \n",
    "    Vent_Anem_Temp['Velocity'] = Vent_Anem_Temp.apply(lambda row: 0 if row['Velocity']<5 else row['Velocity'],axis=1)\n",
    "    \n",
    "    return Vent_Anem_Temp"
   ]
  },
  {
   "cell_type": "code",
   "execution_count": 6,
   "metadata": {
    "jupyter": {
     "source_hidden": true
    }
   },
   "outputs": [],
   "source": [
    "#Plot a simple graph with local_dt on the x axis, and an input (y_ax) on the y axis\n",
    "def simple_plot(df,y_ax):\n",
    "    fig,ax = plt.subplots() #make the fig,ax\n",
    "    ax.yaxis.grid(which=\"major\") #plot horizontal gridlines\n",
    "    ax.plot(df['Local_DT'],df[y_ax]) #plot\n",
    "    plt.gcf().autofmt_xdate() #get a nice date format for the x axis\n",
    "    fig.tight_layout()\n",
    "    plt.show()"
   ]
  },
  {
   "cell_type": "code",
   "execution_count": 9,
   "metadata": {
    "jupyter": {
     "source_hidden": true
    }
   },
   "outputs": [],
   "source": [
    "#Make a figure of multiple plots plotted above one another. X axes have the same values\n",
    "def plot_vertical_stack(args):\n",
    "    num_plots = len(args)\n",
    "    fig = plt.figure(figsize = (num_plots*5,5))\n",
    "    gs = grd.GridSpec(num_plots,1)\n",
    "    i=0\n",
    "    for arg in args:\n",
    "        if i == 0:\n",
    "            ax = fig.add_subplot(gs[i])\n",
    "        else:\n",
    "            ax = fig.add_subplot(gs[i],sharex=ax)\n",
    "        if arg[1] == 'wd':\n",
    "            ax.scatter(arg[0][arg[1]],arg[0][arg[2]],s=.5)\n",
    "        else: \n",
    "            ax.plot(arg[0][arg[1]],arg[0][arg[2]])\n",
    "        if ('ANEM_X' in arg[0].columns) & (arg[2] == 'CO2'):\n",
    "            ax.set_ylim([390,650]) \n",
    "        i+=1\n",
    "    plt.gcf().autofmt_xdate()\n",
    "    fig.tight_layout()\n",
    "    plt.show()    \n",
    "#plot_vertical_stack([[Vent_Anem_Temp,'Corrected_DT','Velocity']])"
   ]
  },
  {
   "cell_type": "code",
   "execution_count": 10,
   "metadata": {
    "jupyter": {
     "source_hidden": true
    }
   },
   "outputs": [],
   "source": [
    "def plot_refinement_all(args):\n",
    "    plot_vertical_stack(args) #plot the data\n",
    "    cont_ref = True #set \"Continue refining\" to true, wont be changed until user says so\n",
    "    ask = input(\"Is this an acceptable range? \") #ask the user if this is a good range, or if they want to continue refining\n",
    "    \n",
    "    if ask == 'y':\n",
    "        clip_df_list = []\n",
    "        cont_ref = False    \n",
    "        for i in range(0,len(args)):\n",
    "            clip_df_list.append(args[i][0])\n",
    "    while cont_ref: #continue asking user to refine until command is given\n",
    "        clip_df_list = []\n",
    "        DT1 = input(\"Input Start DateTime as YYYY-mm-DD HH:MM:SS - \") #get start of range\n",
    "        DT2 = input(\"Input End DateTime as YYYY-mm-DD HH:MM:SS - \") #get end of range\n",
    "\n",
    "        for i in range(0,len(args)):\n",
    "            df = args[i][0]\n",
    "            df1 = df.loc[(df[args[i][1]]>=DT1)&(df[args[i][1]]<=DT2)] #clip the data to the range given\n",
    "            clip_df_list.append(df1)\n",
    "    \n",
    "        plot_list = []\n",
    "        for i in range(0,len(args)):\n",
    "            l = []\n",
    "            l.append(clip_df_list[i])\n",
    "            l.append(args[i][1])\n",
    "            l.append(args[i][2])\n",
    "            plot_list.append(l)\n",
    "            \n",
    "        plot_vertical_stack(plot_list) #plot over that range\n",
    "        \n",
    "        ask = input(\"Is this an acceptable range? \") #ask the user if this is a good range, or if they want to continue refining\n",
    "        if ask == 'y':\n",
    "            cont_ref = False\n",
    "    \n",
    "    return clip_df_list"
   ]
  },
  {
   "cell_type": "code",
   "execution_count": 11,
   "metadata": {
    "jupyter": {
     "source_hidden": true
    }
   },
   "outputs": [],
   "source": [
    "def get_lag_groups(actual_spike_df,column):\n",
    "    spike_df = actual_spike_df[['Actual_DT','Actual_ET',column]].dropna()\n",
    "    spike_df['lags'] = spike_df.apply(lambda row: row['Actual_ET']-row[column],axis=1)\n",
    "    spike_df['diff'] = spike_df['Actual_ET'] - spike_df['Actual_ET'].shift(1)\n",
    "    spike_df.reset_index(drop=True,inplace=True)\n",
    "    \n",
    "    grp = int(0)\n",
    "    df_list = {}\n",
    "    st_ix = 0 \n",
    "    end_ix = 0\n",
    "    for i in range(1,len(spike_df)):\n",
    "        if spike_df.loc[i,'diff'] < 1000:\n",
    "            end_ix += 1\n",
    "        else:\n",
    "            df_list[grp] = pd.DataFrame(spike_df.loc[st_ix:end_ix])\n",
    "            grp+=1\n",
    "            end_ix += 1\n",
    "            st_ix = end_ix\n",
    "    df_list[grp] = pd.DataFrame(spike_df.loc[st_ix:end_ix])\n",
    "\n",
    "    ETs = []\n",
    "    ave_lags = []\n",
    "    for i in range(0,len(df_list)):\n",
    "        ETs.append((df_list[i][column].iloc[0]+df_list[i][column].iloc[-1])/2)\n",
    "        ave_lags.append(np.mean(df_list[i]['lags']))\n",
    "\n",
    "    final_lags = pd.DataFrame({'mid_ET':ETs,'ave_lag':ave_lags})\n",
    "\n",
    "    for i in range(0,len(final_lags)-1):\n",
    "        final_lags.loc[i,'slope']= (final_lags.loc[i,'ave_lag']-final_lags.loc[i+1,'ave_lag'])/(final_lags.loc[i,'mid_ET']-final_lags.loc[i+1,'mid_ET'])\n",
    "        \n",
    "    return final_lags"
   ]
  },
  {
   "cell_type": "code",
   "execution_count": 12,
   "metadata": {
    "jupyter": {
     "source_hidden": true
    }
   },
   "outputs": [],
   "source": [
    "def df_correction_lag_slope(final_lags,df_to_correct):\n",
    "\n",
    "    def row_correction(row,final_lags_df,grp):\n",
    "        return row+final_lags_df['ave_lag'][grp]+(row-final_lags_df['mid_ET'][grp])*final_lags_df['slope'][grp]\n",
    "\n",
    "    df_corr_list = {}\n",
    "    df_corr_list[0] = df_to_correct.where((df_to_correct['EPOCH_TIME'] < final_lags.loc[1,'mid_ET'])).dropna()\n",
    "    df_corr_list[0]['Corrected_ET'] = df_corr_list[0]['EPOCH_TIME'].apply(row_correction,args=(final_lags,0))\n",
    "    df_corr_list[0]['Corrected_DT'] = df_corr_list[0]['Corrected_ET'].apply(lambda x: datetime.fromtimestamp(x))\n",
    "\n",
    "    for i in range(1,len(final_lags)-1):\n",
    "        df_corr_list[i] = df_to_correct.where((df_to_correct['EPOCH_TIME'] >= final_lags.loc[i,'mid_ET']) & (df_to_correct['EPOCH_TIME'] <= final_lags.loc[i+1,'mid_ET'])).dropna()\n",
    "        df_corr_list[i]['Corrected_ET'] = df_corr_list[i]['EPOCH_TIME'].apply(row_correction,args=(final_lags,i))\n",
    "        df_corr_list[i]['Corrected_DT'] = df_corr_list[i]['Corrected_ET'].apply(lambda x: datetime.fromtimestamp(x))\n",
    "\n",
    "    corrected_df = pd.concat(df_corr_list)\n",
    "    \n",
    "    return corrected_df"
   ]
  },
  {
   "cell_type": "code",
   "execution_count": 13,
   "metadata": {},
   "outputs": [
    {
     "name": "stdin",
     "output_type": "stream",
     "text": [
      "Enter Start Date YYYY-mm-DD:  2019-11-06\n",
      "Enter End Date YYYY-mm-DD:  2019-11-11\n"
     ]
    }
   ],
   "source": [
    "date1,date2 = get_date_range()\n",
    "LI_vent = get_LI_data('Aug2019_LI_8100_Vent', date1,date2)\n",
    "Vent_Anem_Temp = get_vent_anem_temp_data('Aug2019_Vent_Anem_Temp',date1,date2)"
   ]
  },
  {
   "cell_type": "code",
   "execution_count": 14,
   "metadata": {},
   "outputs": [],
   "source": [
    "final_lags = get_lag_groups(pd.read_pickle('All_actualET_Spikes.pkl'),'Vent_Anem_Temp')\n",
    "Vent_Anem_Temp = df_correction_lag_slope(final_lags,Vent_Anem_Temp)\n",
    "\n",
    "final_lags = get_lag_groups(pd.read_pickle('All_actualET_Spikes.pkl'),'LI_8100_Vent')\n",
    "LI_vent = df_correction_lag_slope(final_lags,LI_vent)"
   ]
  },
  {
   "cell_type": "code",
   "execution_count": 27,
   "metadata": {},
   "outputs": [],
   "source": [
    "l= LI_vent.set_index('Corrected_DT').resample('10S').mean().reset_index()\n",
    "v=Vent_Anem_Temp.set_index('Corrected_DT').resample('10S').mean().resample('10s').interpolate(method='linear').reset_index()"
   ]
  },
  {
   "cell_type": "code",
   "execution_count": 28,
   "metadata": {},
   "outputs": [
    {
     "data": {
      "image/png": "[encoded data removed]",
      "text/plain": [
       "<Figure size 720x360 with 2 Axes>"
      ]
     },
     "metadata": {
      "needs_background": "light"
     },
     "output_type": "display_data"
    },
    {
     "name": "stdin",
     "output_type": "stream",
     "text": [
      "Is this an acceptable range?  n\n",
      "Input Start DateTime as YYYY-mm-DD HH:MM:SS -  2019-11-06 08:55:00\n",
      "Input End DateTime as YYYY-mm-DD HH:MM:SS -  2019-11-06 09:05:00\n"
     ]
    },
    {
     "data": {
      "image/png": "[encoded data removed]",
      "text/plain": [
       "<Figure size 720x360 with 2 Axes>"
      ]
     },
     "metadata": {
      "needs_background": "light"
     },
     "output_type": "display_data"
    },
    {
     "name": "stdin",
     "output_type": "stream",
     "text": [
      "Is this an acceptable range?  y\n"
     ]
    },
    {
     "data": {
      "text/plain": [
       "[          Corrected_DT    EPOCH_TIME           CO2  Corrected_ET\n",
       " 0  2019-11-06 08:59:40  1.573057e+09    489.356667  1.573056e+09\n",
       " 1  2019-11-06 08:59:50  1.573057e+09    492.845000  1.573056e+09\n",
       " 2  2019-11-06 09:00:00  1.573057e+09   1394.514000  1.573056e+09\n",
       " 3  2019-11-06 09:00:10  1.573057e+09    492.140000  1.573056e+09\n",
       " 4  2019-11-06 09:00:20  1.573057e+09    490.908000  1.573056e+09\n",
       " 5  2019-11-06 09:00:30  1.573057e+09    500.180000  1.573056e+09\n",
       " 6  2019-11-06 09:00:40  1.573057e+09    501.168000  1.573056e+09\n",
       " 7  2019-11-06 09:00:50  1.573057e+09    496.456000  1.573056e+09\n",
       " 8  2019-11-06 09:01:00  1.573057e+09  12007.401818  1.573056e+09\n",
       " 9  2019-11-06 09:01:10  1.573057e+09    495.083000  1.573056e+09\n",
       " 10 2019-11-06 09:01:20  1.573057e+09    490.992000  1.573056e+09\n",
       " 11 2019-11-06 09:01:30  1.573057e+09    503.369000  1.573056e+09\n",
       " 12 2019-11-06 09:01:40  1.573057e+09    502.265000  1.573056e+09\n",
       " 13 2019-11-06 09:01:50  1.573057e+09    503.835000  1.573056e+09\n",
       " 14 2019-11-06 09:02:00  1.573057e+09   2931.034000  1.573056e+09\n",
       " 15 2019-11-06 09:02:10  1.573057e+09   1518.986000  1.573056e+09\n",
       " 16 2019-11-06 09:02:20  1.573057e+09   1325.323000  1.573056e+09\n",
       " 17 2019-11-06 09:02:30  1.573057e+09    999.804000  1.573056e+09\n",
       " 18 2019-11-06 09:02:40  1.573057e+09    964.468000  1.573056e+09\n",
       " 19 2019-11-06 09:02:50  1.573057e+09    956.356000  1.573056e+09\n",
       " 20 2019-11-06 09:03:00  1.573057e+09    941.799000  1.573056e+09\n",
       " 21 2019-11-06 09:03:10  1.573057e+09    933.283000  1.573056e+09\n",
       " 22 2019-11-06 09:03:20  1.573057e+09   1061.484000  1.573056e+09\n",
       " 23 2019-11-06 09:03:30  1.573057e+09   1766.725000  1.573056e+09\n",
       " 24 2019-11-06 09:03:40  1.573057e+09   1809.675000  1.573056e+09\n",
       " 25 2019-11-06 09:03:50  1.573057e+09   1220.628000  1.573056e+09\n",
       " 26 2019-11-06 09:04:00  1.573057e+09    981.080000  1.573056e+09\n",
       " 27 2019-11-06 09:04:10  1.573057e+09    933.303333  1.573056e+09\n",
       " 28 2019-11-06 09:04:20  1.573057e+09    926.818182  1.573056e+09\n",
       " 29 2019-11-06 09:04:30  1.573057e+09    926.663333  1.573056e+09\n",
       " 30 2019-11-06 09:04:40  1.573057e+09    950.235000  1.573056e+09\n",
       " 31 2019-11-06 09:04:50  1.573057e+09   1401.212000  1.573056e+09\n",
       " 32 2019-11-06 09:05:00  1.573057e+09   1523.272000  1.573056e+09,\n",
       "           Corrected_DT    EPOCH_TIME  Rotations  Velocity  Temp_1  Temp_2  \\\n",
       " 0  2019-11-06 08:58:40  1.573057e+09      110.0    11.060   30.19    6.88   \n",
       " 1  2019-11-06 08:58:50  1.573057e+09      104.0    10.460   30.25    6.88   \n",
       " 2  2019-11-06 08:59:00  1.573057e+09       66.0     6.640   30.31    6.88   \n",
       " 3  2019-11-06 08:59:10  1.573057e+09       37.0     0.000   30.37    6.88   \n",
       " 4  2019-11-06 08:59:20  1.573057e+09      105.0    10.560   30.44    6.94   \n",
       " 5  2019-11-06 08:59:30  1.573057e+09      100.0    10.060   30.44    6.94   \n",
       " 6  2019-11-06 08:59:40  1.573057e+09       99.0     9.960   30.44    6.94   \n",
       " 7  2019-11-06 08:59:50  1.573057e+09       99.0     9.960   30.50    6.94   \n",
       " 8  2019-11-06 09:00:00  1.573057e+09      100.0    10.060   30.50    6.94   \n",
       " 9  2019-11-06 09:00:10  1.573057e+09      112.0    11.270   30.50    7.00   \n",
       " 10 2019-11-06 09:00:20  1.573057e+09       99.0     9.960   30.50    7.00   \n",
       " 11 2019-11-06 09:00:30  1.573057e+09      105.0    10.560   30.53    7.00   \n",
       " 12 2019-11-06 09:00:40  1.573057e+09      111.0    11.160   30.56    7.00   \n",
       " 13 2019-11-06 09:00:50  1.573057e+09      113.0    11.370   30.75    7.00   \n",
       " 14 2019-11-06 09:01:00  1.573057e+09      100.0    10.060   30.87    7.00   \n",
       " 15 2019-11-06 09:01:10  1.573057e+09      104.0    10.460   31.06    7.06   \n",
       " 16 2019-11-06 09:01:20  1.573057e+09      112.0    11.270   31.37    7.06   \n",
       " 17 2019-11-06 09:01:30  1.573057e+09      108.0    10.860   31.62    7.06   \n",
       " 18 2019-11-06 09:01:40  1.573057e+09      107.0    10.760   31.75    7.06   \n",
       " 19 2019-11-06 09:01:50  1.573057e+09      106.0    10.660   31.87    7.13   \n",
       " 20 2019-11-06 09:02:00  1.573057e+09      110.0    11.060   31.94    7.13   \n",
       " 21 2019-11-06 09:02:10  1.573057e+09      110.0    11.060   32.00    7.13   \n",
       " 22 2019-11-06 09:02:20  1.573057e+09      105.0    10.560   32.06    7.13   \n",
       " 23 2019-11-06 09:02:30  1.573057e+09       99.0     9.960   32.00    7.19   \n",
       " 24 2019-11-06 09:02:40  1.573057e+09      102.0    10.260   32.00    7.19   \n",
       " 25 2019-11-06 09:02:50  1.573057e+09      112.0    11.270   32.00    7.19   \n",
       " 26 2019-11-06 09:03:00  1.573057e+09      109.5    11.015   32.00    7.22   \n",
       " 27 2019-11-06 09:03:10  1.573057e+09      107.0    10.760   32.00    7.25   \n",
       " 28 2019-11-06 09:03:20  1.573057e+09      105.0    10.560   31.94    7.25   \n",
       " 29 2019-11-06 09:03:30  1.573057e+09      111.0    11.160   31.87    7.25   \n",
       " 30 2019-11-06 09:03:40  1.573057e+09      104.0    10.460   31.87    7.31   \n",
       " 31 2019-11-06 09:03:50  1.573057e+09      107.0    10.760   31.87    7.31   \n",
       " 32 2019-11-06 09:04:00  1.573057e+09      106.0    10.660   31.87    7.31   \n",
       " 33 2019-11-06 09:04:10  1.573057e+09      104.0    10.460   31.81    7.31   \n",
       " 34 2019-11-06 09:04:20  1.573057e+09       96.0     9.660   31.75    7.38   \n",
       " 35 2019-11-06 09:04:30  1.573057e+09      102.0    10.260   31.69    7.38   \n",
       " 36 2019-11-06 09:04:40  1.573057e+09      100.0    10.060   31.62    7.38   \n",
       " 37 2019-11-06 09:04:50  1.573057e+09       98.0     9.860   31.56    7.38   \n",
       " 38 2019-11-06 09:05:00  1.573057e+09      109.0    10.960   31.56    7.38   \n",
       " \n",
       "     Corrected_ET  \n",
       " 0   1.573056e+09  \n",
       " 1   1.573056e+09  \n",
       " 2   1.573056e+09  \n",
       " 3   1.573056e+09  \n",
       " 4   1.573056e+09  \n",
       " 5   1.573056e+09  \n",
       " 6   1.573056e+09  \n",
       " 7   1.573056e+09  \n",
       " 8   1.573056e+09  \n",
       " 9   1.573056e+09  \n",
       " 10  1.573056e+09  \n",
       " 11  1.573056e+09  \n",
       " 12  1.573056e+09  \n",
       " 13  1.573056e+09  \n",
       " 14  1.573056e+09  \n",
       " 15  1.573056e+09  \n",
       " 16  1.573056e+09  \n",
       " 17  1.573056e+09  \n",
       " 18  1.573056e+09  \n",
       " 19  1.573056e+09  \n",
       " 20  1.573056e+09  \n",
       " 21  1.573056e+09  \n",
       " 22  1.573056e+09  \n",
       " 23  1.573056e+09  \n",
       " 24  1.573056e+09  \n",
       " 25  1.573056e+09  \n",
       " 26  1.573056e+09  \n",
       " 27  1.573056e+09  \n",
       " 28  1.573056e+09  \n",
       " 29  1.573056e+09  \n",
       " 30  1.573056e+09  \n",
       " 31  1.573056e+09  \n",
       " 32  1.573056e+09  \n",
       " 33  1.573056e+09  \n",
       " 34  1.573056e+09  \n",
       " 35  1.573056e+09  \n",
       " 36  1.573056e+09  \n",
       " 37  1.573056e+09  \n",
       " 38  1.573056e+09  ]"
      ]
     },
     "execution_count": 28,
     "metadata": {},
     "output_type": "execute_result"
    }
   ],
   "source": [
    "plot_refinement_all([[l,'Corrected_DT','CO2'],[v,'Corrected_DT','Velocity']])"
   ]
  }
 ],
 "metadata": {
  "kernelspec": {
   "display_name": "Python 3",
   "language": "python",
   "name": "python3"
  },
  "language_info": {
   "codemirror_mode": {
    "name": "ipython",
    "version": 3
   },
   "file_extension": ".py",
   "mimetype": "text/x-python",
   "name": "python",
   "nbconvert_exporter": "python",
   "pygments_lexer": "ipython3",
   "version": "3.7.1"
  }
 },
 "nbformat": 4,
 "nbformat_minor": 4
}
