{
 "cells": [
  {
   "cell_type": "code",
   "execution_count": 1,
   "metadata": {
    "jupyter": {
     "source_hidden": true
    }
   },
   "outputs": [],
   "source": [
    "#IMPORT NECESSARY PACKAGES\n",
    "import matplotlib.pyplot as plt\n",
    "import numpy as np\n",
    "import pandas as pd\n",
    "import os\n",
    "import pickle\n",
    "import pymysql.cursors\n",
    "import datetime\n",
    "import matplotlib.gridspec as grd\n",
    "from pandas.plotting import register_matplotlib_converters\n",
    "register_matplotlib_converters()\n",
    "from datetime import datetime\n",
    "from time import mktime"
   ]
  },
  {
   "cell_type": "code",
   "execution_count": 2,
   "metadata": {
    "jupyter": {
     "source_hidden": true
    }
   },
   "outputs": [],
   "source": [
    "#Ask the user for the date range between which data will be pulled from SQL\n",
    "def get_date_range():\n",
    "    date1=input(\"Enter Start Date YYYY-mm-DD: \")\n",
    "    date2=input(\"Enter End Date YYYY-mm-DD: \")\n",
    "    return date1,date2"
   ]
  },
  {
   "cell_type": "code",
   "execution_count": 3,
   "metadata": {
    "jupyter": {
     "source_hidden": true
    }
   },
   "outputs": [],
   "source": [
    "def sql_connect():\n",
    "    #Connect to SQL database with username and pw\n",
    "    mydb = pymysql.connect(\n",
    "        host='155.98.6.253',\n",
    "        user='EddyFlux',\n",
    "        passwd = 'UvTrhM_yFo71X2',\n",
    "        database = 'CO2_Eddy'\n",
    "        )\n",
    "    \n",
    "    #Set up cursor (allows navigation through SQL syntax)\n",
    "    mycursor = mydb.cursor()\n",
    "    \n",
    "    return mycursor"
   ]
  },
  {
   "cell_type": "code",
   "execution_count": 4,
   "metadata": {
    "jupyter": {
     "source_hidden": true
    }
   },
   "outputs": [],
   "source": [
    "def get_LI_data(tablename,date1,date2):\n",
    "    ######################################################################\n",
    "    # Function to get exclusively \"Spike Necessary\" LI_8100 Data         # \n",
    "    # from SQL. Input the SQL Tablename, and date range between which    #\n",
    "    # data will be fetched. For one day's worth of data, enter the same  #\n",
    "    # Date.                                                              #\n",
    "    ######################################################################\n",
    "    \n",
    "    mycursor = sql_connect()\n",
    "    mycursor.execute(\"SELECT Local_DT, EPOCH_TIME, Cdry\\\n",
    "                        FROM {}\\\n",
    "                        WHERE Local_DT >= '{} 00:00:00' AND Local_DT <= '{} 23:59:59.99'\\\n",
    "                        order by EPOCH_TIME asc;\".format(tablename,date1,date2)) #SQL statement\n",
    "    data = mycursor.fetchall() #fetch the data\n",
    "    LI_vent = pd.DataFrame(list(data)) #convert imported data to dataframe\n",
    "    LI_vent.columns = ['Local_DT','EPOCH_TIME','CO2'] #name columns\n",
    "    cols = LI_vent.columns.drop('Local_DT') #get all column names beside date column\n",
    "    LI_vent[cols]=LI_vent[cols].apply(pd.to_numeric,errors='coerce') #change all but date to floats\n",
    "    \n",
    "    return LI_vent"
   ]
  },
  {
   "cell_type": "code",
   "execution_count": 5,
   "metadata": {
    "jupyter": {
     "source_hidden": true
    }
   },
   "outputs": [],
   "source": [
    "def get_multiplexer_data(tablename,date1,date2):\n",
    "    ######################################################################\n",
    "    # Function to get exclusively \"Spike Necessary\" Multiplexer Data     # \n",
    "    # from SQL. Input the SQL Tablename, and date range between which    #\n",
    "    # data will be fetched. For one day's worth of data, enter the same  #\n",
    "    # Date.                                                              #\n",
    "    ######################################################################\n",
    "    #Connect to SQL\n",
    "    mycursor = sql_connect()   \n",
    "    mycursor.execute(\"SELECT *\\\n",
    "                    FROM {}\\\n",
    "                    WHERE Local_DT >= '{} 00:00:00' AND Local_DT <= '{} 23:59:59.99'\\\n",
    "                    order by EPOCH_TIME asc;\".format(tablename,date1,date2)) #SQL query\n",
    "    data = mycursor.fetchall() #fetch the data\n",
    "    Multiplexer = pd.DataFrame(list(data)) #convert imported data into a dataframe\n",
    "    Multiplexer.columns = ['Local_DT','EPOCH_TIME','CO2_1','CO2_2','CO2_3','Rotations','Wind_Velocity','Wind_Direction','Temp','Location'] #name columns\n",
    "    cols = Multiplexer.columns.drop('Local_DT') #get all column names but date column\n",
    "    Multiplexer[cols]=Multiplexer[cols].apply(pd.to_numeric,errors='coerce') #change all but date to floats\n",
    "    \n",
    "    return Multiplexer"
   ]
  },
  {
   "cell_type": "code",
   "execution_count": 6,
   "metadata": {
    "jupyter": {
     "source_hidden": true
    }
   },
   "outputs": [],
   "source": [
    "def get_vent_anem_temp_data(tablename,date1,date2):\n",
    "    ######################################################################\n",
    "    # Function to get exclusively \"Spike Necessary\" Vent_Anem_Temp Data  # \n",
    "    # from SQL. Input the SQL Tablename, and date range between which    #\n",
    "    # data will be fetched. For one day's worth of data, enter the same  #\n",
    "    # Date.                                                              #\n",
    "    ######################################################################\n",
    "    \n",
    "    #Connect to SQL\n",
    "    mycursor = sql_connect()\n",
    "    mycursor.execute(\"SELECT *\\\n",
    "                    FROM {}\\\n",
    "                    WHERE Local_DT >= '{} 00:00:00' AND Local_DT <= '{} 23:59:59.99'\\\n",
    "                    order by EPOCH_TIME asc;\".format(tablename,date1,date2)) #SQL query\n",
    "    data = mycursor.fetchall() #fetch the data\n",
    "    Vent_Anem_Temp = pd.DataFrame(list(data)) #convert imported data to a dataframe\n",
    "    Vent_Anem_Temp.columns = ['Local_DT','EPOCH_TIME','Rotations','Velocity','Temp_1','Temp_2'] #name columns\n",
    "    cols = Vent_Anem_Temp.columns.drop('Local_DT') #get all column names but date\n",
    "    Vent_Anem_Temp[cols]=Vent_Anem_Temp[cols].apply(pd.to_numeric,errors='coerce') #change all but date to floats\n",
    "    \n",
    "    return Vent_Anem_Temp"
   ]
  },
  {
   "cell_type": "code",
   "execution_count": 7,
   "metadata": {
    "jupyter": {
     "source_hidden": true
    }
   },
   "outputs": [],
   "source": [
    "def get_picarro_data(tablename,date1,date2):\n",
    "    ###################################################################\n",
    "    # Function to get exclusively \"Spike Necessary\" Picarro Data from #\n",
    "    # SQL. Input the SQL Tablename, and date range between which data #\n",
    "    # will be fetched. For one day's worth of data, enter the same    #\n",
    "    # Date.                                                           #\n",
    "    ###################################################################\n",
    "    \n",
    "    #Connect to SQL\n",
    "    mycursor = sql_connect()\n",
    "    mycursor.execute(\"SELECT Local_DT, EPOCH_TIME, CO2_dry, ANEMOMETER_UY\\\n",
    "                    FROM {}\\\n",
    "                    WHERE Local_DT >= '{} 00:00:00' AND Local_DT <= '{} 23:59:59.99'\\\n",
    "                    order by EPOCH_TIME asc;\".format(tablename,date1,date2)) #SQL statement\n",
    "    data = mycursor.fetchall() #fetch the data\n",
    "    Picarro = pd.DataFrame(list(data)) #convert data to a dataframe\n",
    "    Picarro.columns = ['Local_DT','EPOCH_TIME','CO2','ANEM_Y'] #name columns\n",
    "    cols = Picarro.columns.drop('Local_DT') #get all column names but date\n",
    "    Picarro[cols]=Picarro[cols].apply(pd.to_numeric,errors='coerce') #change all but date to floats\n",
    "    \n",
    "    return Picarro"
   ]
  },
  {
   "cell_type": "code",
   "execution_count": 8,
   "metadata": {
    "jupyter": {
     "source_hidden": true
    }
   },
   "outputs": [],
   "source": [
    "#Script pulls in all of the necessary data in the date range input into the function\n",
    "#Inputs: The names of each SQL table\n",
    "#        date1 - start date for range of data to pull\n",
    "#        date2 - end date for range of data to pull\n",
    "def get_sql_data(LI_vent_sql_tablename,Multiplexer_sql_tablename,\\\n",
    "                 Vent_Anem_Temp_sql_tablename,Picarro_sql_tablename,date1,date2):\n",
    "    \n",
    "    ######################################################################\n",
    "    # Function to get exclusively \"Spike Necessary\" Vent_Anem_Temp Data  # \n",
    "    # from SQL. Input the SQL Tablename, and date range between which    #\n",
    "    # data will be fetched. For one day's worth of data, enter the same  #\n",
    "    # Date.                                                              #\n",
    "    ######################################################################\n",
    "\n",
    "    #Import source (LI_8100_Vent) data\n",
    "    #If there is a value error (no data in table for date range), set up an empty dataframe and pass the error\n",
    "    try:\n",
    "        LI_vent = get_LI_data(LI_vent_sql_tablename,date1,date2)\n",
    "    except ValueError:\n",
    "        LI_vent = pd.DataFrame() #set empty dataframe\n",
    "        pass\n",
    "    \n",
    "    \n",
    "    #Import Multiplexer data\n",
    "    #If there is a value error (no data in table for date range), set up an empty dataframe and pass the error\n",
    "    try:\n",
    "        Multiplexer = get_multiplexer_data(Multiplexer_sql_tablename,date1,date2)\n",
    "    except ValueError:\n",
    "        Multiplexer = pd.DataFrame() #make empty dataframe\n",
    "        pass\n",
    "    \n",
    "    #Import Vent_Anem_Temp data\n",
    "    #If there is a value error (no data in table for date range), set up an empty dataframe and pass the error\n",
    "    try:\n",
    "        Vent_Anem_Temp = get_vent_anem_temp_data(Vent_Anem_Temp_sql_tablename,date1,date2)\n",
    "    except ValueError:\n",
    "        Vent_Anem_Temp = pd.DataFrame() #make empty dataframe\n",
    "        pass\n",
    "\n",
    "    \n",
    "    #Import Picarro data\n",
    "    #If there is a value error (no data in table for date range), set up an empty dataframe and pass the error\n",
    "    try:\n",
    "        Picarro = get_picarro_data(Picarro_sql_tablename,date1,date2)\n",
    "    except ValueError:\n",
    "        Picarro = pd.DataFrame() #make empty dataframe\n",
    "        pass\n",
    "    \n",
    "    return LI_vent, Multiplexer, Vent_Anem_Temp, Picarro #return all of the fetched dataframes"
   ]
  },
  {
   "cell_type": "code",
   "execution_count": 9,
   "metadata": {
    "jupyter": {
     "source_hidden": true
    }
   },
   "outputs": [],
   "source": [
    "#Plot a simple graph with local_dt on the x axis, and an input (y_ax) on the y axis\n",
    "def simple_plot(df,y_ax):\n",
    "    fig,ax = plt.subplots() #make the fig,ax\n",
    "    ax.yaxis.grid(which=\"major\") #plot horizontal gridlines\n",
    "    ax.plot(df['Local_DT'],df[y_ax]) #plot\n",
    "    plt.gcf().autofmt_xdate() #get a nice date format for the x axis\n",
    "    fig.tight_layout()\n",
    "    plt.show()"
   ]
  },
  {
   "cell_type": "code",
   "execution_count": 10,
   "metadata": {
    "jupyter": {
     "source_hidden": true
    }
   },
   "outputs": [],
   "source": [
    "#Make a figure of multiple plots plotted above one another. X axes have the same values\n",
    "def plot_vertical_stack(df):\n",
    "    if 'CO2_1' in df: #if there is CO2_1, we are in multiplexer data, and want three plots, one for each CO2 value of muliplexer\n",
    "        fig = plt.figure(figsize=(15,5)) #set fig, ax with a figsize\n",
    "        gs = grd.GridSpec(3,1) # three plots\n",
    "        ax = fig.add_subplot(gs[0]) # add first subplot\n",
    "        ax.plot(df['Local_DT'],df['CO2_1'],color='blue') #plot first subplot\n",
    "        ax = fig.add_subplot(gs[1],sharex=ax) #make second subplot with same xaxis as first\n",
    "        ax.plot(df['Local_DT'],df['CO2_2'],color='red')\n",
    "        ax = fig.add_subplot(gs[2],sharex=ax)\n",
    "        ax.plot(df['Local_DT'],df['CO2_3'],color='black')\n",
    "        plt.gcf().autofmt_xdate() #format the date\n",
    "        fig.tight_layout()\n",
    "        plt.show()\n",
    "    else :\n",
    "        fig = plt.figure(figsize=(10,5))\n",
    "        gs = grd.GridSpec(2,1)\n",
    "        ax = fig.add_subplot(gs[0])\n",
    "        ax.plot(df['Local_DT'],df['CO2'],color='blue')\n",
    "        ax = fig.add_subplot(gs[1],sharex=ax)\n",
    "        ax.plot(df['Local_DT'],df['ANEM_Y'],color='red')\n",
    "        plt.gcf().autofmt_xdate()\n",
    "        fig.tight_layout()\n",
    "        plt.show()"
   ]
  },
  {
   "cell_type": "code",
   "execution_count": 11,
   "metadata": {
    "jupyter": {
     "source_hidden": true
    }
   },
   "outputs": [],
   "source": [
    "#This function allows the user to specify the range over which to plot picarro data\n",
    "def plot_refinement_picarro(df):\n",
    "    #plot_vertical_stack(df) #plot the data\n",
    "    cont_ref = True #set \"Continue refining\" to true, wont be changed until user says so\n",
    "    ask = input(\"Is this an acceptable range? \") #ask the user if this is a good range, or if they want to continue refining\n",
    "    if ask == 'y':\n",
    "        cont_ref = False    \n",
    "        df1=df\n",
    "    while cont_ref: #continue asking user to refine until command is given\n",
    "        DT1 = input(\"Input Start DateTime as YYYY-mm-DD HH:MM:SS - \") #get start of range\n",
    "        DT2 = input(\"Input End DateTime as YYYY-mm-DD HH:MM:SS - \") #get end of range\n",
    "\n",
    "        df1 = df.loc[(df['Local_DT']>=DT1)&(df['Local_DT']<=DT2)] #clip the data to the range given\n",
    "\n",
    "        plot_vertical_stack(df1) #plot over that range\n",
    "        \n",
    "        ask = input(\"Is this an acceptable range? \") #ask the user if this is a good range, or if they want to continue refining\n",
    "        if ask == 'y':\n",
    "            cont_ref = False\n",
    "    \n",
    "    return df1 #return the df with the user chosen range"
   ]
  },
  {
   "cell_type": "code",
   "execution_count": 12,
   "metadata": {
    "jupyter": {
     "source_hidden": true
    }
   },
   "outputs": [],
   "source": [
    "#This function allows the user to specify the range over which to plot LI data\n",
    "def plot_refinement_LI(df):\n",
    "    fig = plt.figure()\n",
    "    plt.plot(df['Local_DT'],df['CO2'])  #plot the data\n",
    "    plt.gcf().autofmt_xdate()\n",
    "    fig.tight_layout()\n",
    "    plt.show()\n",
    "    cont_ref = True #set \"Continue refining\" to true, wont be changed until user says so\n",
    "    ask = input(\"Is this an acceptable range? \") #ask the user if this is a good range, or if they want to continue refining\n",
    "    if ask == 'y':\n",
    "        cont_ref = False    \n",
    "        df1=df\n",
    "    while cont_ref:       #continue asking user to refine until command is given \n",
    "        DT1 = input(\"Input Start DateTime as YYYY-mm-DD HH:MM:SS - \")  #get start of range\n",
    "        DT2 = input(\"Input End DateTime as YYYY-mm-DD HH:MM:SS - \")   #get end of range\n",
    "\n",
    "        df1 = df.loc[(df['Local_DT']>=DT1)&(df['Local_DT']<=DT2)] #clip the data to the range given\n",
    "\n",
    "        plt.plot(df1['Local_DT'],df1['CO2']) #plot over that range\n",
    "        plt.gcf().autofmt_xdate()\n",
    "        fig.tight_layout()\n",
    "        plt.show()\n",
    "        \n",
    "        ask = input(\"Is this an acceptable range? \") #ask the user if this is a good range, or if they want to continue refining\n",
    "        if ask == 'y':\n",
    "            cont_ref = False\n",
    "            \n",
    "    return df1 #return the df with the user chosen range"
   ]
  },
  {
   "cell_type": "code",
   "execution_count": 13,
   "metadata": {
    "jupyter": {
     "source_hidden": true
    }
   },
   "outputs": [],
   "source": [
    "#This function allows the user to specify the range over which to plot Multiplexer data\n",
    "def plot_refinement_multiplexer(df):\n",
    "    plot_vertical_stack(df) #plot the data\n",
    "    cont_ref = True #set \"Continue refining\" to true, wont be changed until user says so\n",
    "    ask = input(\"Is this an acceptable range? \") #ask the user if this is a good range, or if they want to continue refining\n",
    "    if ask == 'y':\n",
    "        cont_ref = False\n",
    "        df1=df\n",
    "        \n",
    "    while cont_ref:          #continue asking user to refine until command is given \n",
    "        DT1 = input(\"Input Start DateTime as YYYY-mm-DD HH:MM:SS - \") #get start of range\n",
    "        DT2 = input(\"Input End DateTime as YYYY-mm-DD HH:MM:SS - \") #get end of range\n",
    "\n",
    "        df1 = df.loc[(df['Local_DT']>=DT1)&(df['Local_DT']<=DT2)] #clip the data to the range given\n",
    "\n",
    "        plot_vertical_stack(df1) #plot over that range\n",
    "        \n",
    "        ask = input(\"Is this an acceptable range? \") #ask the user if this is a good range, or if they want to continue refining\n",
    "        if ask == 'y':\n",
    "            cont_ref = False\n",
    "            \n",
    "    return df1 #return the df with the user chosen range"
   ]
  },
  {
   "cell_type": "code",
   "execution_count": 14,
   "metadata": {
    "jupyter": {
     "source_hidden": true
    }
   },
   "outputs": [],
   "source": [
    "#This function allows the user to specify the range over which to plot Multiplexer data\n",
    "def plot_refinement_vent_anem_temp(df):\n",
    "    simple_plot(df,'Velocity') #plot the data\n",
    "    cont_ref = True #set \"Continue refining\" to true, wont be changed until user says so\n",
    "    ask = input(\"Is this an acceptable range? \") #ask the user if this is a good range, or if they want to continue refining\n",
    "    if ask == 'y':\n",
    "        cont_ref = False\n",
    "        df1=df\n",
    "        \n",
    "    while cont_ref:          #continue asking user to refine until command is given \n",
    "        DT1 = input(\"Input Start DateTime as YYYY-mm-DD HH:MM:SS - \") #get start of range\n",
    "        DT2 = input(\"Input End DateTime as YYYY-mm-DD HH:MM:SS - \") #get end of range\n",
    "\n",
    "        df1 = df.loc[(df['Local_DT']>=DT1)&(df['Local_DT']<=DT2)] #clip the data to the range given\n",
    "\n",
    "        simple_plot(df1,'Velocity') #plot over that range\n",
    "        \n",
    "        ask = input(\"Is this an acceptable range? \") #ask the user if this is a good range, or if they want to continue refining\n",
    "        if ask == 'y':\n",
    "            cont_ref = False\n",
    "            \n",
    "    return df1 #return the df with the user chosen range"
   ]
  },
  {
   "cell_type": "code",
   "execution_count": 15,
   "metadata": {
    "jupyter": {
     "source_hidden": true
    }
   },
   "outputs": [],
   "source": [
    "#This function refines all dataframes to user specified ranges\n",
    "def get_tighter_ranges(LI_vent, LI_remote, Multiplexer, Picarro):\n",
    "    Picarro = plot_refinement_picarro(Picarro) #refine picarro range\n",
    "    LI_vent = plot_refinement_LI(LI_vent) #refine LI_vent range\n",
    "    Multiplexer = plot_refinement_multiplexer(Multiplexer) #refine Multiplexer range\n",
    "    return LI_vent, LI_remote, Multiplexer, Picarro         #return the refined range dataframes for each dataframe"
   ]
  },
  {
   "cell_type": "code",
   "execution_count": 16,
   "metadata": {
    "jupyter": {
     "source_hidden": true
    }
   },
   "outputs": [],
   "source": [
    "# This function gets a single \"spike\" from picarro anemometer data\n",
    "# Input: Picarro style dataframe\n",
    "# Output: List of the selected EPOCH time associated with the spike\n",
    "def get_single_pic_anem_spikes(df):\n",
    "    \n",
    "    df = df.reset_index(drop=True) # reset the index\n",
    "    y_ax = 'ANEM_Y'  # set the y_ax to ANEM_Y - this is where spikes are generally input             \n",
    "\n",
    "    simple_plot(df,y_ax)  # plot the data\n",
    "\n",
    "    #This is one method for \"spiking\" the anem data. We unplug the serial cable so the value\n",
    "    #pauses during that time. Therefore we check for where the value remains the same over a \n",
    "    #given time\n",
    "    df['shift'] = df['ANEM_Y'].shift(-15)   #create a column shifted 10 seconds later \n",
    "    df['shift2'] = df['ANEM_Y'].shift(-10)   #create a column shifted 5 seconds later\n",
    "    df['shift3'] = df['ANEM_Y'].shift(-5)   #create a column shifted 5 seconds later\n",
    "\n",
    "    spike_ixs = np.where((df['ANEM_Y']==df['shift'])&(df['ANEM_Y']==df['shift2'])&(df['ANEM_Y']==df['shift3']))[0]  #check to see where ANEM_Y values are  \n",
    "                                                                                       #equal to the ANEM_Y values 5 and 10\n",
    "                                                                                       #seconds later. Store in a list. \n",
    "\n",
    "    #initialize some variables\n",
    "    num_spikes = 0\n",
    "    spike_start = []\n",
    "    spike_end = []\n",
    "    spike_start.append(spike_ixs[0])\n",
    "\n",
    "    #Count number of spikes (sustained same value without large gap)\n",
    "    #Append the start of each spike and end of each spike to created arrays\n",
    "    for i in range(0,len(spike_ixs)-2):\n",
    "        if (spike_ixs[i+1]-spike_ixs[i]>20):\n",
    "            spike_end.append(spike_ixs[i])\n",
    "            num_spikes += 1\n",
    "            spike_start.append(spike_ixs[i+1])\n",
    "    spike_end.append(spike_ixs[-1])  \n",
    "    spikes = pd.DataFrame({'Start':spike_start, 'End':spike_end}, columns =['Start','End'])\n",
    "\n",
    "    #Create a list of dataframes. Each dataframe is the range around the spike. It is \"r\" \n",
    "    #datapoints (in this case 0.1s) before the spike start and \"r\" datapoints after the \n",
    "    #spike end\n",
    "    r = 30 #set r\n",
    "    df_list = {}\n",
    "    for i in range(0,len(spikes)):\n",
    "        df_list[i] = df[spikes['Start'][i]-r:spikes['End'][i]+r] #get the range\n",
    "\n",
    "    #create a list of spike starts so we don't have to keep referencing into the spikes dataframe\n",
    "    st_spike_idx = []\n",
    "    for i in range(0,len(df_list)):\n",
    "        st_spike_idx.append(spikes['Start'][i] - 1)  #append the start of each spike\n",
    "\n",
    "    #Here we will ask the user if the spike is in the correct spot\n",
    "    for j in range(0,len(spikes)):\n",
    "        refine = True\n",
    "        while refine:       \n",
    "            ANEM = []\n",
    "            ET = []\n",
    "\n",
    "            for i in range(0,len(spikes)):\n",
    "                ET.append(df['EPOCH_TIME'][st_spike_idx[i]])\n",
    "                ANEM.append(df['ANEM_Y'][st_spike_idx[i]])\n",
    "            plot_spike_with_pts(df_list[j],ET[j],ANEM[j],'ANEM_Y')\n",
    "\n",
    "            ask = input(\"Is the spike start in the correct spot?\")\n",
    "            if ask == 'y':\n",
    "                refine = False\n",
    "            else:\n",
    "                spike_refine = int(input(\"Spike Index Move: \"))\n",
    "                st_spike_idx[j] = st_spike_idx[j] + spike_refine\n",
    "    return ET #return the list of spike start EPOCH times\n"
   ]
  },
  {
   "cell_type": "code",
   "execution_count": 17,
   "metadata": {
    "jupyter": {
     "source_hidden": true
    }
   },
   "outputs": [],
   "source": [
    "# This function gets a single \"spike\" from picarro CO2 data\n",
    "# Input: Picarro style dataframe\n",
    "# Output: List of the selected EPOCH time associated with the spike \n",
    "def get_single_LI_spike(df):\n",
    "    df = df.reset_index(drop=True) #reset index\n",
    "    y_ax = 'CO2' #looking at CO2 data\n",
    "\n",
    "    simple_plot(df,y_ax) #plot the data for reference\n",
    "    \n",
    "    threshold = float(input(\"Enter the threshold value which all spikes go above: \")) #have the user input a threshold above which the spike goes\n",
    "    \n",
    "    spike_ixs = np.where((df['CO2']>=threshold) | (df['CO2']<0))[0] #find the indidcies where CO2 value is above input threshold\n",
    "\n",
    "    num_spikes = 0\n",
    "    spike_start = []\n",
    "    spike_end = []\n",
    "    spike_start.append(spike_ixs[0])\n",
    "\n",
    "    #Count number of spikes (sustained values above threshold without large gap)\n",
    "    #Append the start of each spike and end of each spike to created arrays\n",
    "    for i in range(0,len(spike_ixs)-2):\n",
    "        if (spike_ixs[i+1]-spike_ixs[i]>3):\n",
    "            spike_end.append(spike_ixs[i])\n",
    "            num_spikes += 1\n",
    "            spike_start.append(spike_ixs[i+1])\n",
    "    spike_end.append(spike_ixs[-1])  \n",
    "    \n",
    "    #create a spikes dataframe with start, center, and end indicies\n",
    "    spikes = pd.DataFrame({'Start':spike_start, 'End':spike_end}, columns =['Start','End'])\n",
    "    spikes['Center'] = spikes.apply(lambda row: int((row.Start + row.End)/2),axis=1)\n",
    "\n",
    "    #Create a list of dataframes. Each dataframe is the range around the spike. It is \"r\" \n",
    "    #datapoints (in this case 0.1s) before the spike start and \"r\" datapoints after the \n",
    "    #spike end\n",
    "    r = 10\n",
    "    df_list = {}\n",
    "    for i in range(0,len(spikes)):\n",
    "        df_list[i] = df[spikes['Start'][i]-r:spikes['End'][i]+r]   \n",
    "    \n",
    "    #create a list of spike starts so we don't have to keep referencing into the spikes dataframe\n",
    "    st_spike_idx = []\n",
    "    for i in range(0,len(df_list)):\n",
    "        co2_diff = abs(df_list[i][y_ax][spikes['Start'][i]] - df_list[i][y_ax][spikes['Start'][i]-1]) #get the difference between point i and i+1\n",
    "        st_spike_idx.append(spikes['Start'][i] - 1) #append the index value for the start of the spike to the list\n",
    "        while co2_diff > 1000: #we want to find where the change is large - so where the change between points is greater than 1000, keep moving backward\n",
    "            co2_diff = abs(df_list[i][y_ax][st_spike_idx[i]] - df_list[i][y_ax][st_spike_idx[i]-1]) #find the difference between the current value and the point before. \n",
    "            st_spike_idx[i] = st_spike_idx[i]-1 #increment the index backward\n",
    "        st_spike_idx[i] += 1 #once the difference is less than 1000, store the next value as the start of the spike\n",
    "\n",
    "    #Here we will ask the user if the spike is in the correct spot\n",
    "    for j in range(0,len(spikes)):\n",
    "        refine = True\n",
    "        while refine:       \n",
    "            CO2 = []\n",
    "            ET = []\n",
    "\n",
    "            for i in range(0,len(spikes)):\n",
    "                ET.append(df['EPOCH_TIME'][st_spike_idx[i]])\n",
    "                CO2.append(df['CO2'][st_spike_idx[i]])\n",
    "            plot_spike_with_pts(df_list[j],ET[j],CO2[j],'CO2')\n",
    "\n",
    "            ask = input(\"Is the spike start in the correct spot?\")\n",
    "            if ask == 'y':\n",
    "                refine = False\n",
    "            else:\n",
    "                spike_refine = int(input(\"Spike Index Move: \"))\n",
    "                st_spike_idx[j] = st_spike_idx[j] + spike_refine\n",
    "    \n",
    "    return ET\n"
   ]
  },
  {
   "cell_type": "code",
   "execution_count": 18,
   "metadata": {
    "jupyter": {
     "source_hidden": true
    }
   },
   "outputs": [],
   "source": [
    "def plot_spike_with_pts(df_list,ET,y_ax_var,y_ax_str):\n",
    "    fig,ax = plt.subplots(figsize=(15,3))\n",
    "    ax.plot(df_list['EPOCH_TIME'],df_list[y_ax_str],color='blue')\n",
    "    ax.scatter(df_list['EPOCH_TIME'],df_list[y_ax_str],color='red')        \n",
    "    ax.scatter(ET,y_ax_var,color='black')    \n",
    "    fig.subplots_adjust()\n",
    "    plt.show()"
   ]
  },
  {
   "cell_type": "code",
   "execution_count": 19,
   "metadata": {
    "jupyter": {
     "source_hidden": true
    }
   },
   "outputs": [],
   "source": [
    "def get_single_pic_co2_spikes(df):\n",
    "    \n",
    "    df = df.reset_index(drop=True)\n",
    "    y_ax = 'CO2'\n",
    "\n",
    "    simple_plot(df,y_ax)\n",
    "\n",
    "\n",
    "    threshold = float(input(\"Enter the threshold value which all spikes go above: \"))\n",
    "    spike_ixs = np.where(df['CO2']>=threshold)[0]\n",
    "\n",
    "    num_spikes = 0\n",
    "    spike_start = []\n",
    "    spike_end = []\n",
    "    spike_start.append(spike_ixs[0])\n",
    "\n",
    "        #Count number of spikes (sustained -99.99 values without large gap)\n",
    "        #Append the start of each spike and end of each spike to created arrays\n",
    "    for i in range(0,len(spike_ixs)-2):\n",
    "        if (spike_ixs[i+1]-spike_ixs[i]>20):\n",
    "            spike_end.append(spike_ixs[i])\n",
    "            num_spikes += 1\n",
    "            spike_start.append(spike_ixs[i+1])\n",
    "    spike_end.append(spike_ixs[-1])  \n",
    "    spikes = pd.DataFrame({'Start':spike_start, 'End':spike_end}, columns =['Start','End'])\n",
    "\n",
    "\n",
    "    df_list = {}\n",
    "    for i in range(0,len(spikes)):\n",
    "        df_list[i] = df[spikes['Start'][i]-30:spikes['End'][i]+30]\n",
    "\n",
    "    st_spike_idx = []\n",
    "    for i in range(0,len(df_list)):\n",
    "        co2_diff = df_list[i]['CO2'][spikes['Start'][i]] - df_list[i]['CO2'][spikes['Start'][i]-1]\n",
    "        st_spike_idx.append(spikes['Start'][i] - 1)\n",
    "        while co2_diff > 1000:\n",
    "            co2_diff = df_list[i]['CO2'][st_spike_idx[i]] - df_list[i]['CO2'][st_spike_idx[i]-1]\n",
    "            st_spike_idx[i] = st_spike_idx[i]-1\n",
    "        st_spike_idx[i] += 1\n",
    "\n",
    "    for j in range(0,len(spikes)):\n",
    "        refine = True\n",
    "        while refine:       \n",
    "            CO2 = []\n",
    "            ET = []\n",
    "\n",
    "            for i in range(0,len(spikes)):\n",
    "                ET.append(df['EPOCH_TIME'][st_spike_idx[i]])\n",
    "                CO2.append(df['CO2'][st_spike_idx[i]])\n",
    "            plot_spike_with_pts(df_list[j],ET[j],CO2[j],'CO2')\n",
    "\n",
    "            ask = input(\"Is the spike start in the correct spot?\")\n",
    "            if ask == 'y':\n",
    "                refine = False\n",
    "            else:\n",
    "                spike_refine = int(input(\"Spike Index Move: \"))\n",
    "                st_spike_idx[j] = st_spike_idx[j] + spike_refine\n",
    "\n",
    "    return ET\n"
   ]
  },
  {
   "cell_type": "code",
   "execution_count": 20,
   "metadata": {
    "jupyter": {
     "source_hidden": true
    }
   },
   "outputs": [],
   "source": [
    "def get_single_multiplexer_spike(df,y_ax):\n",
    "    df = df.reset_index(drop=True)\n",
    "\n",
    "    simple_plot(df,y_ax)\n",
    "\n",
    "    threshold = float(input(\"Enter the threshold value which all spikes go above: \"))\n",
    "    spike_ixs = np.where((df[y_ax]>=threshold))[0]\n",
    "\n",
    "    num_spikes = 0\n",
    "    spike_start = []\n",
    "    spike_end = []\n",
    "    spike_start.append(spike_ixs[0])\n",
    "\n",
    "    for i in range(0,len(spike_ixs)-2):\n",
    "        if (spike_ixs[i+1]-spike_ixs[i]>2):\n",
    "            spike_end.append(spike_ixs[i])\n",
    "            num_spikes += 1\n",
    "            spike_start.append(spike_ixs[i+1])\n",
    "    spike_end.append(spike_ixs[-1])  \n",
    "    spikes = pd.DataFrame({'Start':spike_start, 'End':spike_end}, columns =['Start','End'])\n",
    "    spikes['Center'] = spikes.apply(lambda row: int((row.Start + row.End)/2),axis=1)\n",
    "\n",
    "    print(spikes)\n",
    "    \n",
    "    df_list = {}\n",
    "    for i in range(0,len(spikes)):\n",
    "        df_list[i] = df[spikes['Start'][i]-5:spikes['End'][i]+5]\n",
    "\n",
    "        \n",
    "    st_spike_idx = []\n",
    "    for i in range(0,len(df_list)):\n",
    "        co2_diff = abs(df_list[i][y_ax][spikes['Start'][i]] - df_list[i][y_ax][spikes['Start'][i]-1])\n",
    "        st_spike_idx.append(spikes['Start'][i] - 1)\n",
    "        while co2_diff > 200:\n",
    "            co2_diff = abs(df_list[i][y_ax][st_spike_idx[i]] - df_list[i][y_ax][st_spike_idx[i]-1])\n",
    "            st_spike_idx[i] = st_spike_idx[i]-1\n",
    "        st_spike_idx[i] += 1\n",
    "\n",
    "    for j in range(0,len(spikes)):\n",
    "        refine = True\n",
    "        while refine:       \n",
    "            CO2 = []\n",
    "            ET = []\n",
    "            for i in range(0,len(spikes)):\n",
    "                ET.append(df['EPOCH_TIME'][st_spike_idx[i]])\n",
    "                CO2.append(df[y_ax][st_spike_idx[i]])\n",
    "\n",
    "            fig = plt.figure(figsize=(15,len(spikes)*3))\n",
    "            gs = grd.GridSpec(len(spikes),1)\n",
    "            #for i in range(0,len(df_list)):\n",
    "            ax = fig.add_subplot(gs[j])\n",
    "            ax.plot(df_list[j]['EPOCH_TIME'],df_list[j][y_ax],color='blue')\n",
    "            ax.scatter(df_list[j]['EPOCH_TIME'],df_list[j][y_ax],color='red')\n",
    "            ax.scatter(ET[j],CO2[j],color='black')    \n",
    "            fig.subplots_adjust()\n",
    "            plt.show()\n",
    "\n",
    "            ask = input(\"Is the spike start in the correct spot?\")\n",
    "            if ask == 'y':\n",
    "                refine = False\n",
    "            else:\n",
    "                spike_refine = int(input(\"Spike Index Move: \"))\n",
    "                st_spike_idx[j] = st_spike_idx[j] + spike_refine          \n",
    "\n",
    "    return ET\n"
   ]
  },
  {
   "cell_type": "code",
   "execution_count": 21,
   "metadata": {
    "jupyter": {
     "source_hidden": true
    }
   },
   "outputs": [],
   "source": [
    "def get_all_multiplexer_spikes(df):\n",
    "    multi_spike_ET = {}\n",
    "    for i in range(1,4):\n",
    "        multi_spike_ET[i] = get_single_multiplexer_spike(df,\"CO2_{}\".format(i))\n",
    "\n",
    "    return multi_spike_ET"
   ]
  },
  {
   "cell_type": "code",
   "execution_count": 22,
   "metadata": {
    "jupyter": {
     "source_hidden": true
    }
   },
   "outputs": [],
   "source": [
    "def get_single_vent_anem_temp_spike(df,y_ax):\n",
    "    df = df.reset_index(drop=True)\n",
    "    \n",
    "    #Plot for visualization\n",
    "    fig,ax = plt.subplots() #make the fig,ax\n",
    "    ax.yaxis.grid(which=\"major\") #plot horizontal gridlines\n",
    "    ax.plot(df['Local_DT'],df[y_ax]) #plot\n",
    "    ax.scatter(df['Local_DT'],df[y_ax],color='Black')\n",
    "    plt.gcf().autofmt_xdate() #get a nice date format for the x axis\n",
    "    fig.tight_layout()\n",
    "    plt.show()\n",
    "    \n",
    "    #confirm spike or dip\n",
    "    redo = True\n",
    "    while redo:\n",
    "        up_or_down = input(\"Is this a spike or a dip? \")\n",
    "        if up_or_down == 'spike':\n",
    "            threshold = float(input(\"Enter the threshold value which all spikes go above: \"))\n",
    "            spike_ixs = np.where(df[y_ax]>=threshold)[0] #If it's a spike, get the indecies of all values above the input threshold\n",
    "            first_rot = df['Rotations'].loc[spike_ixs[0]] #Store the number of rotations recorded for the first \"spike\" index\n",
    "            rot_tot = df.loc[spike_ixs[0]:spike_ixs[-1]].sum()['Rotations'] #Get the sum of all rotations recorded during the spike\n",
    "            rot_p_sec = rot_tot/10 #The spike is a 10 second run, divide by 10 to get a \"rotations per second\" value\n",
    "            sec_before = int(round(first_rot/rot_p_sec)) #Find the amount of time before the initial spike epoch time when the spike started (number of rotations in first \n",
    "                                                        # spike recording divided by spikes per second)\n",
    "            redo = False\n",
    "        elif up_or_down == 'dip':\n",
    "            threshold = float(input(\"Enter the threshold value which all spikes go below: \"))\n",
    "            spike_ixs = np.where(df[y_ax]<=threshold)[0] #If it's a dip, get the indecies of all values below the input threshold\n",
    "            if len(spike_ixs) == 1:\n",
    "                sec_before = df['EPOCH_TIME'].loc[spike_ixs[0]]-df['EPOCH_TIME'].loc[spike_ixs[0]-1]\n",
    "            else: \n",
    "                before_ix = spike_ixs[0]-1\n",
    "                after_ix =spike_ixs[-1]+1\n",
    "                before_rot = df['Rotations'].loc[before_ix] #Get the numer of rotations before the spike began to use in average\n",
    "                after_rot = df['Rotations'].loc[after_ix] #Get the number of rotations after the spike ended to use in average\n",
    "                average_rot = (before_rot+after_rot)/2 #get the average number of rotations surrounding the dip\n",
    "\n",
    "                first_rot_diff = before_rot - df['Rotations'].loc[spike_ixs[0]] #Store the difference in number of rotations recorded for the first \"spike\" index\n",
    "                last_rot_diff = after_rot - df['Rotations'].loc[spike_ixs[-1]]\n",
    "\n",
    "                rot_tot = first_rot_diff+last_rot_diff #Get the sum of all rotations recorded during the spike subtracted from twice the average\n",
    "                rot_p_sec = rot_tot/10 #The spike is a 10 second run, divide by 10 to get a \"rotations per second\" value\n",
    "                sec_before = int(round(first_rot_diff/rot_p_sec)) #Find the amount of time before the initial spike epoch time when the spike started (number of rotations in first \n",
    "                                                            # spike recording divided by spikes per second)\n",
    "            redo = False\n",
    "        else:\n",
    "            print(\"Didn't enter spike or dip correctly.\")\n",
    "            redo = True\n",
    "\n",
    "    \n",
    "    \n",
    "    ET = []\n",
    "    ET.append(df['EPOCH_TIME'].loc[spike_ixs[0]]-sec_before) #Append the spike time. This is the spike start epoch time minus the seconds before as calculated above. \n",
    "                                                            # the reason this is subtracted is that the time on the arduino is recorded at the END of the averaging scheme\n",
    "                                                            # meaning that the count recorded is the count between the previous time and the time recorded for that count\n",
    "    print(ET)\n",
    "    fig,ax = plt.subplots() #make the fig,ax\n",
    "    ax.yaxis.grid(which=\"major\") #plot horizontal gridlines\n",
    "    ax.plot(df['EPOCH_TIME'],df[y_ax]) #plot\n",
    "    ax.scatter(df['EPOCH_TIME'],df[y_ax],color='Black')\n",
    "    plt.axvline(x=ET[0],color='red')\n",
    "    plt.gcf().autofmt_xdate() #get a nice date format for the x axis\n",
    "    fig.tight_layout()\n",
    "    plt.show()\n",
    "    \n",
    "    return ET\n"
   ]
  },
  {
   "cell_type": "code",
   "execution_count": 23,
   "metadata": {
    "jupyter": {
     "source_hidden": true
    }
   },
   "outputs": [],
   "source": [
    "def spike_ET_df_creation(**kwargs):\n",
    "    spike_ET_df = pd.DataFrame()\n",
    "    for key, value in kwargs.items():\n",
    "        if 'ANEM' in key :\n",
    "            spike_ET_df['Picarro_ANEM'] = get_single_pic_anem_spikes(value)\n",
    "            print(\"1\",spike_ET_df)\n",
    "        elif 'CO2' in key:\n",
    "            spike_ET_df['Picarro_CO2']= get_single_pic_co2_spikes(value)   \n",
    "        elif 'vent' in key:\n",
    "            spike_ET_df['LI_8100_Vent']= get_single_LI_spike(value)\n",
    "        elif 'remote' in key:\n",
    "            spike_ET_df['LI_8100_Remote']= get_single_LI_spike(value)\n",
    "        elif 'Multiplexer' in key:\n",
    "            #spike_ET_df['Multiplexer_CO2_1'] = get_single_multiplexer_spike(value,'CO2_1')\n",
    "            multi_spikes = get_all_multiplexer_spikes(value)\n",
    "            for i in range(1,4):\n",
    "                spike_ET_df['Multiplexer_CO2_{}'.format(i)] = multi_spikes[i]\n",
    "        elif 'Temp' in key:\n",
    "            spike_ET_df['Vent_Anem_Temp'] = get_single_vent_anem_temp_spike(value,'Rotations')\n",
    "        \n",
    "    return spike_ET_df"
   ]
  },
  {
   "cell_type": "code",
   "execution_count": 24,
   "metadata": {
    "jupyter": {
     "source_hidden": true
    }
   },
   "outputs": [],
   "source": [
    "def fill_multiplexer_gaps(df):\n",
    "    df.EPOCH_TIME = df.EPOCH_TIME.astype(int)\n",
    "    st = df['EPOCH_TIME'].min()\n",
    "    end =  df['EPOCH_TIME'].max()\n",
    "    x = df.set_index('EPOCH_TIME').reindex(range(st,end,1)).interpolate().rename_axis('EPOCH_TIME').reset_index()\n",
    "\n",
    "    x['Local_DT'] = pd.to_datetime(x['EPOCH_TIME'],unit='s') - pd.Timedelta('06:00:00')\n",
    "\n",
    "    return x\n"
   ]
  },
  {
   "cell_type": "code",
   "execution_count": 25,
   "metadata": {
    "jupyter": {
     "source_hidden": true
    }
   },
   "outputs": [],
   "source": [
    "def create_lag_df(actual_spike_df):\n",
    "    cols = actual_spike_df.columns.drop(['Actual_DT','Actual_ET'])\n",
    "    lags = pd.DataFrame()\n",
    "    lags['Actual_DT'] = actual_spike_df['Actual_DT']\n",
    "    lags['Actual_ET'] = actual_spike_df['Actual_ET']\n",
    "    for col in cols:\n",
    "        lags[col] = actual_spike_df['Actual_ET'] - actual_spike_df[col]\n",
    "\n",
    "\n",
    "    return lags"
   ]
  },
  {
   "cell_type": "code",
   "execution_count": 26,
   "metadata": {
    "jupyter": {
     "source_hidden": true
    }
   },
   "outputs": [],
   "source": [
    "def append_real_DT(spike_ET_df,actual_spike_df):\n",
    "    actual_DT = []\n",
    "    for i in range(0,len(spike_ET_df)):\n",
    "        actual_DT.append(input('Actual datetime for this ({}) spike? '.format(i)))\n",
    "\n",
    "    actual_DT_df = pd.DataFrame({'Actual_DT':actual_DT})\n",
    "    df_to_append = pd.concat([actual_DT_df,spike_ET_df],axis=1)\n",
    "\n",
    "    actual_spike_df = actual_spike_df.append(df_to_append,sort=True).reset_index(drop=True)\n",
    "    \n",
    "    actual_spike_df['Actual_ET'] = actual_spike_df.apply(lambda row: mktime(datetime.strptime(row['Actual_DT'],\"%Y-%m-%d %H:%M:%S\").timetuple()),axis=1)\n",
    "\n",
    "    #actual_spike_df['Actual_ET'] = (pd.to_datetime(actual_spike_df['Actual_DT']).astype(np.int64)) // 10**9+21600\n",
    "    \n",
    "    \n",
    "    return actual_spike_df\n"
   ]
  },
  {
   "cell_type": "code",
   "execution_count": 27,
   "metadata": {
    "jupyter": {
     "source_hidden": true
    }
   },
   "outputs": [],
   "source": [
    "def create_actual_spike(arg1,**kwargs):    \n",
    "    for key, value in kwargs.items():\n",
    "        if 'CO2' in key :\n",
    "            Picarro_clip = plot_refinement_picarro(value)\n",
    "            spike_ET_df = spike_ET_df_creation(Picarro_CO2_df = Picarro_clip)       \n",
    "        elif 'ANEM' in key:\n",
    "            Picarro_clip = plot_refinement_picarro(value)\n",
    "            spike_ET_df = spike_ET_df_creation(Picarro_ANEM_df = Picarro_clip)    \n",
    "            print(\"2\",spike_ET_df)\n",
    "        elif 'vent' in key:\n",
    "            LI_vent_clip = plot_refinement_LI(value)\n",
    "            spike_ET_df = spike_ET_df_creation(LI_vent_df = LI_vent_clip)\n",
    "        elif 'remote' in key:\n",
    "            LI_remote_clip = plot_refinement_LI(value)\n",
    "            spike_ET_df = spike_ET_df_creation(LI_remote_df = LI_remote_clip)\n",
    "        elif 'Multiplexer' in key:\n",
    "            Multiplexer_clip = plot_refinement_multiplexer(value)\n",
    "            Multiplexer_clip = fill_multiplexer_gaps(Multiplexer_clip)\n",
    "            spike_ET_df = spike_ET_df_creation(Multiplexer_df = Multiplexer_clip)\n",
    "        elif 'Temp' in key:\n",
    "            Vent_Anem_Temp_clip = plot_refinement_vent_anem_temp(value)\n",
    "            spike_ET_df = spike_ET_df_creation(Vent_Anem_Temp_df = Vent_Anem_Temp_clip)\n",
    "        arg1 = append_real_DT(spike_ET_df,actual_spike_df)\n",
    "    return arg1"
   ]
  },
  {
   "cell_type": "code",
   "execution_count": 31,
   "metadata": {},
   "outputs": [
    {
     "name": "stdin",
     "output_type": "stream",
     "text": [
      "Enter Start Date YYYY-mm-DD:  2019-11-04\n",
      "Enter End Date YYYY-mm-DD:  2019-11-15\n"
     ]
    }
   ],
   "source": [
    "date1,date2 = get_date_range()\n",
    "# LI_vent, Multiplexer, Vent_Anem_Temp, Picarro, \\\n",
    "# = get_sql_data(\"Aug2019_LI_8100_Vent\",\\\n",
    "#                \"Aug2019_Multiplexer\",\"Aug2019_Vent_Anem_Temp\",\\\n",
    "#                \"Aug2019_Picarro\",date1,date2)\n",
    "LI_vent = get_LI_data('Aug2019_LI_8100_Vent',date1,date2)\n",
    "Multiplexer = get_multiplexer_data('Aug2019_Multiplexer',date1,date2)"
   ]
  },
  {
   "cell_type": "code",
   "execution_count": 32,
   "metadata": {
    "scrolled": true
   },
   "outputs": [
    {
     "data": {
      "text/html": [
       "<div>\n",
       "<style scoped>\n",
       "    .dataframe tbody tr th:only-of-type {\n",
       "        vertical-align: middle;\n",
       "    }\n",
       "\n",
       "    .dataframe tbody tr th {\n",
       "        vertical-align: top;\n",
       "    }\n",
       "\n",
       "    .dataframe thead th {\n",
       "        text-align: right;\n",
       "    }\n",
       "</style>\n",
       "<table border=\"1\" class=\"dataframe\">\n",
       "  <thead>\n",
       "    <tr style=\"text-align: right;\">\n",
       "      <th></th>\n",
       "      <th>Actual_DT</th>\n",
       "      <th>Actual_ET</th>\n",
       "      <th>LI_8100_Vent</th>\n",
       "      <th>Multiplexer_CO2_1</th>\n",
       "      <th>Multiplexer_CO2_2</th>\n",
       "      <th>Multiplexer_CO2_3</th>\n",
       "      <th>Picarro_ANEM</th>\n",
       "      <th>Picarro_CO2</th>\n",
       "      <th>Vent_Anem_Temp</th>\n",
       "    </tr>\n",
       "  </thead>\n",
       "  <tbody>\n",
       "    <tr>\n",
       "      <td>0</td>\n",
       "      <td>2019-08-15 09:55:00</td>\n",
       "      <td>1.565884e+09</td>\n",
       "      <td>NaN</td>\n",
       "      <td>NaN</td>\n",
       "      <td>NaN</td>\n",
       "      <td>NaN</td>\n",
       "      <td>NaN</td>\n",
       "      <td>1.56588e+09</td>\n",
       "      <td>NaN</td>\n",
       "    </tr>\n",
       "    <tr>\n",
       "      <td>1</td>\n",
       "      <td>2019-08-15 09:56:00</td>\n",
       "      <td>1.565885e+09</td>\n",
       "      <td>NaN</td>\n",
       "      <td>NaN</td>\n",
       "      <td>NaN</td>\n",
       "      <td>NaN</td>\n",
       "      <td>NaN</td>\n",
       "      <td>1.56588e+09</td>\n",
       "      <td>NaN</td>\n",
       "    </tr>\n",
       "    <tr>\n",
       "      <td>2</td>\n",
       "      <td>2019-08-15 09:57:00</td>\n",
       "      <td>1.565885e+09</td>\n",
       "      <td>NaN</td>\n",
       "      <td>NaN</td>\n",
       "      <td>NaN</td>\n",
       "      <td>NaN</td>\n",
       "      <td>NaN</td>\n",
       "      <td>1.56588e+09</td>\n",
       "      <td>NaN</td>\n",
       "    </tr>\n",
       "    <tr>\n",
       "      <td>3</td>\n",
       "      <td>2019-08-15 16:55:00</td>\n",
       "      <td>1.565910e+09</td>\n",
       "      <td>NaN</td>\n",
       "      <td>NaN</td>\n",
       "      <td>NaN</td>\n",
       "      <td>NaN</td>\n",
       "      <td>NaN</td>\n",
       "      <td>1.56591e+09</td>\n",
       "      <td>NaN</td>\n",
       "    </tr>\n",
       "    <tr>\n",
       "      <td>4</td>\n",
       "      <td>2019-08-15 16:56:00</td>\n",
       "      <td>1.565910e+09</td>\n",
       "      <td>NaN</td>\n",
       "      <td>NaN</td>\n",
       "      <td>NaN</td>\n",
       "      <td>NaN</td>\n",
       "      <td>NaN</td>\n",
       "      <td>1.56591e+09</td>\n",
       "      <td>NaN</td>\n",
       "    </tr>\n",
       "    <tr>\n",
       "      <td>...</td>\n",
       "      <td>...</td>\n",
       "      <td>...</td>\n",
       "      <td>...</td>\n",
       "      <td>...</td>\n",
       "      <td>...</td>\n",
       "      <td>...</td>\n",
       "      <td>...</td>\n",
       "      <td>...</td>\n",
       "      <td>...</td>\n",
       "    </tr>\n",
       "    <tr>\n",
       "      <td>750</td>\n",
       "      <td>2019-11-11 21:29:00</td>\n",
       "      <td>1.573533e+09</td>\n",
       "      <td>NaN</td>\n",
       "      <td>NaN</td>\n",
       "      <td>NaN</td>\n",
       "      <td>NaN</td>\n",
       "      <td>1.57353e+09</td>\n",
       "      <td>NaN</td>\n",
       "      <td>NaN</td>\n",
       "    </tr>\n",
       "    <tr>\n",
       "      <td>751</td>\n",
       "      <td>2019-11-11 21:30:00</td>\n",
       "      <td>1.573533e+09</td>\n",
       "      <td>NaN</td>\n",
       "      <td>NaN</td>\n",
       "      <td>NaN</td>\n",
       "      <td>NaN</td>\n",
       "      <td>1.57353e+09</td>\n",
       "      <td>NaN</td>\n",
       "      <td>NaN</td>\n",
       "    </tr>\n",
       "    <tr>\n",
       "      <td>752</td>\n",
       "      <td>2019-11-12 19:24:00</td>\n",
       "      <td>1.573612e+09</td>\n",
       "      <td>NaN</td>\n",
       "      <td>NaN</td>\n",
       "      <td>NaN</td>\n",
       "      <td>NaN</td>\n",
       "      <td>1.57361e+09</td>\n",
       "      <td>NaN</td>\n",
       "      <td>NaN</td>\n",
       "    </tr>\n",
       "    <tr>\n",
       "      <td>753</td>\n",
       "      <td>2019-11-12 19:25:00</td>\n",
       "      <td>1.573612e+09</td>\n",
       "      <td>NaN</td>\n",
       "      <td>NaN</td>\n",
       "      <td>NaN</td>\n",
       "      <td>NaN</td>\n",
       "      <td>1.57361e+09</td>\n",
       "      <td>NaN</td>\n",
       "      <td>NaN</td>\n",
       "    </tr>\n",
       "    <tr>\n",
       "      <td>754</td>\n",
       "      <td>2019-11-12 19:26:00</td>\n",
       "      <td>1.573612e+09</td>\n",
       "      <td>NaN</td>\n",
       "      <td>NaN</td>\n",
       "      <td>NaN</td>\n",
       "      <td>NaN</td>\n",
       "      <td>1.57361e+09</td>\n",
       "      <td>NaN</td>\n",
       "      <td>NaN</td>\n",
       "    </tr>\n",
       "  </tbody>\n",
       "</table>\n",
       "<p>755 rows × 9 columns</p>\n",
       "</div>"
      ],
      "text/plain": [
       "               Actual_DT     Actual_ET LI_8100_Vent Multiplexer_CO2_1  \\\n",
       "0    2019-08-15 09:55:00  1.565884e+09          NaN               NaN   \n",
       "1    2019-08-15 09:56:00  1.565885e+09          NaN               NaN   \n",
       "2    2019-08-15 09:57:00  1.565885e+09          NaN               NaN   \n",
       "3    2019-08-15 16:55:00  1.565910e+09          NaN               NaN   \n",
       "4    2019-08-15 16:56:00  1.565910e+09          NaN               NaN   \n",
       "..                   ...           ...          ...               ...   \n",
       "750  2019-11-11 21:29:00  1.573533e+09          NaN               NaN   \n",
       "751  2019-11-11 21:30:00  1.573533e+09          NaN               NaN   \n",
       "752  2019-11-12 19:24:00  1.573612e+09          NaN               NaN   \n",
       "753  2019-11-12 19:25:00  1.573612e+09          NaN               NaN   \n",
       "754  2019-11-12 19:26:00  1.573612e+09          NaN               NaN   \n",
       "\n",
       "    Multiplexer_CO2_2 Multiplexer_CO2_3 Picarro_ANEM  Picarro_CO2  \\\n",
       "0                 NaN               NaN          NaN  1.56588e+09   \n",
       "1                 NaN               NaN          NaN  1.56588e+09   \n",
       "2                 NaN               NaN          NaN  1.56588e+09   \n",
       "3                 NaN               NaN          NaN  1.56591e+09   \n",
       "4                 NaN               NaN          NaN  1.56591e+09   \n",
       "..                ...               ...          ...          ...   \n",
       "750               NaN               NaN  1.57353e+09          NaN   \n",
       "751               NaN               NaN  1.57353e+09          NaN   \n",
       "752               NaN               NaN  1.57361e+09          NaN   \n",
       "753               NaN               NaN  1.57361e+09          NaN   \n",
       "754               NaN               NaN  1.57361e+09          NaN   \n",
       "\n",
       "     Vent_Anem_Temp  \n",
       "0               NaN  \n",
       "1               NaN  \n",
       "2               NaN  \n",
       "3               NaN  \n",
       "4               NaN  \n",
       "..              ...  \n",
       "750             NaN  \n",
       "751             NaN  \n",
       "752             NaN  \n",
       "753             NaN  \n",
       "754             NaN  \n",
       "\n",
       "[755 rows x 9 columns]"
      ]
     },
     "execution_count": 32,
     "metadata": {},
     "output_type": "execute_result"
    }
   ],
   "source": [
    "#actual_spike_df = pd.DataFrame(columns=['Actual_DT','Actual_ET','Picarro_ANEM','Picarro_CO2','LI_8100_Vent','Multiplexer_CO2_1','Multiplexer_CO2_2','Multiplexer_CO2_3'])\n",
    "actual_spike_df = pd.read_pickle('All_actualET_Spikes.pkl')\n",
    "actual_spike_df"
   ]
  },
  {
   "cell_type": "code",
   "execution_count": 118,
   "metadata": {},
   "outputs": [
    {
     "data": {
      "image/png": "[encoded data removed]",
      "text/plain": [
       "<Figure size 432x288 with 1 Axes>"
      ]
     },
     "metadata": {
      "needs_background": "light"
     },
     "output_type": "display_data"
    },
    {
     "name": "stdin",
     "output_type": "stream",
     "text": [
      "Is this an acceptable range?  n\n",
      "Input Start DateTime as YYYY-mm-DD HH:MM:SS -  2019-11-14 08:31:00\n",
      "Input End DateTime as YYYY-mm-DD HH:MM:SS -  2019-11-14 08:51:00\n"
     ]
    },
    {
     "data": {
      "image/png": "[encoded data removed]",
      "text/plain": [
       "<Figure size 432x288 with 1 Axes>"
      ]
     },
     "metadata": {
      "needs_background": "light"
     },
     "output_type": "display_data"
    },
    {
     "name": "stdin",
     "output_type": "stream",
     "text": [
      "Is this an acceptable range?  y\n"
     ]
    },
    {
     "data": {
      "image/png": "[encoded data removed]",
      "text/plain": [
       "<Figure size 432x288 with 1 Axes>"
      ]
     },
     "metadata": {
      "needs_background": "light"
     },
     "output_type": "display_data"
    },
    {
     "name": "stdin",
     "output_type": "stream",
     "text": [
      "Enter the threshold value which all spikes go above:  4000\n"
     ]
    },
    {
     "data": {
      "image/png": "[encoded data removed]",
      "text/plain": [
       "<Figure size 1080x216 with 1 Axes>"
      ]
     },
     "metadata": {
      "needs_background": "light"
     },
     "output_type": "display_data"
    },
    {
     "name": "stdin",
     "output_type": "stream",
     "text": [
      "Is the spike start in the correct spot? y\n"
     ]
    },
    {
     "data": {
      "image/png": "[encoded data removed]",
      "text/plain": [
       "<Figure size 1080x216 with 1 Axes>"
      ]
     },
     "metadata": {
      "needs_background": "light"
     },
     "output_type": "display_data"
    },
    {
     "name": "stdin",
     "output_type": "stream",
     "text": [
      "Is the spike start in the correct spot? y\n"
     ]
    },
    {
     "data": {
      "image/png": "[encoded data removed]",
      "text/plain": [
       "<Figure size 1080x216 with 1 Axes>"
      ]
     },
     "metadata": {
      "needs_background": "light"
     },
     "output_type": "display_data"
    },
    {
     "name": "stdin",
     "output_type": "stream",
     "text": [
      "Is the spike start in the correct spot? y\n",
      "Actual datetime for this (0) spike?  2019-11-14 08:31:00\n",
      "Actual datetime for this (1) spike?  2019-11-14 08:32:00\n",
      "Actual datetime for this (2) spike?  2019-11-14 08:33:00\n",
      "More LI_vent spikes?  n\n"
     ]
    }
   ],
   "source": [
    "# actual_spike_df = create_actual_spike(actual_spike_df,Vent_Anem_Temp_df=Vent_Anem_Temp)\n",
    "# more_spikes = input(\"More Vent_Anem_Temp spikes? \")\n",
    "# while more_spikes == 'y':\n",
    "#     actual_spike_df = create_actual_spike(actual_spike_df,Vent_Anem_Temp_df=Vent_Anem_Temp)\n",
    "#     more_spikes = input(\"More Vent_Anem_Temp spikes? \")\n",
    "    \n",
    "# actual_spike_df = create_actual_spike(actual_spike_df,Picarro_CO2_df = Picarro)\n",
    "# more_spikes = input(\"More Picarro spikes? \")\n",
    "# while more_spikes == 'y':\n",
    "#     actual_spike_df = create_actual_spike(actual_spike_df,Picarro_CO2_df = Picarro)\n",
    "#     more_spikes = input(\"More Picarro spikes? \")\n",
    "    \n",
    "# actual_spike_df = create_actual_spike(actual_spike_df,Picarro_ANEM_df = Picarro)\n",
    "# more_spikes = input(\"More Picarro spikes? \")\n",
    "# while more_spikes == 'y':\n",
    "#     actual_spike_df = create_actual_spike(actual_spike_df,Picarro_ANEM_df = Picarro)\n",
    "#     more_spikes = input(\"More Picarro spikes? \")\n",
    "    \n",
    "# actual_spike_df = create_actual_spike(actual_spike_df,Multiplexer_df = Multiplexer)\n",
    "# more_spikes = input(\"More Multiplexer spikes? \")\n",
    "# while more_spikes == 'y':\n",
    "#     actual_spike_df = create_actual_spike(actual_spike_df,Multiplexer_df = Multiplexer)\n",
    "#     more_spikes = input(\"More Multiplexer spikes? \")\n",
    "\n",
    "actual_spike_df = create_actual_spike(actual_spike_df,LI_vent_df = LI_vent)\n",
    "more_spikes = input(\"More LI_vent spikes? \")\n",
    "while more_spikes == 'y':\n",
    "    actual_spike_df = create_actual_spike(actual_spike_df,LI_vent_df = LI_vent)\n",
    "    more_spikes = input(\"More LI_vent spikes? \")\n"
   ]
  },
  {
   "cell_type": "code",
   "execution_count": 81,
   "metadata": {},
   "outputs": [],
   "source": [
    "#actual_spike_df.drop(len(actual_spike_df)-1,inplace=True)\n"
   ]
  },
  {
   "cell_type": "code",
   "execution_count": 119,
   "metadata": {
    "scrolled": true
   },
   "outputs": [
    {
     "data": {
      "text/html": [
       "<div>\n",
       "<style scoped>\n",
       "    .dataframe tbody tr th:only-of-type {\n",
       "        vertical-align: middle;\n",
       "    }\n",
       "\n",
       "    .dataframe tbody tr th {\n",
       "        vertical-align: top;\n",
       "    }\n",
       "\n",
       "    .dataframe thead th {\n",
       "        text-align: right;\n",
       "    }\n",
       "</style>\n",
       "<table border=\"1\" class=\"dataframe\">\n",
       "  <thead>\n",
       "    <tr style=\"text-align: right;\">\n",
       "      <th></th>\n",
       "      <th>Actual_DT</th>\n",
       "      <th>LI_8100_Vent</th>\n",
       "    </tr>\n",
       "  </thead>\n",
       "  <tbody>\n",
       "    <tr>\n",
       "      <td>801</td>\n",
       "      <td>2019-11-12 19:06:00</td>\n",
       "      <td>-968</td>\n",
       "    </tr>\n",
       "    <tr>\n",
       "      <td>802</td>\n",
       "      <td>2019-11-12 19:07:00</td>\n",
       "      <td>-969</td>\n",
       "    </tr>\n",
       "    <tr>\n",
       "      <td>803</td>\n",
       "      <td>2019-11-14 08:31:00</td>\n",
       "      <td>-965</td>\n",
       "    </tr>\n",
       "    <tr>\n",
       "      <td>804</td>\n",
       "      <td>2019-11-14 08:32:00</td>\n",
       "      <td>-965</td>\n",
       "    </tr>\n",
       "    <tr>\n",
       "      <td>805</td>\n",
       "      <td>2019-11-14 08:33:00</td>\n",
       "      <td>-965</td>\n",
       "    </tr>\n",
       "  </tbody>\n",
       "</table>\n",
       "</div>"
      ],
      "text/plain": [
       "               Actual_DT LI_8100_Vent\n",
       "801  2019-11-12 19:06:00         -968\n",
       "802  2019-11-12 19:07:00         -969\n",
       "803  2019-11-14 08:31:00         -965\n",
       "804  2019-11-14 08:32:00         -965\n",
       "805  2019-11-14 08:33:00         -965"
      ]
     },
     "execution_count": 119,
     "metadata": {},
     "output_type": "execute_result"
    }
   ],
   "source": [
    "lags = create_lag_df(actual_spike_df)\n",
    "pd.set_option('display.max_rows', 1000)\n",
    "# a = lags[['Actual_DT','Picarro_ANEM']].dropna().set_index('Actual_DT')\n",
    "# c = lags[['Actual_DT','Picarro_CO2']].dropna().set_index('Actual_DT')\n",
    "# df = pd.concat([a,c],axis=1,sort=True).dropna().tail()\n",
    "# df['diff'] = df.apply(lambda row: row['Picarro_CO2']-row['Picarro_ANEM'],axis=1)\n",
    "# df\n",
    "\n",
    "#lags[['Actual_DT','Multiplexer_CO2_1','Multiplexer_CO2_2','Multiplexer_CO2_3']].dropna().tail()\n",
    "\n",
    "lags[['Actual_DT','LI_8100_Vent']].dropna().tail()"
   ]
  },
  {
   "cell_type": "code",
   "execution_count": 120,
   "metadata": {},
   "outputs": [
    {
     "data": {
      "image/png": "[encoded data removed]",
      "text/plain": [
       "<Figure size 1080x540 with 1 Axes>"
      ]
     },
     "metadata": {
      "needs_background": "light"
     },
     "output_type": "display_data"
    }
   ],
   "source": [
    "fig,ax=plt.subplots(figsize=[15,7.5])\n",
    "ax.scatter(lags['Actual_ET'],lags['LI_8100_Vent'])\n",
    "#ax.scatter(lags['Actual_ET'],lags['Picarro_CO2'],color = 'red')\n",
    "ax.set_ylabel('Lag Time (s)',size=20)\n",
    "ax.set_xlabel('Time (s)',size=20)\n",
    "ax.set_title('Lag Time Drift in LiCOR',size=30)\n",
    "plt.show()"
   ]
  },
  {
   "cell_type": "code",
   "execution_count": 122,
   "metadata": {},
   "outputs": [],
   "source": [
    "pd.to_pickle(actual_spike_df,'All_actualET_Spikes.pkl')"
   ]
  },
  {
   "cell_type": "code",
   "execution_count": null,
   "metadata": {},
   "outputs": [],
   "source": []
  }
 ],
 "metadata": {
  "kernelspec": {
   "display_name": "Python 3",
   "language": "python",
   "name": "python3"
  },
  "language_info": {
   "codemirror_mode": {
    "name": "ipython",
    "version": 3
   },
   "file_extension": ".py",
   "mimetype": "text/x-python",
   "name": "python",
   "nbconvert_exporter": "python",
   "pygments_lexer": "ipython3",
   "version": "3.7.1"
  }
 },
 "nbformat": 4,
 "nbformat_minor": 4
}
