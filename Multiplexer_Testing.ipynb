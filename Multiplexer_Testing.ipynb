{
 "cells": [
  {
   "cell_type": "code",
   "execution_count": null,
   "metadata": {},
   "outputs": [],
   "source": [
    "#IMPORT NECESSARY PACKAGES\n",
    "import CO2_functions\n",
    "import CO2_Processing\n",
    "import pandas as pd\n",
    "from CO2_functions import *\n",
    "from CO2_Processing import *\n",
    "import matplotlib.pyplot as plt\n",
    "import pickle\n",
    "import numpy as np\n",
    "pd.options.display.max_rows = 999\n",
    "from datetime import datetime\n",
    "import os"
   ]
  },
  {
   "cell_type": "code",
   "execution_count": null,
   "metadata": {},
   "outputs": [],
   "source": [
    "import importlib\n",
    "importlib.reload(CO2_functions)\n",
    "importlib.reload(CO2_Processing)\n",
    "\n",
    "from CO2_functions import *\n",
    "from CO2_Processing import *"
   ]
  },
  {
   "cell_type": "code",
   "execution_count": null,
   "metadata": {},
   "outputs": [],
   "source": [
    "data = retrieve_data_from_folder('../CO2_Data_Final','2019-11-06','2019-11-27')"
   ]
  },
  {
   "cell_type": "code",
   "execution_count": null,
   "metadata": {},
   "outputs": [],
   "source": [
    "data = remove_spikes(pd.read_pickle('Spike_ETs.pkl'),data)\n",
    "data = downsample_and_concatenate(data) \n",
    "data = combine_vent_data(data,1)\n",
    "data['Vent_Mass'] = moving_mass_flow(data['Vent_Mass'])"
   ]
  },
  {
   "cell_type": "code",
   "execution_count": null,
   "metadata": {},
   "outputs": [],
   "source": [
    "for i in range(1,4):\n",
    "    data['Multi'].loc[(data['Multi']['CO2_{}'.format(i)] < 395)|(data['Multi']['CO2_{}'.format(i)] > 600)] = float('NaN')\n",
    "data['Multi'].interpolate(limit=1,inplace=True)"
   ]
  },
  {
   "cell_type": "code",
   "execution_count": null,
   "metadata": {},
   "outputs": [],
   "source": [
    "multi = data['Multi'].copy()\n",
    "multi = multi.loc[multi['Multi_Loc']<2.0]"
   ]
  },
  {
   "cell_type": "code",
   "execution_count": null,
   "metadata": {},
   "outputs": [],
   "source": [
    "#data['Multi'] = data['Multi'].resample('1T').agg(dict(Rotations='sum',Wind_Velocity='mean',Wind_Direction = 'mean'))\n"
   ]
  },
  {
   "cell_type": "code",
   "execution_count": null,
   "metadata": {},
   "outputs": [],
   "source": [
    "plot_refinement_all([[data['Multi'],'Corrected_DT','CO2_3']],'separate')"
   ]
  },
  {
   "cell_type": "code",
   "execution_count": null,
   "metadata": {},
   "outputs": [],
   "source": [
    "#multi = data['Multi']\n",
    "multi = multi[['CO2_1','CO2_2','CO2_3','Temp','Rotations','Wind_Velocity','Wind_Direction','Multi_Loc','DOW']]\n",
    "multi = multi_direction_correction(multi)\n",
    "multi.columns = ['CO2_1','CO2_2','CO2_3','Temp','Rotations','ws','wd','Multi_Loc','DOW']\n",
    "multi1 = multi.loc[multi['ws']>2.0].dropna()"
   ]
  },
  {
   "cell_type": "code",
   "execution_count": null,
   "metadata": {},
   "outputs": [],
   "source": [
    "#Import everything to view graphics\n",
    "import rpy2\n",
    "import rpy2.robjects as ro\n",
    "from rpy2.robjects.packages import importr\n",
    "from rpy2.robjects import r, pandas2ri\n",
    "from rpy2.robjects.lib import grdevices\n",
    "base = importr('base')\n",
    "utils = importr('utils')\n",
    "import IPython\n",
    "from IPython.display import Image, display\n",
    "graphics = importr('graphics')\n",
    "utils.chooseCRANmirror(ind=1) # select the first mirror in the list\n",
    "if not ro.packages.isinstalled('openair'):\n",
    "    utils.install_packages('openair')\n",
    "\n",
    "df = multi1\n",
    "\n",
    "r=ro.r #set r object to \"r\"\n",
    "r.library('openair') #load library openair\n",
    "\n",
    "pandas2ri.activate() #activate the pandas to r dataframe function\n",
    "r_dataframe = pandas2ri.py2ri(df) #convert pandas df to r df\n",
    "\n",
    "with rpy2.robjects.lib.grdevices.render_to_bytesio(grdevices.png, width=900, height=700, res=150) as img: #graphical settings\n",
    "    #r.polarAnnulus(r_dataframe,poll = pollutant,period='hour',main='Hour',width = 'fat')  # setup plot through r\n",
    "    r.polarPlot(r_dataframe,poll='CO2_2',statistic='cpf',percentile=80)  # setup plot through r\n",
    "\n",
    "IPython.display.display(IPython.display.Image(data=img.getvalue(), format='png', embed=True)) #display plot"
   ]
  }
 ],
 "metadata": {
  "kernelspec": {
   "display_name": "Python CO2_Eddy",
   "language": "python",
   "name": "co2_eddy"
  },
  "language_info": {
   "codemirror_mode": {
    "name": "ipython",
    "version": 3
   },
   "file_extension": ".py",
   "mimetype": "text/x-python",
   "name": "python",
   "nbconvert_exporter": "python",
   "pygments_lexer": "ipython3",
   "version": "3.7.6"
  }
 },
 "nbformat": 4,
 "nbformat_minor": 2
}
